{
 "cells": [
  {
   "cell_type": "code",
   "execution_count": 1,
   "id": "98319837",
   "metadata": {
    "id": "98319837"
   },
   "outputs": [],
   "source": [
    "import pandas as pd\n",
    "import numpy as np\n",
    "import matplotlib.pyplot as plt\n",
    "%matplotlib inline\n",
    "import warnings\n",
    "import seaborn as sns"
   ]
  },
  {
   "cell_type": "code",
   "execution_count": 2,
   "id": "d52e3430",
   "metadata": {
    "id": "d52e3430"
   },
   "outputs": [],
   "source": [
    "# Variable -->Description\n",
    "\n",
    "# UserID -->Unique ID of user\n",
    "# Buy_ticket -->Buy ticket in next month\n",
    "# Yearly_avg_view_on_travel_page -->Average yearly views on any travel related page by user\n",
    "# preferred_device -->Through which device user preferred to do login\n",
    "# total_likes_on_outstation_checkin_ given -->Total number of likes given by a user on out of station  checkings in last year\n",
    "# yearly_avg_Outstation_checkins -->Average number of out of station check-in done by user\n",
    "# member_in_family -->Total number of relationship mentioned by user in the  account\n",
    "# preferred_location_type -->Preferred type of the location for travelling of user\n",
    "# Yearly_avg_comment_on_travel_page -->Average yearly comments on any travel related page by user\n",
    "# total_likes_on_outofstation_checki n_received -->Total number of likes received by a user on out of station  checkings in last year\n",
    "# week_since_last_outstation_checkin -->Number of weeks since last out of station check-in update by  user\n",
    "# following_company_page -->Weather the customer is following company page (Yes or No)\n",
    "# montly_avg_comment_on_compan y_page -->Average monthly comments on company page by user\n",
    "# working_flag -->Weather the customer is working or not\n",
    "# travelling_network_rating -->Does user have close friends who also like travelling. 1 is  highs and 4 is lowest\n",
    "# Adult_flag -->Weather the customer is adult or not\n",
    "# Daily_Avg_mins_spend_on_traveling_page -->Average time spend on the company page by user on daily  basis"
   ]
  },
  {
   "cell_type": "code",
   "execution_count": 3,
   "id": "dce3ecd6",
   "metadata": {
    "id": "dce3ecd6",
    "outputId": "55e865d5-8c98-4713-dd4e-b053566e87af"
   },
   "outputs": [
    {
     "data": {
      "text/html": [
       "<div>\n",
       "<style scoped>\n",
       "    .dataframe tbody tr th:only-of-type {\n",
       "        vertical-align: middle;\n",
       "    }\n",
       "\n",
       "    .dataframe tbody tr th {\n",
       "        vertical-align: top;\n",
       "    }\n",
       "\n",
       "    .dataframe thead th {\n",
       "        text-align: right;\n",
       "    }\n",
       "</style>\n",
       "<table border=\"1\" class=\"dataframe\">\n",
       "  <thead>\n",
       "    <tr style=\"text-align: right;\">\n",
       "      <th></th>\n",
       "      <th>UserID</th>\n",
       "      <th>Taken_product</th>\n",
       "      <th>Yearly_avg_view_on_travel_page</th>\n",
       "      <th>preferred_device</th>\n",
       "      <th>total_likes_on_outstation_checkin_given</th>\n",
       "      <th>yearly_avg_Outstation_checkins</th>\n",
       "      <th>member_in_family</th>\n",
       "      <th>preferred_location_type</th>\n",
       "      <th>Yearly_avg_comment_on_travel_page</th>\n",
       "      <th>total_likes_on_outofstation_checkin_received</th>\n",
       "      <th>week_since_last_outstation_checkin</th>\n",
       "      <th>following_company_page</th>\n",
       "      <th>montly_avg_comment_on_company_page</th>\n",
       "      <th>working_flag</th>\n",
       "      <th>travelling_network_rating</th>\n",
       "      <th>Adult_flag</th>\n",
       "      <th>Daily_Avg_mins_spend_on_traveling_page</th>\n",
       "    </tr>\n",
       "  </thead>\n",
       "  <tbody>\n",
       "    <tr>\n",
       "      <th>0</th>\n",
       "      <td>1000001</td>\n",
       "      <td>Yes</td>\n",
       "      <td>307.0</td>\n",
       "      <td>iOS and Android</td>\n",
       "      <td>38570.0</td>\n",
       "      <td>1</td>\n",
       "      <td>2</td>\n",
       "      <td>Financial</td>\n",
       "      <td>94.0</td>\n",
       "      <td>5993</td>\n",
       "      <td>8</td>\n",
       "      <td>Yes</td>\n",
       "      <td>11</td>\n",
       "      <td>No</td>\n",
       "      <td>1</td>\n",
       "      <td>0</td>\n",
       "      <td>8</td>\n",
       "    </tr>\n",
       "    <tr>\n",
       "      <th>1</th>\n",
       "      <td>1000002</td>\n",
       "      <td>No</td>\n",
       "      <td>367.0</td>\n",
       "      <td>iOS</td>\n",
       "      <td>9765.0</td>\n",
       "      <td>1</td>\n",
       "      <td>1</td>\n",
       "      <td>Financial</td>\n",
       "      <td>61.0</td>\n",
       "      <td>5130</td>\n",
       "      <td>1</td>\n",
       "      <td>No</td>\n",
       "      <td>23</td>\n",
       "      <td>Yes</td>\n",
       "      <td>4</td>\n",
       "      <td>1</td>\n",
       "      <td>10</td>\n",
       "    </tr>\n",
       "    <tr>\n",
       "      <th>2</th>\n",
       "      <td>1000003</td>\n",
       "      <td>Yes</td>\n",
       "      <td>277.0</td>\n",
       "      <td>iOS and Android</td>\n",
       "      <td>48055.0</td>\n",
       "      <td>1</td>\n",
       "      <td>2</td>\n",
       "      <td>Other</td>\n",
       "      <td>92.0</td>\n",
       "      <td>2090</td>\n",
       "      <td>6</td>\n",
       "      <td>Yes</td>\n",
       "      <td>15</td>\n",
       "      <td>No</td>\n",
       "      <td>2</td>\n",
       "      <td>0</td>\n",
       "      <td>7</td>\n",
       "    </tr>\n",
       "    <tr>\n",
       "      <th>3</th>\n",
       "      <td>1000004</td>\n",
       "      <td>No</td>\n",
       "      <td>247.0</td>\n",
       "      <td>iOS</td>\n",
       "      <td>48720.0</td>\n",
       "      <td>1</td>\n",
       "      <td>4</td>\n",
       "      <td>Financial</td>\n",
       "      <td>56.0</td>\n",
       "      <td>2909</td>\n",
       "      <td>1</td>\n",
       "      <td>Yes</td>\n",
       "      <td>11</td>\n",
       "      <td>No</td>\n",
       "      <td>3</td>\n",
       "      <td>0</td>\n",
       "      <td>8</td>\n",
       "    </tr>\n",
       "    <tr>\n",
       "      <th>4</th>\n",
       "      <td>1000005</td>\n",
       "      <td>No</td>\n",
       "      <td>202.0</td>\n",
       "      <td>iOS and Android</td>\n",
       "      <td>20685.0</td>\n",
       "      <td>1</td>\n",
       "      <td>1</td>\n",
       "      <td>Medical</td>\n",
       "      <td>40.0</td>\n",
       "      <td>3468</td>\n",
       "      <td>9</td>\n",
       "      <td>No</td>\n",
       "      <td>12</td>\n",
       "      <td>No</td>\n",
       "      <td>4</td>\n",
       "      <td>1</td>\n",
       "      <td>6</td>\n",
       "    </tr>\n",
       "  </tbody>\n",
       "</table>\n",
       "</div>"
      ],
      "text/plain": [
       "    UserID Taken_product  Yearly_avg_view_on_travel_page preferred_device  \\\n",
       "0  1000001           Yes                           307.0  iOS and Android   \n",
       "1  1000002            No                           367.0              iOS   \n",
       "2  1000003           Yes                           277.0  iOS and Android   \n",
       "3  1000004            No                           247.0              iOS   \n",
       "4  1000005            No                           202.0  iOS and Android   \n",
       "\n",
       "   total_likes_on_outstation_checkin_given yearly_avg_Outstation_checkins  \\\n",
       "0                                  38570.0                              1   \n",
       "1                                   9765.0                              1   \n",
       "2                                  48055.0                              1   \n",
       "3                                  48720.0                              1   \n",
       "4                                  20685.0                              1   \n",
       "\n",
       "  member_in_family preferred_location_type  Yearly_avg_comment_on_travel_page  \\\n",
       "0                2               Financial                               94.0   \n",
       "1                1               Financial                               61.0   \n",
       "2                2                   Other                               92.0   \n",
       "3                4               Financial                               56.0   \n",
       "4                1                 Medical                               40.0   \n",
       "\n",
       "   total_likes_on_outofstation_checkin_received  \\\n",
       "0                                          5993   \n",
       "1                                          5130   \n",
       "2                                          2090   \n",
       "3                                          2909   \n",
       "4                                          3468   \n",
       "\n",
       "   week_since_last_outstation_checkin following_company_page  \\\n",
       "0                                   8                    Yes   \n",
       "1                                   1                     No   \n",
       "2                                   6                    Yes   \n",
       "3                                   1                    Yes   \n",
       "4                                   9                     No   \n",
       "\n",
       "   montly_avg_comment_on_company_page working_flag  travelling_network_rating  \\\n",
       "0                                  11           No                          1   \n",
       "1                                  23          Yes                          4   \n",
       "2                                  15           No                          2   \n",
       "3                                  11           No                          3   \n",
       "4                                  12           No                          4   \n",
       "\n",
       "   Adult_flag  Daily_Avg_mins_spend_on_traveling_page  \n",
       "0           0                                       8  \n",
       "1           1                                      10  \n",
       "2           0                                       7  \n",
       "3           0                                       8  \n",
       "4           1                                       6  "
      ]
     },
     "execution_count": 3,
     "metadata": {},
     "output_type": "execute_result"
    }
   ],
   "source": [
    "#importing the dataset\n",
    "\n",
    "data = pd.read_csv(\"E:/social_Media_data.csv\")\n",
    "data.head()"
   ]
  },
  {
   "cell_type": "code",
   "execution_count": 4,
   "id": "a03f450f",
   "metadata": {
    "id": "a03f450f",
    "outputId": "102c2421-43ad-4d72-e807-7d8d740f6567"
   },
   "outputs": [
    {
     "data": {
      "text/plain": [
       "(11760, 17)"
      ]
     },
     "execution_count": 4,
     "metadata": {},
     "output_type": "execute_result"
    }
   ],
   "source": [
    "data.shape"
   ]
  },
  {
   "cell_type": "code",
   "execution_count": 5,
   "id": "2a3b56fb",
   "metadata": {
    "id": "2a3b56fb",
    "outputId": "6a5305e7-9ca2-426e-b281-1ff9c2e8b597"
   },
   "outputs": [
    {
     "data": {
      "text/plain": [
       "No     9864\n",
       "Yes    1896\n",
       "Name: Taken_product, dtype: int64"
      ]
     },
     "execution_count": 5,
     "metadata": {},
     "output_type": "execute_result"
    }
   ],
   "source": [
    "data['Taken_product'].value_counts()"
   ]
  },
  {
   "cell_type": "code",
   "execution_count": 6,
   "id": "d9ea92ca",
   "metadata": {
    "id": "d9ea92ca",
    "outputId": "4f08ed7b-d249-4329-96a9-e9752e7761ff"
   },
   "outputs": [
    {
     "data": {
      "text/plain": [
       "Index(['UserID', 'Taken_product', 'Yearly_avg_view_on_travel_page',\n",
       "       'preferred_device', 'total_likes_on_outstation_checkin_given',\n",
       "       'yearly_avg_Outstation_checkins', 'member_in_family',\n",
       "       'preferred_location_type', 'Yearly_avg_comment_on_travel_page',\n",
       "       'total_likes_on_outofstation_checkin_received',\n",
       "       'week_since_last_outstation_checkin', 'following_company_page',\n",
       "       'montly_avg_comment_on_company_page', 'working_flag',\n",
       "       'travelling_network_rating', 'Adult_flag',\n",
       "       'Daily_Avg_mins_spend_on_traveling_page'],\n",
       "      dtype='object')"
      ]
     },
     "execution_count": 6,
     "metadata": {},
     "output_type": "execute_result"
    }
   ],
   "source": [
    "data.columns"
   ]
  },
  {
   "cell_type": "code",
   "execution_count": 7,
   "id": "eb491152",
   "metadata": {
    "id": "eb491152",
    "outputId": "ae428dd9-f426-456e-e34e-936658b534ee"
   },
   "outputs": [
    {
     "name": "stdout",
     "output_type": "stream",
     "text": [
      "<class 'pandas.core.frame.DataFrame'>\n",
      "RangeIndex: 11760 entries, 0 to 11759\n",
      "Data columns (total 17 columns):\n",
      " #   Column                                        Non-Null Count  Dtype  \n",
      "---  ------                                        --------------  -----  \n",
      " 0   UserID                                        11760 non-null  int64  \n",
      " 1   Taken_product                                 11760 non-null  object \n",
      " 2   Yearly_avg_view_on_travel_page                11179 non-null  float64\n",
      " 3   preferred_device                              11707 non-null  object \n",
      " 4   total_likes_on_outstation_checkin_given       11379 non-null  float64\n",
      " 5   yearly_avg_Outstation_checkins                11685 non-null  object \n",
      " 6   member_in_family                              11760 non-null  object \n",
      " 7   preferred_location_type                       11729 non-null  object \n",
      " 8   Yearly_avg_comment_on_travel_page             11554 non-null  float64\n",
      " 9   total_likes_on_outofstation_checkin_received  11760 non-null  int64  \n",
      " 10  week_since_last_outstation_checkin            11760 non-null  int64  \n",
      " 11  following_company_page                        11657 non-null  object \n",
      " 12  montly_avg_comment_on_company_page            11760 non-null  int64  \n",
      " 13  working_flag                                  11760 non-null  object \n",
      " 14  travelling_network_rating                     11760 non-null  int64  \n",
      " 15  Adult_flag                                    11760 non-null  int64  \n",
      " 16  Daily_Avg_mins_spend_on_traveling_page        11760 non-null  int64  \n",
      "dtypes: float64(3), int64(7), object(7)\n",
      "memory usage: 1.5+ MB\n"
     ]
    }
   ],
   "source": [
    "data.info()"
   ]
  },
  {
   "cell_type": "code",
   "execution_count": 8,
   "id": "43d87550",
   "metadata": {
    "id": "43d87550",
    "outputId": "cdf7ca2c-7844-450d-d23c-9272101b1c1c"
   },
   "outputs": [
    {
     "data": {
      "text/plain": [
       "UserID                                            0\n",
       "Taken_product                                     0\n",
       "Yearly_avg_view_on_travel_page                  581\n",
       "preferred_device                                 53\n",
       "total_likes_on_outstation_checkin_given         381\n",
       "yearly_avg_Outstation_checkins                   75\n",
       "member_in_family                                  0\n",
       "preferred_location_type                          31\n",
       "Yearly_avg_comment_on_travel_page               206\n",
       "total_likes_on_outofstation_checkin_received      0\n",
       "week_since_last_outstation_checkin                0\n",
       "following_company_page                          103\n",
       "montly_avg_comment_on_company_page                0\n",
       "working_flag                                      0\n",
       "travelling_network_rating                         0\n",
       "Adult_flag                                        0\n",
       "Daily_Avg_mins_spend_on_traveling_page            0\n",
       "dtype: int64"
      ]
     },
     "execution_count": 8,
     "metadata": {},
     "output_type": "execute_result"
    }
   ],
   "source": [
    "data.isnull().sum()\n"
   ]
  },
  {
   "cell_type": "code",
   "execution_count": 9,
   "id": "9b38045a",
   "metadata": {
    "id": "4478f2ab",
    "outputId": "bc01eccf-773e-4fae-8fb4-fb577acc2a80"
   },
   "outputs": [
    {
     "data": {
      "text/plain": [
       "UserID                                          0.000000\n",
       "Taken_product                                   0.000000\n",
       "Yearly_avg_view_on_travel_page                  4.940476\n",
       "preferred_device                                0.450680\n",
       "total_likes_on_outstation_checkin_given         3.239796\n",
       "yearly_avg_Outstation_checkins                  0.637755\n",
       "member_in_family                                0.000000\n",
       "preferred_location_type                         0.263605\n",
       "Yearly_avg_comment_on_travel_page               1.751701\n",
       "total_likes_on_outofstation_checkin_received    0.000000\n",
       "week_since_last_outstation_checkin              0.000000\n",
       "following_company_page                          0.875850\n",
       "montly_avg_comment_on_company_page              0.000000\n",
       "working_flag                                    0.000000\n",
       "travelling_network_rating                       0.000000\n",
       "Adult_flag                                      0.000000\n",
       "Daily_Avg_mins_spend_on_traveling_page          0.000000\n",
       "dtype: float64"
      ]
     },
     "execution_count": 9,
     "metadata": {},
     "output_type": "execute_result"
    }
   ],
   "source": [
    "\n",
    "\n",
    "null_percent = data.isnull().sum()/len(data)*100\n",
    "null_percent"
   ]
  },
  {
   "cell_type": "markdown",
   "id": "daabc4c1",
   "metadata": {},
   "source": [
    "# checking the percentage of missing values"
   ]
  },
  {
   "cell_type": "code",
   "execution_count": 10,
   "id": "ea6ccd73",
   "metadata": {
    "id": "ea6ccd73",
    "outputId": "00b7b4c6-7e71-462a-e179-b45c37620f6d"
   },
   "outputs": [
    {
     "data": {
      "text/plain": [
       "Yearly_avg_view_on_travel_page             0\n",
       "total_likes_on_outstation_checkin_given    0\n",
       "Yearly_avg_comment_on_travel_page          0\n",
       "dtype: int64"
      ]
     },
     "execution_count": 10,
     "metadata": {},
     "output_type": "execute_result"
    }
   ],
   "source": [
    "#imputing the missing values using KNNImputer technique\n",
    "\n",
    "from sklearn.impute import KNNImputer\n",
    "knnimputer = KNNImputer(n_neighbors=3)\n",
    "data_Imputer = knnimputer.fit_transform(data[['Yearly_avg_view_on_travel_page','total_likes_on_outstation_checkin_given','Yearly_avg_comment_on_travel_page']])\n",
    "data_Imputer = pd.DataFrame(data_Imputer, columns = ['Yearly_avg_view_on_travel_page','total_likes_on_outstation_checkin_given','Yearly_avg_comment_on_travel_page'])\n",
    "data_Imputer.isnull().sum()"
   ]
  },
  {
   "cell_type": "code",
   "execution_count": 11,
   "id": "2d01fc6d",
   "metadata": {
    "id": "2d01fc6d"
   },
   "outputs": [],
   "source": [
    "#dropping the missing value columns from the original dataset\n",
    "\n",
    "data.drop(['Yearly_avg_view_on_travel_page','total_likes_on_outstation_checkin_given','Yearly_avg_comment_on_travel_page'],axis = 1, inplace = True)\n",
    "\n",
    "# merging the Imputed columns to the original dataset\n",
    "df_concat = pd.concat([data, data_Imputer], axis=1)\n",
    "df_concat.dropna(axis=0,inplace=True)\n",
    "df_concat.dropna(axis=1,inplace=True)\n",
    "df_concat.columns\n",
    "data=df_concat.iloc[:,:]"
   ]
  },
  {
   "cell_type": "code",
   "execution_count": 12,
   "id": "ce1c9cd8",
   "metadata": {
    "id": "ce1c9cd8",
    "outputId": "f75f0f1f-34eb-448d-cabb-9e5c21602872"
   },
   "outputs": [
    {
     "name": "stdout",
     "output_type": "stream",
     "text": [
      "<class 'pandas.core.frame.DataFrame'>\n",
      "Int64Index: 11499 entries, 0 to 11759\n",
      "Data columns (total 17 columns):\n",
      " #   Column                                        Non-Null Count  Dtype  \n",
      "---  ------                                        --------------  -----  \n",
      " 0   UserID                                        11499 non-null  int64  \n",
      " 1   Taken_product                                 11499 non-null  object \n",
      " 2   preferred_device                              11499 non-null  object \n",
      " 3   yearly_avg_Outstation_checkins                11499 non-null  object \n",
      " 4   member_in_family                              11499 non-null  object \n",
      " 5   preferred_location_type                       11499 non-null  object \n",
      " 6   total_likes_on_outofstation_checkin_received  11499 non-null  int64  \n",
      " 7   week_since_last_outstation_checkin            11499 non-null  int64  \n",
      " 8   following_company_page                        11499 non-null  object \n",
      " 9   montly_avg_comment_on_company_page            11499 non-null  int64  \n",
      " 10  working_flag                                  11499 non-null  object \n",
      " 11  travelling_network_rating                     11499 non-null  int64  \n",
      " 12  Adult_flag                                    11499 non-null  int64  \n",
      " 13  Daily_Avg_mins_spend_on_traveling_page        11499 non-null  int64  \n",
      " 14  Yearly_avg_view_on_travel_page                11499 non-null  float64\n",
      " 15  total_likes_on_outstation_checkin_given       11499 non-null  float64\n",
      " 16  Yearly_avg_comment_on_travel_page             11499 non-null  float64\n",
      "dtypes: float64(3), int64(7), object(7)\n",
      "memory usage: 1.6+ MB\n"
     ]
    }
   ],
   "source": [
    "data.info()"
   ]
  },
  {
   "cell_type": "markdown",
   "id": "a39dd732",
   "metadata": {
    "id": "a39dd732"
   },
   "source": [
    "## Data Cleaning for all the columns"
   ]
  },
  {
   "cell_type": "markdown",
   "id": "4d452a89",
   "metadata": {
    "id": "4d452a89"
   },
   "source": [
    "OBSERVATION: Checked all the column's value one by one and started to clean the values in the column"
   ]
  },
  {
   "cell_type": "code",
   "execution_count": 13,
   "id": "d7b35f7c",
   "metadata": {
    "id": "d7b35f7c",
    "outputId": "6e92a798-11a1-4522-c156-0fde3ded4552"
   },
   "outputs": [
    {
     "name": "stderr",
     "output_type": "stream",
     "text": [
      "C:\\Users\\LUCKY\\AppData\\Local\\Temp\\ipykernel_7636\\2793366947.py:10: SettingWithCopyWarning: \n",
      "A value is trying to be set on a copy of a slice from a DataFrame\n",
      "\n",
      "See the caveats in the documentation: https://pandas.pydata.org/pandas-docs/stable/user_guide/indexing.html#returning-a-view-versus-a-copy\n",
      "  data['member_in_family'].replace({\"Three\":\"3\"},inplace = True)\n",
      "C:\\Users\\LUCKY\\AppData\\Local\\Temp\\ipykernel_7636\\2793366947.py:14: SettingWithCopyWarning: \n",
      "A value is trying to be set on a copy of a slice from a DataFrame\n",
      "\n",
      "See the caveats in the documentation: https://pandas.pydata.org/pandas-docs/stable/user_guide/indexing.html#returning-a-view-versus-a-copy\n",
      "  data['preferred_location_type'].replace({\"Tour  Travel\":\"Tour and Travel\"}, inplace = True)\n",
      "C:\\Users\\LUCKY\\AppData\\Local\\Temp\\ipykernel_7636\\2793366947.py:18: SettingWithCopyWarning: \n",
      "A value is trying to be set on a copy of a slice from a DataFrame\n",
      "\n",
      "See the caveats in the documentation: https://pandas.pydata.org/pandas-docs/stable/user_guide/indexing.html#returning-a-view-versus-a-copy\n",
      "  data['following_company_page'].replace({\"Yes\":\"1\", \"No\":\"0\"}, inplace = True)\n",
      "C:\\Users\\LUCKY\\AppData\\Local\\Temp\\ipykernel_7636\\2793366947.py:22: SettingWithCopyWarning: \n",
      "A value is trying to be set on a copy of a slice from a DataFrame.\n",
      "Try using .loc[row_indexer,col_indexer] = value instead\n",
      "\n",
      "See the caveats in the documentation: https://pandas.pydata.org/pandas-docs/stable/user_guide/indexing.html#returning-a-view-versus-a-copy\n",
      "  data.Yearly_avg_view_on_travel_page = data.Yearly_avg_view_on_travel_page.round()\n",
      "C:\\Users\\LUCKY\\AppData\\Local\\Temp\\ipykernel_7636\\2793366947.py:26: SettingWithCopyWarning: \n",
      "A value is trying to be set on a copy of a slice from a DataFrame.\n",
      "Try using .loc[row_indexer,col_indexer] = value instead\n",
      "\n",
      "See the caveats in the documentation: https://pandas.pydata.org/pandas-docs/stable/user_guide/indexing.html#returning-a-view-versus-a-copy\n",
      "  data.Yearly_avg_comment_on_travel_page = data.Yearly_avg_comment_on_travel_page.round()\n",
      "C:\\Users\\LUCKY\\AppData\\Local\\Temp\\ipykernel_7636\\2793366947.py:30: SettingWithCopyWarning: \n",
      "A value is trying to be set on a copy of a slice from a DataFrame\n",
      "\n",
      "See the caveats in the documentation: https://pandas.pydata.org/pandas-docs/stable/user_guide/indexing.html#returning-a-view-versus-a-copy\n",
      "  data['Adult_flag'].replace({2:1,3:1}, inplace = True)\n"
     ]
    }
   ],
   "source": [
    "#converted values in preferred device column\n",
    "from sklearn.ensemble import RandomForestRegressor\n",
    "rf = RandomForestRegressor(n_estimators = 1000, random_state = 42, oob_score = True)\n",
    "rf.fit(X_train_sm, Y_train_sm);#df['preferred_device'].unique()\n",
    "\n",
    "#Removing * from column- 'yearly_avg_Outstation_checkins'\n",
    "data= data[data['yearly_avg_Outstation_checkins'] != '*']\n",
    "#df['yearly_avg_Outstation_checkins'].unique()\n",
    "\n",
    "#Replacing Three to '3' in column- 'member_in_family'\n",
    "data['member_in_family'].replace({\"Three\":\"3\"},inplace = True)\n",
    "#df['member_in_family'].unique()\n",
    "\n",
    "#Replacing Values in column- 'preferred_location_type'\n",
    "data['preferred_location_type'].replace({\"Tour  Travel\":\"Tour and Travel\"}, inplace = True)\n",
    "#df['preferred_location_type'].unique()\n",
    "\n",
    "#Replacing Yes and No to 1 and 0 in column- 'following_company_page'\n",
    "data['following_company_page'].replace({\"Yes\":\"1\", \"No\":\"0\"}, inplace = True)\n",
    "#df['following_company_page'].unique()\n",
    "\n",
    "#Round off values in column- 'Yearly_avg_view_on_travel_page'\n",
    "data.Yearly_avg_view_on_travel_page = data.Yearly_avg_view_on_travel_page.round()\n",
    "#df['Yearly_avg_view_on_travel_page'].unique()\n",
    "\n",
    "#Round off values in column- 'Yearly_avg_comment_on_travel_page'\n",
    "data.Yearly_avg_comment_on_travel_page = data.Yearly_avg_comment_on_travel_page.round()\n",
    "#df['Yearly_avg_comment_on_travel_page'].unique()\n",
    "\n",
    "#changing adult flag 0 to 0 and others to 1\n",
    "data['Adult_flag'].replace({2:1,3:1}, inplace = True)\n",
    "#df['Adult_flag'].unique()"
   ]
  },
  {
   "cell_type": "markdown",
   "id": "588bfb9e",
   "metadata": {
    "id": "588bfb9e"
   },
   "source": [
    "## Checking for outliers "
   ]
  },
  {
   "cell_type": "code",
   "execution_count": 14,
   "id": "6329642f",
   "metadata": {
    "id": "6329642f",
    "outputId": "c5255e37-066a-4fe1-9be4-0f844c573161"
   },
   "outputs": [
    {
     "data": {
      "text/plain": [
       "(11498, 17)"
      ]
     },
     "execution_count": 14,
     "metadata": {},
     "output_type": "execute_result"
    }
   ],
   "source": [
    "data.shape"
   ]
  },
  {
   "cell_type": "code",
   "execution_count": 15,
   "id": "33bdf9ae",
   "metadata": {},
   "outputs": [
    {
     "name": "stderr",
     "output_type": "stream",
     "text": [
      "E:\\DATA SCIENCE\\anaconda\\lib\\site-packages\\seaborn\\_decorators.py:36: FutureWarning: Pass the following variable as a keyword arg: x. From version 0.12, the only valid positional argument will be `data`, and passing other arguments without an explicit keyword will result in an error or misinterpretation.\n",
      "  warnings.warn(\n"
     ]
    },
    {
     "data": {
      "text/plain": [
       "<AxesSubplot:xlabel='montly_avg_comment_on_company_page'>"
      ]
     },
     "execution_count": 15,
     "metadata": {},
     "output_type": "execute_result"
    },
    {
     "data": {
      "image/png": "[encoded data removed]",
      "text/plain": [
       "<Figure size 432x288 with 1 Axes>"
      ]
     },
     "metadata": {
      "needs_background": "light"
     },
     "output_type": "display_data"
    }
   ],
   "source": [
    "sns.boxplot(data['montly_avg_comment_on_company_page'])"
   ]
  },
  {
   "cell_type": "code",
   "execution_count": 16,
   "id": "de7a7e2c",
   "metadata": {},
   "outputs": [
    {
     "name": "stderr",
     "output_type": "stream",
     "text": [
      "E:\\DATA SCIENCE\\anaconda\\lib\\site-packages\\seaborn\\_decorators.py:36: FutureWarning: Pass the following variable as a keyword arg: x. From version 0.12, the only valid positional argument will be `data`, and passing other arguments without an explicit keyword will result in an error or misinterpretation.\n",
      "  warnings.warn(\n"
     ]
    },
    {
     "data": {
      "text/plain": [
       "<AxesSubplot:xlabel='total_likes_on_outofstation_checkin_received'>"
      ]
     },
     "execution_count": 16,
     "metadata": {},
     "output_type": "execute_result"
    },
    {
     "data": {
      "image/png": "[encoded data removed]",
      "text/plain": [
       "<Figure size 432x288 with 1 Axes>"
      ]
     },
     "metadata": {
      "needs_background": "light"
     },
     "output_type": "display_data"
    }
   ],
   "source": [
    "sns.boxplot(data['total_likes_on_outofstation_checkin_received'])"
   ]
  },
  {
   "cell_type": "code",
   "execution_count": 17,
   "id": "fa8c1f2f",
   "metadata": {},
   "outputs": [
    {
     "name": "stderr",
     "output_type": "stream",
     "text": [
      "E:\\DATA SCIENCE\\anaconda\\lib\\site-packages\\seaborn\\_decorators.py:36: FutureWarning: Pass the following variable as a keyword arg: x. From version 0.12, the only valid positional argument will be `data`, and passing other arguments without an explicit keyword will result in an error or misinterpretation.\n",
      "  warnings.warn(\n"
     ]
    },
    {
     "data": {
      "text/plain": [
       "<AxesSubplot:xlabel='Yearly_avg_comment_on_travel_page'>"
      ]
     },
     "execution_count": 17,
     "metadata": {},
     "output_type": "execute_result"
    },
    {
     "data": {
      "image/png": "[encoded data removed]",
      "text/plain": [
       "<Figure size 432x288 with 1 Axes>"
      ]
     },
     "metadata": {
      "needs_background": "light"
     },
     "output_type": "display_data"
    }
   ],
   "source": [
    "sns.boxplot(data['Yearly_avg_comment_on_travel_page'])"
   ]
  },
  {
   "cell_type": "code",
   "execution_count": 18,
   "id": "8d139bcf",
   "metadata": {},
   "outputs": [
    {
     "name": "stderr",
     "output_type": "stream",
     "text": [
      "E:\\DATA SCIENCE\\anaconda\\lib\\site-packages\\seaborn\\_decorators.py:36: FutureWarning: Pass the following variable as a keyword arg: x. From version 0.12, the only valid positional argument will be `data`, and passing other arguments without an explicit keyword will result in an error or misinterpretation.\n",
      "  warnings.warn(\n"
     ]
    },
    {
     "data": {
      "text/plain": [
       "<AxesSubplot:xlabel='total_likes_on_outstation_checkin_given'>"
      ]
     },
     "execution_count": 18,
     "metadata": {},
     "output_type": "execute_result"
    },
    {
     "data": {
      "image/png": "[encoded data removed]",
      "text/plain": [
       "<Figure size 432x288 with 1 Axes>"
      ]
     },
     "metadata": {
      "needs_background": "light"
     },
     "output_type": "display_data"
    }
   ],
   "source": [
    "sns.boxplot(data['total_likes_on_outstation_checkin_given'])"
   ]
  },
  {
   "cell_type": "code",
   "execution_count": 19,
   "id": "84bc3f73",
   "metadata": {
    "id": "84bc3f73",
    "outputId": "af284969-5d37-4872-e9e0-e87ae0a76365"
   },
   "outputs": [
    {
     "name": "stderr",
     "output_type": "stream",
     "text": [
      "E:\\DATA SCIENCE\\anaconda\\lib\\site-packages\\seaborn\\_decorators.py:36: FutureWarning: Pass the following variable as a keyword arg: x. From version 0.12, the only valid positional argument will be `data`, and passing other arguments without an explicit keyword will result in an error or misinterpretation.\n",
      "  warnings.warn(\n"
     ]
    },
    {
     "data": {
      "text/plain": [
       "<AxesSubplot:xlabel='Daily_Avg_mins_spend_on_traveling_page'>"
      ]
     },
     "execution_count": 19,
     "metadata": {},
     "output_type": "execute_result"
    },
    {
     "data": {
      "image/png": "[encoded data removed]",
      "text/plain": [
       "<Figure size 432x288 with 1 Axes>"
      ]
     },
     "metadata": {
      "needs_background": "light"
     },
     "output_type": "display_data"
    }
   ],
   "source": [
    "sns.boxplot(data['Daily_Avg_mins_spend_on_traveling_page'])"
   ]
  },
  {
   "cell_type": "markdown",
   "id": "64349273",
   "metadata": {},
   "source": [
    "# Outlier removal"
   ]
  },
  {
   "cell_type": "code",
   "execution_count": 20,
   "id": "659ec1da",
   "metadata": {
    "id": "659ec1da",
    "outputId": "53023193-b536-4603-aa59-6e650b8a6a09"
   },
   "outputs": [],
   "source": [
    "#removing outliers\n",
    "\n",
    "import numpy\n",
    "df=data.copy()\n",
    "# cols_iqr = df[['total_likes_on_outstation_checkin_given','Yearly_avg_comment_on_travel_page','total_likes_on_outofstation_checkin_received','montly_avg_comment_on_company_page','Daily_Avg_mins_spend_on_traveling_page']]\n",
    "# for cols in cols_iqr:\n",
    "\n",
    "#     Q1 = df[cols].quantile(0.15)\n",
    "#     Q3 = df[cols].quantile(0.85)\n",
    "\n",
    "#     IQR = Q3-Q1\n",
    "#     lower_limit = Q1 - 1.5*IQR\n",
    "#     upper_limit = Q1 + 1.5*IQR\n",
    "\n",
    "\n",
    "#     df = df[(df[cols]>lower_limit)&(df[cols]<upper_limit)]\n",
    "\n",
    "# #df2['montly_avg_comment_on_company_page'].describe()\n",
    "# #df=df2.copy()\n",
    "# df['montly_avg_comment_on_company_page'].describe()"
   ]
  },
  {
   "cell_type": "code",
   "execution_count": 21,
   "id": "29ac226e",
   "metadata": {},
   "outputs": [
    {
     "data": {
      "text/plain": [
       "(11498, 17)"
      ]
     },
     "execution_count": 21,
     "metadata": {},
     "output_type": "execute_result"
    }
   ],
   "source": [
    "df.shape"
   ]
  },
  {
   "cell_type": "code",
   "execution_count": 22,
   "id": "8a907d3e",
   "metadata": {},
   "outputs": [
    {
     "data": {
      "text/plain": [
       "(11498, 17)"
      ]
     },
     "execution_count": 22,
     "metadata": {},
     "output_type": "execute_result"
    }
   ],
   "source": [
    "data.shape"
   ]
  },
  {
   "cell_type": "code",
   "execution_count": 23,
   "id": "412c9157",
   "metadata": {},
   "outputs": [
    {
     "data": {
      "image/png": "[encoded data removed]",
      "text/plain": [
       "<Figure size 432x288 with 1 Axes>"
      ]
     },
     "metadata": {
      "needs_background": "light"
     },
     "output_type": "display_data"
    }
   ],
   "source": [
    "plt.figure(figsize=(6, 4))\n",
    "sns.boxplot(data=df)\n",
    "plt.xticks(rotation='vertical')\n",
    "plt.show()"
   ]
  },
  {
   "cell_type": "markdown",
   "id": "7dcc165a",
   "metadata": {
    "id": "7dcc165a"
   },
   "source": [
    "# Univariate analysis"
   ]
  },
  {
   "cell_type": "code",
   "execution_count": 24,
   "id": "12efd4a5",
   "metadata": {
    "id": "12efd4a5",
    "outputId": "5d56f3d8-c940-4ba9-b9aa-c9b312b839f7"
   },
   "outputs": [
    {
     "data": {
      "image/png": "[encoded data removed]",
      "text/plain": [
       "<Figure size 432x216 with 1 Axes>"
      ]
     },
     "metadata": {
      "needs_background": "light"
     },
     "output_type": "display_data"
    },
    {
     "data": {
      "image/png": "[encoded data removed]",
      "text/plain": [
       "<Figure size 432x216 with 1 Axes>"
      ]
     },
     "metadata": {
      "needs_background": "light"
     },
     "output_type": "display_data"
    },
    {
     "data": {
      "image/png": "[encoded data removed]",
      "text/plain": [
       "<Figure size 432x216 with 1 Axes>"
      ]
     },
     "metadata": {
      "needs_background": "light"
     },
     "output_type": "display_data"
    },
    {
     "data": {
      "image/png": "[encoded data removed]",
      "text/plain": [
       "<Figure size 432x216 with 1 Axes>"
      ]
     },
     "metadata": {
      "needs_background": "light"
     },
     "output_type": "display_data"
    },
    {
     "data": {
      "image/png": "[encoded data removed]",
      "text/plain": [
       "<Figure size 432x216 with 1 Axes>"
      ]
     },
     "metadata": {
      "needs_background": "light"
     },
     "output_type": "display_data"
    },
    {
     "data": {
      "image/png": "[encoded data removed]",
      "text/plain": [
       "<Figure size 432x216 with 1 Axes>"
      ]
     },
     "metadata": {
      "needs_background": "light"
     },
     "output_type": "display_data"
    },
    {
     "data": {
      "image/png": "[encoded data removed]",
      "text/plain": [
       "<Figure size 432x216 with 1 Axes>"
      ]
     },
     "metadata": {
      "needs_background": "light"
     },
     "output_type": "display_data"
    },
    {
     "data": {
      "image/png": "[encoded data removed]",
      "text/plain": [
       "<Figure size 432x216 with 1 Axes>"
      ]
     },
     "metadata": {
      "needs_background": "light"
     },
     "output_type": "display_data"
    },
    {
     "data": {
      "image/png": "[encoded data removed]",
      "text/plain": [
       "<Figure size 432x216 with 1 Axes>"
      ]
     },
     "metadata": {
      "needs_background": "light"
     },
     "output_type": "display_data"
    },
    {
     "data": {
      "image/png": "[encoded data removed]",
      "text/plain": [
       "<Figure size 432x216 with 1 Axes>"
      ]
     },
     "metadata": {
      "needs_background": "light"
     },
     "output_type": "display_data"
    },
    {
     "data": {
      "image/png": "[encoded data removed]",
      "text/plain": [
       "<Figure size 432x216 with 1 Axes>"
      ]
     },
     "metadata": {
      "needs_background": "light"
     },
     "output_type": "display_data"
    },
    {
     "data": {
      "image/png": "[encoded data removed]",
      "text/plain": [
       "<Figure size 432x216 with 1 Axes>"
      ]
     },
     "metadata": {
      "needs_background": "light"
     },
     "output_type": "display_data"
    },
    {
     "data": {
      "image/png": "[encoded data removed]",
      "text/plain": [
       "<Figure size 432x216 with 1 Axes>"
      ]
     },
     "metadata": {
      "needs_background": "light"
     },
     "output_type": "display_data"
    },
    {
     "data": {
      "image/png": "[encoded data removed]",
      "text/plain": [
       "<Figure size 432x216 with 1 Axes>"
      ]
     },
     "metadata": {
      "needs_background": "light"
     },
     "output_type": "display_data"
    },
    {
     "data": {
      "image/png": "[encoded data removed]",
      "text/plain": [
       "<Figure size 432x216 with 1 Axes>"
      ]
     },
     "metadata": {
      "needs_background": "light"
     },
     "output_type": "display_data"
    },
    {
     "data": {
      "image/png": "[encoded data removed]",
      "text/plain": [
       "<Figure size 432x216 with 1 Axes>"
      ]
     },
     "metadata": {
      "needs_background": "light"
     },
     "output_type": "display_data"
    },
    {
     "data": {
      "image/png": "[encoded data removed]",
      "text/plain": [
       "<Figure size 432x216 with 1 Axes>"
      ]
     },
     "metadata": {
      "needs_background": "light"
     },
     "output_type": "display_data"
    }
   ],
   "source": [
    "\n",
    "for column in df:\n",
    "    plt.figure(figsize=(6, 3))\n",
    "    df[column].hist()\n",
    "    plt.title(column)"
   ]
  },
  {
   "cell_type": "markdown",
   "id": "141a3e9f",
   "metadata": {},
   "source": [
    "## Splitting the data into mobile and laptop"
   ]
  },
  {
   "cell_type": "code",
   "execution_count": 25,
   "id": "3d9a6e38",
   "metadata": {},
   "outputs": [
    {
     "data": {
      "text/plain": [
       "(11498, 17)"
      ]
     },
     "execution_count": 25,
     "metadata": {},
     "output_type": "execute_result"
    }
   ],
   "source": [
    "df.shape"
   ]
  },
  {
   "cell_type": "code",
   "execution_count": 26,
   "id": "6aefcf12",
   "metadata": {
    "id": "494fb304"
   },
   "outputs": [],
   "source": [
    "# splitting the data into mobile and laptop\n",
    "\n",
    "df_mobile = df[df['preferred_device'] == 'Mobile']\n",
    "df_laptop = df[df['preferred_device'] == 'Laptop']"
   ]
  },
  {
   "cell_type": "code",
   "execution_count": 27,
   "id": "13d6a41a",
   "metadata": {
    "id": "13d6a41a",
    "outputId": "73e144bb-26ea-4fca-f2b6-b12ff6d30f55"
   },
   "outputs": [
    {
     "data": {
      "text/plain": [
       "array(['Laptop'], dtype=object)"
      ]
     },
     "execution_count": 27,
     "metadata": {},
     "output_type": "execute_result"
    }
   ],
   "source": [
    "df_laptop['preferred_device'].unique()"
   ]
  },
  {
   "cell_type": "markdown",
   "id": "e74bf424",
   "metadata": {
    "id": "e74bf424"
   },
   "source": [
    "## EDA of Mobile dataset"
   ]
  },
  {
   "cell_type": "code",
   "execution_count": 28,
   "id": "e63966ad",
   "metadata": {
    "id": "e63966ad",
    "outputId": "d30b35dd-b6e4-406f-92cb-3cbfcace3de3"
   },
   "outputs": [
    {
     "data": {
      "text/html": [
       "<div>\n",
       "<style scoped>\n",
       "    .dataframe tbody tr th:only-of-type {\n",
       "        vertical-align: middle;\n",
       "    }\n",
       "\n",
       "    .dataframe tbody tr th {\n",
       "        vertical-align: top;\n",
       "    }\n",
       "\n",
       "    .dataframe thead th {\n",
       "        text-align: right;\n",
       "    }\n",
       "</style>\n",
       "<table border=\"1\" class=\"dataframe\">\n",
       "  <thead>\n",
       "    <tr style=\"text-align: right;\">\n",
       "      <th></th>\n",
       "      <th>UserID</th>\n",
       "      <th>total_likes_on_outofstation_checkin_received</th>\n",
       "      <th>week_since_last_outstation_checkin</th>\n",
       "      <th>montly_avg_comment_on_company_page</th>\n",
       "      <th>travelling_network_rating</th>\n",
       "      <th>Adult_flag</th>\n",
       "      <th>Daily_Avg_mins_spend_on_traveling_page</th>\n",
       "      <th>Yearly_avg_view_on_travel_page</th>\n",
       "      <th>total_likes_on_outstation_checkin_given</th>\n",
       "      <th>Yearly_avg_comment_on_travel_page</th>\n",
       "    </tr>\n",
       "  </thead>\n",
       "  <tbody>\n",
       "    <tr>\n",
       "      <th>count</th>\n",
       "      <td>1.039000e+04</td>\n",
       "      <td>10390.000000</td>\n",
       "      <td>10390.000000</td>\n",
       "      <td>10390.000000</td>\n",
       "      <td>10390.000000</td>\n",
       "      <td>10390.000000</td>\n",
       "      <td>10390.000000</td>\n",
       "      <td>10390.000000</td>\n",
       "      <td>10390.000000</td>\n",
       "      <td>10390.000000</td>\n",
       "    </tr>\n",
       "    <tr>\n",
       "      <th>mean</th>\n",
       "      <td>1.005660e+06</td>\n",
       "      <td>6572.321367</td>\n",
       "      <td>3.230703</td>\n",
       "      <td>29.005005</td>\n",
       "      <td>2.705967</td>\n",
       "      <td>0.571607</td>\n",
       "      <td>13.873821</td>\n",
       "      <td>280.460635</td>\n",
       "      <td>28240.925327</td>\n",
       "      <td>74.503080</td>\n",
       "    </tr>\n",
       "    <tr>\n",
       "      <th>std</th>\n",
       "      <td>3.372806e+03</td>\n",
       "      <td>4750.963619</td>\n",
       "      <td>2.628029</td>\n",
       "      <td>51.061105</td>\n",
       "      <td>1.081915</td>\n",
       "      <td>0.494870</td>\n",
       "      <td>9.192907</td>\n",
       "      <td>67.444555</td>\n",
       "      <td>14397.316238</td>\n",
       "      <td>24.242561</td>\n",
       "    </tr>\n",
       "    <tr>\n",
       "      <th>min</th>\n",
       "      <td>1.000001e+06</td>\n",
       "      <td>1009.000000</td>\n",
       "      <td>0.000000</td>\n",
       "      <td>11.000000</td>\n",
       "      <td>1.000000</td>\n",
       "      <td>0.000000</td>\n",
       "      <td>0.000000</td>\n",
       "      <td>35.000000</td>\n",
       "      <td>3570.000000</td>\n",
       "      <td>3.000000</td>\n",
       "    </tr>\n",
       "    <tr>\n",
       "      <th>25%</th>\n",
       "      <td>1.002760e+06</td>\n",
       "      <td>2943.000000</td>\n",
       "      <td>1.000000</td>\n",
       "      <td>17.000000</td>\n",
       "      <td>2.000000</td>\n",
       "      <td>0.000000</td>\n",
       "      <td>8.000000</td>\n",
       "      <td>232.000000</td>\n",
       "      <td>16427.750000</td>\n",
       "      <td>57.000000</td>\n",
       "    </tr>\n",
       "    <tr>\n",
       "      <th>50%</th>\n",
       "      <td>1.005454e+06</td>\n",
       "      <td>4968.000000</td>\n",
       "      <td>3.000000</td>\n",
       "      <td>22.000000</td>\n",
       "      <td>3.000000</td>\n",
       "      <td>1.000000</td>\n",
       "      <td>12.000000</td>\n",
       "      <td>271.000000</td>\n",
       "      <td>28216.000000</td>\n",
       "      <td>74.000000</td>\n",
       "    </tr>\n",
       "    <tr>\n",
       "      <th>75%</th>\n",
       "      <td>1.008565e+06</td>\n",
       "      <td>8417.250000</td>\n",
       "      <td>5.000000</td>\n",
       "      <td>27.000000</td>\n",
       "      <td>4.000000</td>\n",
       "      <td>1.000000</td>\n",
       "      <td>18.000000</td>\n",
       "      <td>322.000000</td>\n",
       "      <td>40387.500000</td>\n",
       "      <td>92.000000</td>\n",
       "    </tr>\n",
       "    <tr>\n",
       "      <th>max</th>\n",
       "      <td>1.011760e+06</td>\n",
       "      <td>20065.000000</td>\n",
       "      <td>11.000000</td>\n",
       "      <td>500.000000</td>\n",
       "      <td>4.000000</td>\n",
       "      <td>1.000000</td>\n",
       "      <td>270.000000</td>\n",
       "      <td>464.000000</td>\n",
       "      <td>252430.000000</td>\n",
       "      <td>815.000000</td>\n",
       "    </tr>\n",
       "  </tbody>\n",
       "</table>\n",
       "</div>"
      ],
      "text/plain": [
       "             UserID  total_likes_on_outofstation_checkin_received  \\\n",
       "count  1.039000e+04                                  10390.000000   \n",
       "mean   1.005660e+06                                   6572.321367   \n",
       "std    3.372806e+03                                   4750.963619   \n",
       "min    1.000001e+06                                   1009.000000   \n",
       "25%    1.002760e+06                                   2943.000000   \n",
       "50%    1.005454e+06                                   4968.000000   \n",
       "75%    1.008565e+06                                   8417.250000   \n",
       "max    1.011760e+06                                  20065.000000   \n",
       "\n",
       "       week_since_last_outstation_checkin  montly_avg_comment_on_company_page  \\\n",
       "count                        10390.000000                        10390.000000   \n",
       "mean                             3.230703                           29.005005   \n",
       "std                              2.628029                           51.061105   \n",
       "min                              0.000000                           11.000000   \n",
       "25%                              1.000000                           17.000000   \n",
       "50%                              3.000000                           22.000000   \n",
       "75%                              5.000000                           27.000000   \n",
       "max                             11.000000                          500.000000   \n",
       "\n",
       "       travelling_network_rating    Adult_flag  \\\n",
       "count               10390.000000  10390.000000   \n",
       "mean                    2.705967      0.571607   \n",
       "std                     1.081915      0.494870   \n",
       "min                     1.000000      0.000000   \n",
       "25%                     2.000000      0.000000   \n",
       "50%                     3.000000      1.000000   \n",
       "75%                     4.000000      1.000000   \n",
       "max                     4.000000      1.000000   \n",
       "\n",
       "       Daily_Avg_mins_spend_on_traveling_page  Yearly_avg_view_on_travel_page  \\\n",
       "count                            10390.000000                    10390.000000   \n",
       "mean                                13.873821                      280.460635   \n",
       "std                                  9.192907                       67.444555   \n",
       "min                                  0.000000                       35.000000   \n",
       "25%                                  8.000000                      232.000000   \n",
       "50%                                 12.000000                      271.000000   \n",
       "75%                                 18.000000                      322.000000   \n",
       "max                                270.000000                      464.000000   \n",
       "\n",
       "       total_likes_on_outstation_checkin_given  \\\n",
       "count                             10390.000000   \n",
       "mean                              28240.925327   \n",
       "std                               14397.316238   \n",
       "min                                3570.000000   \n",
       "25%                               16427.750000   \n",
       "50%                               28216.000000   \n",
       "75%                               40387.500000   \n",
       "max                              252430.000000   \n",
       "\n",
       "       Yearly_avg_comment_on_travel_page  \n",
       "count                       10390.000000  \n",
       "mean                           74.503080  \n",
       "std                            24.242561  \n",
       "min                             3.000000  \n",
       "25%                            57.000000  \n",
       "50%                            74.000000  \n",
       "75%                            92.000000  \n",
       "max                           815.000000  "
      ]
     },
     "execution_count": 28,
     "metadata": {},
     "output_type": "execute_result"
    }
   ],
   "source": [
    "df_mobile.describe()"
   ]
  },
  {
   "cell_type": "code",
   "execution_count": 29,
   "id": "9aef7917",
   "metadata": {
    "id": "9aef7917",
    "outputId": "f221e1bc-8bea-4bfd-b908-ee8d27546e2f"
   },
   "outputs": [
    {
     "data": {
      "text/html": [
       "<div>\n",
       "<style scoped>\n",
       "    .dataframe tbody tr th:only-of-type {\n",
       "        vertical-align: middle;\n",
       "    }\n",
       "\n",
       "    .dataframe tbody tr th {\n",
       "        vertical-align: top;\n",
       "    }\n",
       "\n",
       "    .dataframe thead th {\n",
       "        text-align: right;\n",
       "    }\n",
       "</style>\n",
       "<table border=\"1\" class=\"dataframe\">\n",
       "  <thead>\n",
       "    <tr style=\"text-align: right;\">\n",
       "      <th></th>\n",
       "      <th>Taken_product</th>\n",
       "      <th>preferred_device</th>\n",
       "      <th>yearly_avg_Outstation_checkins</th>\n",
       "      <th>member_in_family</th>\n",
       "      <th>preferred_location_type</th>\n",
       "      <th>following_company_page</th>\n",
       "      <th>working_flag</th>\n",
       "    </tr>\n",
       "  </thead>\n",
       "  <tbody>\n",
       "    <tr>\n",
       "      <th>0</th>\n",
       "      <td>Yes</td>\n",
       "      <td>Mobile</td>\n",
       "      <td>1</td>\n",
       "      <td>2</td>\n",
       "      <td>Financial</td>\n",
       "      <td>1</td>\n",
       "      <td>No</td>\n",
       "    </tr>\n",
       "    <tr>\n",
       "      <th>1</th>\n",
       "      <td>No</td>\n",
       "      <td>Mobile</td>\n",
       "      <td>1</td>\n",
       "      <td>1</td>\n",
       "      <td>Financial</td>\n",
       "      <td>0</td>\n",
       "      <td>Yes</td>\n",
       "    </tr>\n",
       "    <tr>\n",
       "      <th>2</th>\n",
       "      <td>Yes</td>\n",
       "      <td>Mobile</td>\n",
       "      <td>1</td>\n",
       "      <td>2</td>\n",
       "      <td>Other</td>\n",
       "      <td>1</td>\n",
       "      <td>No</td>\n",
       "    </tr>\n",
       "    <tr>\n",
       "      <th>3</th>\n",
       "      <td>No</td>\n",
       "      <td>Mobile</td>\n",
       "      <td>1</td>\n",
       "      <td>4</td>\n",
       "      <td>Financial</td>\n",
       "      <td>1</td>\n",
       "      <td>No</td>\n",
       "    </tr>\n",
       "    <tr>\n",
       "      <th>4</th>\n",
       "      <td>No</td>\n",
       "      <td>Mobile</td>\n",
       "      <td>1</td>\n",
       "      <td>1</td>\n",
       "      <td>Medical</td>\n",
       "      <td>0</td>\n",
       "      <td>No</td>\n",
       "    </tr>\n",
       "  </tbody>\n",
       "</table>\n",
       "</div>"
      ],
      "text/plain": [
       "  Taken_product preferred_device yearly_avg_Outstation_checkins  \\\n",
       "0           Yes           Mobile                              1   \n",
       "1            No           Mobile                              1   \n",
       "2           Yes           Mobile                              1   \n",
       "3            No           Mobile                              1   \n",
       "4            No           Mobile                              1   \n",
       "\n",
       "  member_in_family preferred_location_type following_company_page working_flag  \n",
       "0                2               Financial                      1           No  \n",
       "1                1               Financial                      0          Yes  \n",
       "2                2                   Other                      1           No  \n",
       "3                4               Financial                      1           No  \n",
       "4                1                 Medical                      0           No  "
      ]
     },
     "execution_count": 29,
     "metadata": {},
     "output_type": "execute_result"
    }
   ],
   "source": [
    "#Seperating numerical and categorical columns for easy visualisation\n",
    "\n",
    "df_numerical_features = df_mobile.select_dtypes(exclude='object')\n",
    "df_categorical_features = df_mobile.select_dtypes(include='object')\n",
    "df_categorical_features.head()"
   ]
  },
  {
   "cell_type": "code",
   "execution_count": 30,
   "id": "d830dda2",
   "metadata": {
    "id": "d830dda2"
   },
   "outputs": [],
   "source": [
    "#sns.pairplot(data=df)"
   ]
  },
  {
   "cell_type": "code",
   "execution_count": 31,
   "id": "b4ed39fd",
   "metadata": {
    "id": "b4ed39fd",
    "scrolled": true
   },
   "outputs": [],
   "source": [
    "#sns.pairplot(data=df_numerical_features,height=10, aspect=0.6, hue = 'total_likes_on_outofstation_checkin_received')"
   ]
  },
  {
   "cell_type": "code",
   "execution_count": 32,
   "id": "38f9d24e",
   "metadata": {},
   "outputs": [
    {
     "name": "stderr",
     "output_type": "stream",
     "text": [
      "E:\\DATA SCIENCE\\anaconda\\lib\\site-packages\\seaborn\\_decorators.py:36: FutureWarning: Pass the following variable as a keyword arg: x. From version 0.12, the only valid positional argument will be `data`, and passing other arguments without an explicit keyword will result in an error or misinterpretation.\n",
      "  warnings.warn(\n"
     ]
    },
    {
     "data": {
      "text/plain": [
       "<AxesSubplot:xlabel='working_flag', ylabel='count'>"
      ]
     },
     "execution_count": 32,
     "metadata": {},
     "output_type": "execute_result"
    },
    {
     "data": {
      "image/png": "[encoded data removed]",
      "text/plain": [
       "<Figure size 432x288 with 1 Axes>"
      ]
     },
     "metadata": {
      "needs_background": "light"
     },
     "output_type": "display_data"
    }
   ],
   "source": [
    "sns.countplot(df_mobile['working_flag'])"
   ]
  },
  {
   "cell_type": "markdown",
   "id": "775d9d96",
   "metadata": {
    "id": "775d9d96"
   },
   "source": [
    "OBSERVATION: Most of the users are not following the company page"
   ]
  },
  {
   "cell_type": "code",
   "execution_count": 33,
   "id": "943e2741",
   "metadata": {
    "id": "943e2741",
    "outputId": "d4b9cbaf-1e33-47a6-ace9-da9689157c41"
   },
   "outputs": [
    {
     "name": "stderr",
     "output_type": "stream",
     "text": [
      "E:\\DATA SCIENCE\\anaconda\\lib\\site-packages\\seaborn\\_decorators.py:36: FutureWarning: Pass the following variable as a keyword arg: x. From version 0.12, the only valid positional argument will be `data`, and passing other arguments without an explicit keyword will result in an error or misinterpretation.\n",
      "  warnings.warn(\n"
     ]
    },
    {
     "data": {
      "text/plain": [
       "<AxesSubplot:xlabel='Adult_flag', ylabel='count'>"
      ]
     },
     "execution_count": 33,
     "metadata": {},
     "output_type": "execute_result"
    },
    {
     "data": {
      "image/png": "[encoded data removed]",
      "text/plain": [
       "<Figure size 432x288 with 1 Axes>"
      ]
     },
     "metadata": {
      "needs_background": "light"
     },
     "output_type": "display_data"
    }
   ],
   "source": [
    "sns.countplot(df_mobile['Adult_flag'])"
   ]
  },
  {
   "cell_type": "markdown",
   "id": "64ba3d24",
   "metadata": {
    "id": "64ba3d24"
   },
   "source": [
    "OBSERVATION: Most of the users are not adults"
   ]
  },
  {
   "cell_type": "code",
   "execution_count": 34,
   "id": "271600ac",
   "metadata": {
    "id": "271600ac",
    "outputId": "1b1aa079-1126-4f91-ed43-90638b623dde"
   },
   "outputs": [
    {
     "name": "stderr",
     "output_type": "stream",
     "text": [
      "E:\\DATA SCIENCE\\anaconda\\lib\\site-packages\\seaborn\\_decorators.py:36: FutureWarning: Pass the following variable as a keyword arg: x. From version 0.12, the only valid positional argument will be `data`, and passing other arguments without an explicit keyword will result in an error or misinterpretation.\n",
      "  warnings.warn(\n"
     ]
    },
    {
     "data": {
      "text/plain": [
       "<AxesSubplot:xlabel='yearly_avg_Outstation_checkins', ylabel='count'>"
      ]
     },
     "execution_count": 34,
     "metadata": {},
     "output_type": "execute_result"
    },
    {
     "data": {
      "image/png": "[encoded data removed]",
      "text/plain": [
       "<Figure size 432x288 with 1 Axes>"
      ]
     },
     "metadata": {
      "needs_background": "light"
     },
     "output_type": "display_data"
    }
   ],
   "source": [
    "sns.countplot(df_mobile['yearly_avg_Outstation_checkins'])"
   ]
  },
  {
   "cell_type": "code",
   "execution_count": 35,
   "id": "6399a570",
   "metadata": {
    "id": "6399a570",
    "outputId": "e431b7e6-d166-41c6-e803-63fd43279573"
   },
   "outputs": [
    {
     "name": "stderr",
     "output_type": "stream",
     "text": [
      "E:\\DATA SCIENCE\\anaconda\\lib\\site-packages\\seaborn\\_decorators.py:36: FutureWarning: Pass the following variable as a keyword arg: x. From version 0.12, the only valid positional argument will be `data`, and passing other arguments without an explicit keyword will result in an error or misinterpretation.\n",
      "  warnings.warn(\n"
     ]
    },
    {
     "data": {
      "text/plain": [
       "<AxesSubplot:xlabel='member_in_family', ylabel='count'>"
      ]
     },
     "execution_count": 35,
     "metadata": {},
     "output_type": "execute_result"
    },
    {
     "data": {
      "image/png": "[encoded data removed]",
      "text/plain": [
       "<Figure size 432x288 with 1 Axes>"
      ]
     },
     "metadata": {
      "needs_background": "light"
     },
     "output_type": "display_data"
    }
   ],
   "source": [
    "sns.countplot(df_mobile['member_in_family'])"
   ]
  },
  {
   "cell_type": "code",
   "execution_count": 36,
   "id": "9ab040e7",
   "metadata": {
    "id": "9ab040e7",
    "outputId": "9f5665ac-f9ee-4f77-b37e-7adbe8ba86de"
   },
   "outputs": [
    {
     "data": {
      "text/plain": [
       "<AxesSubplot:xlabel='Adult_flag', ylabel='Taken_product'>"
      ]
     },
     "execution_count": 36,
     "metadata": {},
     "output_type": "execute_result"
    },
    {
     "data": {
      "image/png": "[encoded data removed]",
      "text/plain": [
       "<Figure size 432x288 with 1 Axes>"
      ]
     },
     "metadata": {
      "needs_background": "light"
     },
     "output_type": "display_data"
    }
   ],
   "source": [
    "sns.barplot(x ='Adult_flag', y ='Taken_product', data = df_mobile, hue='Taken_product')"
   ]
  },
  {
   "cell_type": "code",
   "execution_count": 37,
   "id": "26fb50e8",
   "metadata": {
    "id": "26fb50e8",
    "outputId": "edde8501-90b9-4cf3-d667-bcfc4051119d"
   },
   "outputs": [
    {
     "data": {
      "text/plain": [
       "Index(['UserID', 'Taken_product', 'preferred_device',\n",
       "       'yearly_avg_Outstation_checkins', 'member_in_family',\n",
       "       'preferred_location_type',\n",
       "       'total_likes_on_outofstation_checkin_received',\n",
       "       'week_since_last_outstation_checkin', 'following_company_page',\n",
       "       'montly_avg_comment_on_company_page', 'working_flag',\n",
       "       'travelling_network_rating', 'Adult_flag',\n",
       "       'Daily_Avg_mins_spend_on_traveling_page',\n",
       "       'Yearly_avg_view_on_travel_page',\n",
       "       'total_likes_on_outstation_checkin_given',\n",
       "       'Yearly_avg_comment_on_travel_page'],\n",
       "      dtype='object')"
      ]
     },
     "execution_count": 37,
     "metadata": {},
     "output_type": "execute_result"
    }
   ],
   "source": [
    "df.columns"
   ]
  },
  {
   "cell_type": "code",
   "execution_count": 38,
   "id": "f4d79c5d",
   "metadata": {
    "id": "f4d79c5d",
    "outputId": "ff9ba6cc-75cc-4611-f5c9-95a2d712095a"
   },
   "outputs": [
    {
     "data": {
      "text/plain": [
       "<seaborn.axisgrid.FacetGrid at 0x2133b0324f0>"
      ]
     },
     "execution_count": 38,
     "metadata": {},
     "output_type": "execute_result"
    },
    {
     "data": {
      "image/png": "[encoded data removed]",
      "text/plain": [
       "<Figure size 360x360 with 1 Axes>"
      ]
     },
     "metadata": {
      "needs_background": "light"
     },
     "output_type": "display_data"
    }
   ],
   "source": [
    "sns.catplot(data=df, x=\"Adult_flag\", y=\"Taken_product\", kind=\"bar\")"
   ]
  },
  {
   "cell_type": "markdown",
   "id": "3e2c39eb",
   "metadata": {
    "id": "3e2c39eb"
   },
   "source": [
    "OBSERVATION: Most of the user's who took the product are not adult"
   ]
  },
  {
   "cell_type": "code",
   "execution_count": 39,
   "id": "151e2ad8",
   "metadata": {
    "id": "151e2ad8",
    "outputId": "b3b2539a-ea11-4f53-8346-1090b00d2743"
   },
   "outputs": [
    {
     "data": {
      "text/plain": [
       "<AxesSubplot:xlabel='Taken_product', ylabel='travelling_network_rating'>"
      ]
     },
     "execution_count": 39,
     "metadata": {},
     "output_type": "execute_result"
    },
    {
     "data": {
      "image/png": "[encoded data removed]",
      "text/plain": [
       "<Figure size 432x288 with 1 Axes>"
      ]
     },
     "metadata": {
      "needs_background": "light"
     },
     "output_type": "display_data"
    }
   ],
   "source": [
    "sns.barplot(x ='Taken_product', y ='travelling_network_rating', data = df)"
   ]
  },
  {
   "cell_type": "markdown",
   "id": "42578580",
   "metadata": {
    "id": "42578580"
   },
   "source": [
    "OBSERVATION: The user's whose friend also like travelling are less likely to buy the product"
   ]
  },
  {
   "cell_type": "code",
   "execution_count": 40,
   "id": "98bf589e",
   "metadata": {
    "id": "98bf589e",
    "outputId": "a2808bda-b25c-43e0-c2ce-086c1d3e3571"
   },
   "outputs": [
    {
     "name": "stderr",
     "output_type": "stream",
     "text": [
      "E:\\DATA SCIENCE\\anaconda\\lib\\site-packages\\seaborn\\_decorators.py:36: FutureWarning: Pass the following variable as a keyword arg: x. From version 0.12, the only valid positional argument will be `data`, and passing other arguments without an explicit keyword will result in an error or misinterpretation.\n",
      "  warnings.warn(\n"
     ]
    },
    {
     "data": {
      "text/plain": [
       "<AxesSubplot:xlabel='Daily_Avg_mins_spend_on_traveling_page'>"
      ]
     },
     "execution_count": 40,
     "metadata": {},
     "output_type": "execute_result"
    },
    {
     "data": {
      "image/png": "[encoded data removed]",
      "text/plain": [
       "<Figure size 432x288 with 1 Axes>"
      ]
     },
     "metadata": {
      "needs_background": "light"
     },
     "output_type": "display_data"
    }
   ],
   "source": [
    "sns.boxplot(df_mobile['Daily_Avg_mins_spend_on_traveling_page'])"
   ]
  },
  {
   "cell_type": "code",
   "execution_count": 41,
   "id": "8d348b2d",
   "metadata": {
    "id": "8d348b2d",
    "outputId": "e263713c-afa7-4a10-bd45-a8b09714d078"
   },
   "outputs": [
    {
     "data": {
      "text/plain": [
       "<AxesSubplot:xlabel='Taken_product', ylabel='Daily_Avg_mins_spend_on_traveling_page'>"
      ]
     },
     "execution_count": 41,
     "metadata": {},
     "output_type": "execute_result"
    },
    {
     "data": {
      "image/png": "[encoded data removed]",
      "text/plain": [
       "<Figure size 432x288 with 1 Axes>"
      ]
     },
     "metadata": {
      "needs_background": "light"
     },
     "output_type": "display_data"
    }
   ],
   "source": [
    "sns.barplot(x ='Taken_product', y ='Daily_Avg_mins_spend_on_traveling_page', data = df_mobile)"
   ]
  },
  {
   "cell_type": "code",
   "execution_count": 42,
   "id": "3044d590",
   "metadata": {
    "id": "3044d590",
    "outputId": "b09ca0b0-019e-4141-aa2d-d8db0ae0ce5a"
   },
   "outputs": [
    {
     "data": {
      "text/plain": [
       "<AxesSubplot:xlabel='member_in_family', ylabel='Taken_product'>"
      ]
     },
     "execution_count": 42,
     "metadata": {},
     "output_type": "execute_result"
    },
    {
     "data": {
      "image/png": "[encoded data removed]",
      "text/plain": [
       "<Figure size 432x288 with 1 Axes>"
      ]
     },
     "metadata": {
      "needs_background": "light"
     },
     "output_type": "display_data"
    }
   ],
   "source": [
    "sns.barplot(x=df_mobile['member_in_family'].astype(int), y=df_mobile['Taken_product'])\n"
   ]
  },
  {
   "cell_type": "code",
   "execution_count": 43,
   "id": "9d76c1e3",
   "metadata": {
    "id": "9d76c1e3",
    "outputId": "5941dd46-1afe-43b7-cd6c-e762279c519e"
   },
   "outputs": [
    {
     "data": {
      "text/plain": [
       "<seaborn.axisgrid.JointGrid at 0x2133b21fbb0>"
      ]
     },
     "execution_count": 43,
     "metadata": {},
     "output_type": "execute_result"
    },
    {
     "data": {
      "image/png": "[encoded data removed]",
      "text/plain": [
       "<Figure size 432x432 with 3 Axes>"
      ]
     },
     "metadata": {
      "needs_background": "light"
     },
     "output_type": "display_data"
    }
   ],
   "source": [
    "sns.jointplot(x='total_likes_on_outofstation_checkin_received', y='Daily_Avg_mins_spend_on_traveling_page',data=df_mobile, kind= 'hex')"
   ]
  },
  {
   "cell_type": "code",
   "execution_count": 44,
   "id": "b6dc4931",
   "metadata": {
    "id": "b6dc4931",
    "outputId": "ecf9b74b-95a3-4c4b-a427-c542feebfe88"
   },
   "outputs": [
    {
     "data": {
      "text/html": [
       "<div>\n",
       "<style scoped>\n",
       "    .dataframe tbody tr th:only-of-type {\n",
       "        vertical-align: middle;\n",
       "    }\n",
       "\n",
       "    .dataframe tbody tr th {\n",
       "        vertical-align: top;\n",
       "    }\n",
       "\n",
       "    .dataframe thead th {\n",
       "        text-align: right;\n",
       "    }\n",
       "</style>\n",
       "<table border=\"1\" class=\"dataframe\">\n",
       "  <thead>\n",
       "    <tr style=\"text-align: right;\">\n",
       "      <th></th>\n",
       "      <th>UserID</th>\n",
       "      <th>total_likes_on_outofstation_checkin_received</th>\n",
       "      <th>week_since_last_outstation_checkin</th>\n",
       "      <th>montly_avg_comment_on_company_page</th>\n",
       "      <th>travelling_network_rating</th>\n",
       "      <th>Adult_flag</th>\n",
       "      <th>Daily_Avg_mins_spend_on_traveling_page</th>\n",
       "      <th>Yearly_avg_view_on_travel_page</th>\n",
       "      <th>total_likes_on_outstation_checkin_given</th>\n",
       "      <th>Yearly_avg_comment_on_travel_page</th>\n",
       "    </tr>\n",
       "  </thead>\n",
       "  <tbody>\n",
       "    <tr>\n",
       "      <th>UserID</th>\n",
       "      <td>1.000000</td>\n",
       "      <td>0.007110</td>\n",
       "      <td>0.091914</td>\n",
       "      <td>0.047617</td>\n",
       "      <td>-0.014396</td>\n",
       "      <td>0.008920</td>\n",
       "      <td>0.113330</td>\n",
       "      <td>0.086936</td>\n",
       "      <td>-0.014138</td>\n",
       "      <td>0.234439</td>\n",
       "    </tr>\n",
       "    <tr>\n",
       "      <th>total_likes_on_outofstation_checkin_received</th>\n",
       "      <td>0.007110</td>\n",
       "      <td>1.000000</td>\n",
       "      <td>0.140922</td>\n",
       "      <td>-0.006611</td>\n",
       "      <td>0.028559</td>\n",
       "      <td>0.063368</td>\n",
       "      <td>0.670814</td>\n",
       "      <td>0.486436</td>\n",
       "      <td>0.012607</td>\n",
       "      <td>-0.019473</td>\n",
       "    </tr>\n",
       "    <tr>\n",
       "      <th>week_since_last_outstation_checkin</th>\n",
       "      <td>0.091914</td>\n",
       "      <td>0.140922</td>\n",
       "      <td>1.000000</td>\n",
       "      <td>0.032156</td>\n",
       "      <td>0.041159</td>\n",
       "      <td>0.017826</td>\n",
       "      <td>0.244828</td>\n",
       "      <td>0.276104</td>\n",
       "      <td>0.037389</td>\n",
       "      <td>0.061769</td>\n",
       "    </tr>\n",
       "    <tr>\n",
       "      <th>montly_avg_comment_on_company_page</th>\n",
       "      <td>0.047617</td>\n",
       "      <td>-0.006611</td>\n",
       "      <td>0.032156</td>\n",
       "      <td>1.000000</td>\n",
       "      <td>-0.020917</td>\n",
       "      <td>0.003787</td>\n",
       "      <td>0.053394</td>\n",
       "      <td>-0.010714</td>\n",
       "      <td>0.010273</td>\n",
       "      <td>0.022437</td>\n",
       "    </tr>\n",
       "    <tr>\n",
       "      <th>travelling_network_rating</th>\n",
       "      <td>-0.014396</td>\n",
       "      <td>0.028559</td>\n",
       "      <td>0.041159</td>\n",
       "      <td>-0.020917</td>\n",
       "      <td>1.000000</td>\n",
       "      <td>-0.061977</td>\n",
       "      <td>0.020038</td>\n",
       "      <td>0.050845</td>\n",
       "      <td>0.001654</td>\n",
       "      <td>0.005849</td>\n",
       "    </tr>\n",
       "    <tr>\n",
       "      <th>Adult_flag</th>\n",
       "      <td>0.008920</td>\n",
       "      <td>0.063368</td>\n",
       "      <td>0.017826</td>\n",
       "      <td>0.003787</td>\n",
       "      <td>-0.061977</td>\n",
       "      <td>1.000000</td>\n",
       "      <td>0.055908</td>\n",
       "      <td>0.092195</td>\n",
       "      <td>0.031990</td>\n",
       "      <td>0.034558</td>\n",
       "    </tr>\n",
       "    <tr>\n",
       "      <th>Daily_Avg_mins_spend_on_traveling_page</th>\n",
       "      <td>0.113330</td>\n",
       "      <td>0.670814</td>\n",
       "      <td>0.244828</td>\n",
       "      <td>0.053394</td>\n",
       "      <td>0.020038</td>\n",
       "      <td>0.055908</td>\n",
       "      <td>1.000000</td>\n",
       "      <td>0.572622</td>\n",
       "      <td>0.003651</td>\n",
       "      <td>0.058067</td>\n",
       "    </tr>\n",
       "    <tr>\n",
       "      <th>Yearly_avg_view_on_travel_page</th>\n",
       "      <td>0.086936</td>\n",
       "      <td>0.486436</td>\n",
       "      <td>0.276104</td>\n",
       "      <td>-0.010714</td>\n",
       "      <td>0.050845</td>\n",
       "      <td>0.092195</td>\n",
       "      <td>0.572622</td>\n",
       "      <td>1.000000</td>\n",
       "      <td>0.004526</td>\n",
       "      <td>0.044146</td>\n",
       "    </tr>\n",
       "    <tr>\n",
       "      <th>total_likes_on_outstation_checkin_given</th>\n",
       "      <td>-0.014138</td>\n",
       "      <td>0.012607</td>\n",
       "      <td>0.037389</td>\n",
       "      <td>0.010273</td>\n",
       "      <td>0.001654</td>\n",
       "      <td>0.031990</td>\n",
       "      <td>0.003651</td>\n",
       "      <td>0.004526</td>\n",
       "      <td>1.000000</td>\n",
       "      <td>0.005064</td>\n",
       "    </tr>\n",
       "    <tr>\n",
       "      <th>Yearly_avg_comment_on_travel_page</th>\n",
       "      <td>0.234439</td>\n",
       "      <td>-0.019473</td>\n",
       "      <td>0.061769</td>\n",
       "      <td>0.022437</td>\n",
       "      <td>0.005849</td>\n",
       "      <td>0.034558</td>\n",
       "      <td>0.058067</td>\n",
       "      <td>0.044146</td>\n",
       "      <td>0.005064</td>\n",
       "      <td>1.000000</td>\n",
       "    </tr>\n",
       "  </tbody>\n",
       "</table>\n",
       "</div>"
      ],
      "text/plain": [
       "                                                UserID  \\\n",
       "UserID                                        1.000000   \n",
       "total_likes_on_outofstation_checkin_received  0.007110   \n",
       "week_since_last_outstation_checkin            0.091914   \n",
       "montly_avg_comment_on_company_page            0.047617   \n",
       "travelling_network_rating                    -0.014396   \n",
       "Adult_flag                                    0.008920   \n",
       "Daily_Avg_mins_spend_on_traveling_page        0.113330   \n",
       "Yearly_avg_view_on_travel_page                0.086936   \n",
       "total_likes_on_outstation_checkin_given      -0.014138   \n",
       "Yearly_avg_comment_on_travel_page             0.234439   \n",
       "\n",
       "                                              total_likes_on_outofstation_checkin_received  \\\n",
       "UserID                                                                            0.007110   \n",
       "total_likes_on_outofstation_checkin_received                                      1.000000   \n",
       "week_since_last_outstation_checkin                                                0.140922   \n",
       "montly_avg_comment_on_company_page                                               -0.006611   \n",
       "travelling_network_rating                                                         0.028559   \n",
       "Adult_flag                                                                        0.063368   \n",
       "Daily_Avg_mins_spend_on_traveling_page                                            0.670814   \n",
       "Yearly_avg_view_on_travel_page                                                    0.486436   \n",
       "total_likes_on_outstation_checkin_given                                           0.012607   \n",
       "Yearly_avg_comment_on_travel_page                                                -0.019473   \n",
       "\n",
       "                                              week_since_last_outstation_checkin  \\\n",
       "UserID                                                                  0.091914   \n",
       "total_likes_on_outofstation_checkin_received                            0.140922   \n",
       "week_since_last_outstation_checkin                                      1.000000   \n",
       "montly_avg_comment_on_company_page                                      0.032156   \n",
       "travelling_network_rating                                               0.041159   \n",
       "Adult_flag                                                              0.017826   \n",
       "Daily_Avg_mins_spend_on_traveling_page                                  0.244828   \n",
       "Yearly_avg_view_on_travel_page                                          0.276104   \n",
       "total_likes_on_outstation_checkin_given                                 0.037389   \n",
       "Yearly_avg_comment_on_travel_page                                       0.061769   \n",
       "\n",
       "                                              montly_avg_comment_on_company_page  \\\n",
       "UserID                                                                  0.047617   \n",
       "total_likes_on_outofstation_checkin_received                           -0.006611   \n",
       "week_since_last_outstation_checkin                                      0.032156   \n",
       "montly_avg_comment_on_company_page                                      1.000000   \n",
       "travelling_network_rating                                              -0.020917   \n",
       "Adult_flag                                                              0.003787   \n",
       "Daily_Avg_mins_spend_on_traveling_page                                  0.053394   \n",
       "Yearly_avg_view_on_travel_page                                         -0.010714   \n",
       "total_likes_on_outstation_checkin_given                                 0.010273   \n",
       "Yearly_avg_comment_on_travel_page                                       0.022437   \n",
       "\n",
       "                                              travelling_network_rating  \\\n",
       "UserID                                                        -0.014396   \n",
       "total_likes_on_outofstation_checkin_received                   0.028559   \n",
       "week_since_last_outstation_checkin                             0.041159   \n",
       "montly_avg_comment_on_company_page                            -0.020917   \n",
       "travelling_network_rating                                      1.000000   \n",
       "Adult_flag                                                    -0.061977   \n",
       "Daily_Avg_mins_spend_on_traveling_page                         0.020038   \n",
       "Yearly_avg_view_on_travel_page                                 0.050845   \n",
       "total_likes_on_outstation_checkin_given                        0.001654   \n",
       "Yearly_avg_comment_on_travel_page                              0.005849   \n",
       "\n",
       "                                              Adult_flag  \\\n",
       "UserID                                          0.008920   \n",
       "total_likes_on_outofstation_checkin_received    0.063368   \n",
       "week_since_last_outstation_checkin              0.017826   \n",
       "montly_avg_comment_on_company_page              0.003787   \n",
       "travelling_network_rating                      -0.061977   \n",
       "Adult_flag                                      1.000000   \n",
       "Daily_Avg_mins_spend_on_traveling_page          0.055908   \n",
       "Yearly_avg_view_on_travel_page                  0.092195   \n",
       "total_likes_on_outstation_checkin_given         0.031990   \n",
       "Yearly_avg_comment_on_travel_page               0.034558   \n",
       "\n",
       "                                              Daily_Avg_mins_spend_on_traveling_page  \\\n",
       "UserID                                                                      0.113330   \n",
       "total_likes_on_outofstation_checkin_received                                0.670814   \n",
       "week_since_last_outstation_checkin                                          0.244828   \n",
       "montly_avg_comment_on_company_page                                          0.053394   \n",
       "travelling_network_rating                                                   0.020038   \n",
       "Adult_flag                                                                  0.055908   \n",
       "Daily_Avg_mins_spend_on_traveling_page                                      1.000000   \n",
       "Yearly_avg_view_on_travel_page                                              0.572622   \n",
       "total_likes_on_outstation_checkin_given                                     0.003651   \n",
       "Yearly_avg_comment_on_travel_page                                           0.058067   \n",
       "\n",
       "                                              Yearly_avg_view_on_travel_page  \\\n",
       "UserID                                                              0.086936   \n",
       "total_likes_on_outofstation_checkin_received                        0.486436   \n",
       "week_since_last_outstation_checkin                                  0.276104   \n",
       "montly_avg_comment_on_company_page                                 -0.010714   \n",
       "travelling_network_rating                                           0.050845   \n",
       "Adult_flag                                                          0.092195   \n",
       "Daily_Avg_mins_spend_on_traveling_page                              0.572622   \n",
       "Yearly_avg_view_on_travel_page                                      1.000000   \n",
       "total_likes_on_outstation_checkin_given                             0.004526   \n",
       "Yearly_avg_comment_on_travel_page                                   0.044146   \n",
       "\n",
       "                                              total_likes_on_outstation_checkin_given  \\\n",
       "UserID                                                                      -0.014138   \n",
       "total_likes_on_outofstation_checkin_received                                 0.012607   \n",
       "week_since_last_outstation_checkin                                           0.037389   \n",
       "montly_avg_comment_on_company_page                                           0.010273   \n",
       "travelling_network_rating                                                    0.001654   \n",
       "Adult_flag                                                                   0.031990   \n",
       "Daily_Avg_mins_spend_on_traveling_page                                       0.003651   \n",
       "Yearly_avg_view_on_travel_page                                               0.004526   \n",
       "total_likes_on_outstation_checkin_given                                      1.000000   \n",
       "Yearly_avg_comment_on_travel_page                                            0.005064   \n",
       "\n",
       "                                              Yearly_avg_comment_on_travel_page  \n",
       "UserID                                                                 0.234439  \n",
       "total_likes_on_outofstation_checkin_received                          -0.019473  \n",
       "week_since_last_outstation_checkin                                     0.061769  \n",
       "montly_avg_comment_on_company_page                                     0.022437  \n",
       "travelling_network_rating                                              0.005849  \n",
       "Adult_flag                                                             0.034558  \n",
       "Daily_Avg_mins_spend_on_traveling_page                                 0.058067  \n",
       "Yearly_avg_view_on_travel_page                                         0.044146  \n",
       "total_likes_on_outstation_checkin_given                                0.005064  \n",
       "Yearly_avg_comment_on_travel_page                                      1.000000  "
      ]
     },
     "execution_count": 44,
     "metadata": {},
     "output_type": "execute_result"
    }
   ],
   "source": [
    "Corr_mob = df_numerical_features.corr()\n",
    "Corr_mob"
   ]
  },
  {
   "cell_type": "code",
   "execution_count": 45,
   "id": "61e38fda",
   "metadata": {
    "id": "61e38fda",
    "outputId": "f775171d-a464-4511-cff3-507880e76e95"
   },
   "outputs": [
    {
     "data": {
      "image/png": "[encoded data removed]",
      "text/plain": [
       "<Figure size 648x576 with 2 Axes>"
      ]
     },
     "metadata": {
      "needs_background": "light"
     },
     "output_type": "display_data"
    }
   ],
   "source": [
    "Corr = df_numerical_features.corr()\n",
    "plt.figure(figsize=(9, 8))\n",
    "corr_vis = sns.heatmap(Corr)"
   ]
  },
  {
   "cell_type": "markdown",
   "id": "06b5f1fc",
   "metadata": {
    "id": "06b5f1fc"
   },
   "source": [
    "OBSERVATION: As the highest correlation between the column (Daily_Avg_mins_spend_on_traveling_page) and (total_likes_on_outofstation_checkin_received) is 0.670814 which is a positive and moderate correlation we prefer not to remove any column."
   ]
  },
  {
   "cell_type": "code",
   "execution_count": 46,
   "id": "83a29682",
   "metadata": {
    "id": "83a29682",
    "outputId": "c689877a-82c6-4ea3-8b4c-b1e263ba653d"
   },
   "outputs": [
    {
     "data": {
      "text/html": [
       "<div>\n",
       "<style scoped>\n",
       "    .dataframe tbody tr th:only-of-type {\n",
       "        vertical-align: middle;\n",
       "    }\n",
       "\n",
       "    .dataframe tbody tr th {\n",
       "        vertical-align: top;\n",
       "    }\n",
       "\n",
       "    .dataframe thead th {\n",
       "        text-align: right;\n",
       "    }\n",
       "</style>\n",
       "<table border=\"1\" class=\"dataframe\">\n",
       "  <thead>\n",
       "    <tr style=\"text-align: right;\">\n",
       "      <th></th>\n",
       "      <th>UserID</th>\n",
       "      <th>total_likes_on_outofstation_checkin_received</th>\n",
       "      <th>week_since_last_outstation_checkin</th>\n",
       "      <th>montly_avg_comment_on_company_page</th>\n",
       "      <th>travelling_network_rating</th>\n",
       "      <th>Adult_flag</th>\n",
       "      <th>Daily_Avg_mins_spend_on_traveling_page</th>\n",
       "      <th>Yearly_avg_view_on_travel_page</th>\n",
       "      <th>total_likes_on_outstation_checkin_given</th>\n",
       "      <th>Yearly_avg_comment_on_travel_page</th>\n",
       "    </tr>\n",
       "  </thead>\n",
       "  <tbody>\n",
       "    <tr>\n",
       "      <th>UserID</th>\n",
       "      <td>1.000000</td>\n",
       "      <td>0.007110</td>\n",
       "      <td>0.091914</td>\n",
       "      <td>0.047617</td>\n",
       "      <td>-0.014396</td>\n",
       "      <td>0.008920</td>\n",
       "      <td>0.113330</td>\n",
       "      <td>0.086936</td>\n",
       "      <td>-0.014138</td>\n",
       "      <td>0.234439</td>\n",
       "    </tr>\n",
       "    <tr>\n",
       "      <th>total_likes_on_outofstation_checkin_received</th>\n",
       "      <td>0.007110</td>\n",
       "      <td>1.000000</td>\n",
       "      <td>0.140922</td>\n",
       "      <td>-0.006611</td>\n",
       "      <td>0.028559</td>\n",
       "      <td>0.063368</td>\n",
       "      <td>0.670814</td>\n",
       "      <td>0.486436</td>\n",
       "      <td>0.012607</td>\n",
       "      <td>-0.019473</td>\n",
       "    </tr>\n",
       "    <tr>\n",
       "      <th>week_since_last_outstation_checkin</th>\n",
       "      <td>0.091914</td>\n",
       "      <td>0.140922</td>\n",
       "      <td>1.000000</td>\n",
       "      <td>0.032156</td>\n",
       "      <td>0.041159</td>\n",
       "      <td>0.017826</td>\n",
       "      <td>0.244828</td>\n",
       "      <td>0.276104</td>\n",
       "      <td>0.037389</td>\n",
       "      <td>0.061769</td>\n",
       "    </tr>\n",
       "    <tr>\n",
       "      <th>montly_avg_comment_on_company_page</th>\n",
       "      <td>0.047617</td>\n",
       "      <td>-0.006611</td>\n",
       "      <td>0.032156</td>\n",
       "      <td>1.000000</td>\n",
       "      <td>-0.020917</td>\n",
       "      <td>0.003787</td>\n",
       "      <td>0.053394</td>\n",
       "      <td>-0.010714</td>\n",
       "      <td>0.010273</td>\n",
       "      <td>0.022437</td>\n",
       "    </tr>\n",
       "    <tr>\n",
       "      <th>travelling_network_rating</th>\n",
       "      <td>-0.014396</td>\n",
       "      <td>0.028559</td>\n",
       "      <td>0.041159</td>\n",
       "      <td>-0.020917</td>\n",
       "      <td>1.000000</td>\n",
       "      <td>-0.061977</td>\n",
       "      <td>0.020038</td>\n",
       "      <td>0.050845</td>\n",
       "      <td>0.001654</td>\n",
       "      <td>0.005849</td>\n",
       "    </tr>\n",
       "    <tr>\n",
       "      <th>Adult_flag</th>\n",
       "      <td>0.008920</td>\n",
       "      <td>0.063368</td>\n",
       "      <td>0.017826</td>\n",
       "      <td>0.003787</td>\n",
       "      <td>-0.061977</td>\n",
       "      <td>1.000000</td>\n",
       "      <td>0.055908</td>\n",
       "      <td>0.092195</td>\n",
       "      <td>0.031990</td>\n",
       "      <td>0.034558</td>\n",
       "    </tr>\n",
       "    <tr>\n",
       "      <th>Daily_Avg_mins_spend_on_traveling_page</th>\n",
       "      <td>0.113330</td>\n",
       "      <td>0.670814</td>\n",
       "      <td>0.244828</td>\n",
       "      <td>0.053394</td>\n",
       "      <td>0.020038</td>\n",
       "      <td>0.055908</td>\n",
       "      <td>1.000000</td>\n",
       "      <td>0.572622</td>\n",
       "      <td>0.003651</td>\n",
       "      <td>0.058067</td>\n",
       "    </tr>\n",
       "    <tr>\n",
       "      <th>Yearly_avg_view_on_travel_page</th>\n",
       "      <td>0.086936</td>\n",
       "      <td>0.486436</td>\n",
       "      <td>0.276104</td>\n",
       "      <td>-0.010714</td>\n",
       "      <td>0.050845</td>\n",
       "      <td>0.092195</td>\n",
       "      <td>0.572622</td>\n",
       "      <td>1.000000</td>\n",
       "      <td>0.004526</td>\n",
       "      <td>0.044146</td>\n",
       "    </tr>\n",
       "    <tr>\n",
       "      <th>total_likes_on_outstation_checkin_given</th>\n",
       "      <td>-0.014138</td>\n",
       "      <td>0.012607</td>\n",
       "      <td>0.037389</td>\n",
       "      <td>0.010273</td>\n",
       "      <td>0.001654</td>\n",
       "      <td>0.031990</td>\n",
       "      <td>0.003651</td>\n",
       "      <td>0.004526</td>\n",
       "      <td>1.000000</td>\n",
       "      <td>0.005064</td>\n",
       "    </tr>\n",
       "    <tr>\n",
       "      <th>Yearly_avg_comment_on_travel_page</th>\n",
       "      <td>0.234439</td>\n",
       "      <td>-0.019473</td>\n",
       "      <td>0.061769</td>\n",
       "      <td>0.022437</td>\n",
       "      <td>0.005849</td>\n",
       "      <td>0.034558</td>\n",
       "      <td>0.058067</td>\n",
       "      <td>0.044146</td>\n",
       "      <td>0.005064</td>\n",
       "      <td>1.000000</td>\n",
       "    </tr>\n",
       "  </tbody>\n",
       "</table>\n",
       "</div>"
      ],
      "text/plain": [
       "                                                UserID  \\\n",
       "UserID                                        1.000000   \n",
       "total_likes_on_outofstation_checkin_received  0.007110   \n",
       "week_since_last_outstation_checkin            0.091914   \n",
       "montly_avg_comment_on_company_page            0.047617   \n",
       "travelling_network_rating                    -0.014396   \n",
       "Adult_flag                                    0.008920   \n",
       "Daily_Avg_mins_spend_on_traveling_page        0.113330   \n",
       "Yearly_avg_view_on_travel_page                0.086936   \n",
       "total_likes_on_outstation_checkin_given      -0.014138   \n",
       "Yearly_avg_comment_on_travel_page             0.234439   \n",
       "\n",
       "                                              total_likes_on_outofstation_checkin_received  \\\n",
       "UserID                                                                            0.007110   \n",
       "total_likes_on_outofstation_checkin_received                                      1.000000   \n",
       "week_since_last_outstation_checkin                                                0.140922   \n",
       "montly_avg_comment_on_company_page                                               -0.006611   \n",
       "travelling_network_rating                                                         0.028559   \n",
       "Adult_flag                                                                        0.063368   \n",
       "Daily_Avg_mins_spend_on_traveling_page                                            0.670814   \n",
       "Yearly_avg_view_on_travel_page                                                    0.486436   \n",
       "total_likes_on_outstation_checkin_given                                           0.012607   \n",
       "Yearly_avg_comment_on_travel_page                                                -0.019473   \n",
       "\n",
       "                                              week_since_last_outstation_checkin  \\\n",
       "UserID                                                                  0.091914   \n",
       "total_likes_on_outofstation_checkin_received                            0.140922   \n",
       "week_since_last_outstation_checkin                                      1.000000   \n",
       "montly_avg_comment_on_company_page                                      0.032156   \n",
       "travelling_network_rating                                               0.041159   \n",
       "Adult_flag                                                              0.017826   \n",
       "Daily_Avg_mins_spend_on_traveling_page                                  0.244828   \n",
       "Yearly_avg_view_on_travel_page                                          0.276104   \n",
       "total_likes_on_outstation_checkin_given                                 0.037389   \n",
       "Yearly_avg_comment_on_travel_page                                       0.061769   \n",
       "\n",
       "                                              montly_avg_comment_on_company_page  \\\n",
       "UserID                                                                  0.047617   \n",
       "total_likes_on_outofstation_checkin_received                           -0.006611   \n",
       "week_since_last_outstation_checkin                                      0.032156   \n",
       "montly_avg_comment_on_company_page                                      1.000000   \n",
       "travelling_network_rating                                              -0.020917   \n",
       "Adult_flag                                                              0.003787   \n",
       "Daily_Avg_mins_spend_on_traveling_page                                  0.053394   \n",
       "Yearly_avg_view_on_travel_page                                         -0.010714   \n",
       "total_likes_on_outstation_checkin_given                                 0.010273   \n",
       "Yearly_avg_comment_on_travel_page                                       0.022437   \n",
       "\n",
       "                                              travelling_network_rating  \\\n",
       "UserID                                                        -0.014396   \n",
       "total_likes_on_outofstation_checkin_received                   0.028559   \n",
       "week_since_last_outstation_checkin                             0.041159   \n",
       "montly_avg_comment_on_company_page                            -0.020917   \n",
       "travelling_network_rating                                      1.000000   \n",
       "Adult_flag                                                    -0.061977   \n",
       "Daily_Avg_mins_spend_on_traveling_page                         0.020038   \n",
       "Yearly_avg_view_on_travel_page                                 0.050845   \n",
       "total_likes_on_outstation_checkin_given                        0.001654   \n",
       "Yearly_avg_comment_on_travel_page                              0.005849   \n",
       "\n",
       "                                              Adult_flag  \\\n",
       "UserID                                          0.008920   \n",
       "total_likes_on_outofstation_checkin_received    0.063368   \n",
       "week_since_last_outstation_checkin              0.017826   \n",
       "montly_avg_comment_on_company_page              0.003787   \n",
       "travelling_network_rating                      -0.061977   \n",
       "Adult_flag                                      1.000000   \n",
       "Daily_Avg_mins_spend_on_traveling_page          0.055908   \n",
       "Yearly_avg_view_on_travel_page                  0.092195   \n",
       "total_likes_on_outstation_checkin_given         0.031990   \n",
       "Yearly_avg_comment_on_travel_page               0.034558   \n",
       "\n",
       "                                              Daily_Avg_mins_spend_on_traveling_page  \\\n",
       "UserID                                                                      0.113330   \n",
       "total_likes_on_outofstation_checkin_received                                0.670814   \n",
       "week_since_last_outstation_checkin                                          0.244828   \n",
       "montly_avg_comment_on_company_page                                          0.053394   \n",
       "travelling_network_rating                                                   0.020038   \n",
       "Adult_flag                                                                  0.055908   \n",
       "Daily_Avg_mins_spend_on_traveling_page                                      1.000000   \n",
       "Yearly_avg_view_on_travel_page                                              0.572622   \n",
       "total_likes_on_outstation_checkin_given                                     0.003651   \n",
       "Yearly_avg_comment_on_travel_page                                           0.058067   \n",
       "\n",
       "                                              Yearly_avg_view_on_travel_page  \\\n",
       "UserID                                                              0.086936   \n",
       "total_likes_on_outofstation_checkin_received                        0.486436   \n",
       "week_since_last_outstation_checkin                                  0.276104   \n",
       "montly_avg_comment_on_company_page                                 -0.010714   \n",
       "travelling_network_rating                                           0.050845   \n",
       "Adult_flag                                                          0.092195   \n",
       "Daily_Avg_mins_spend_on_traveling_page                              0.572622   \n",
       "Yearly_avg_view_on_travel_page                                      1.000000   \n",
       "total_likes_on_outstation_checkin_given                             0.004526   \n",
       "Yearly_avg_comment_on_travel_page                                   0.044146   \n",
       "\n",
       "                                              total_likes_on_outstation_checkin_given  \\\n",
       "UserID                                                                      -0.014138   \n",
       "total_likes_on_outofstation_checkin_received                                 0.012607   \n",
       "week_since_last_outstation_checkin                                           0.037389   \n",
       "montly_avg_comment_on_company_page                                           0.010273   \n",
       "travelling_network_rating                                                    0.001654   \n",
       "Adult_flag                                                                   0.031990   \n",
       "Daily_Avg_mins_spend_on_traveling_page                                       0.003651   \n",
       "Yearly_avg_view_on_travel_page                                               0.004526   \n",
       "total_likes_on_outstation_checkin_given                                      1.000000   \n",
       "Yearly_avg_comment_on_travel_page                                            0.005064   \n",
       "\n",
       "                                              Yearly_avg_comment_on_travel_page  \n",
       "UserID                                                                 0.234439  \n",
       "total_likes_on_outofstation_checkin_received                          -0.019473  \n",
       "week_since_last_outstation_checkin                                     0.061769  \n",
       "montly_avg_comment_on_company_page                                     0.022437  \n",
       "travelling_network_rating                                              0.005849  \n",
       "Adult_flag                                                             0.034558  \n",
       "Daily_Avg_mins_spend_on_traveling_page                                 0.058067  \n",
       "Yearly_avg_view_on_travel_page                                         0.044146  \n",
       "total_likes_on_outstation_checkin_given                                0.005064  \n",
       "Yearly_avg_comment_on_travel_page                                      1.000000  "
      ]
     },
     "execution_count": 46,
     "metadata": {},
     "output_type": "execute_result"
    }
   ],
   "source": [
    "Corr = df_numerical_features.corr()\n",
    "Corr"
   ]
  },
  {
   "cell_type": "code",
   "execution_count": 47,
   "id": "76bcaedc",
   "metadata": {
    "id": "76bcaedc"
   },
   "outputs": [],
   "source": [
    "############################################################################################################################"
   ]
  },
  {
   "cell_type": "code",
   "execution_count": 48,
   "id": "d48e239a",
   "metadata": {
    "id": "d48e239a",
    "outputId": "8e80a989-66e6-4cf3-c6d4-2b7a0af089a5"
   },
   "outputs": [
    {
     "data": {
      "text/html": [
       "<div>\n",
       "<style scoped>\n",
       "    .dataframe tbody tr th:only-of-type {\n",
       "        vertical-align: middle;\n",
       "    }\n",
       "\n",
       "    .dataframe tbody tr th {\n",
       "        vertical-align: top;\n",
       "    }\n",
       "\n",
       "    .dataframe thead th {\n",
       "        text-align: right;\n",
       "    }\n",
       "</style>\n",
       "<table border=\"1\" class=\"dataframe\">\n",
       "  <thead>\n",
       "    <tr style=\"text-align: right;\">\n",
       "      <th></th>\n",
       "      <th>Taken_product</th>\n",
       "      <th>preferred_device</th>\n",
       "      <th>yearly_avg_Outstation_checkins</th>\n",
       "      <th>member_in_family</th>\n",
       "      <th>preferred_location_type</th>\n",
       "      <th>following_company_page</th>\n",
       "      <th>working_flag</th>\n",
       "    </tr>\n",
       "  </thead>\n",
       "  <tbody>\n",
       "    <tr>\n",
       "      <th>0</th>\n",
       "      <td>Yes</td>\n",
       "      <td>Mobile</td>\n",
       "      <td>1</td>\n",
       "      <td>2</td>\n",
       "      <td>Financial</td>\n",
       "      <td>1</td>\n",
       "      <td>No</td>\n",
       "    </tr>\n",
       "    <tr>\n",
       "      <th>1</th>\n",
       "      <td>No</td>\n",
       "      <td>Mobile</td>\n",
       "      <td>1</td>\n",
       "      <td>1</td>\n",
       "      <td>Financial</td>\n",
       "      <td>0</td>\n",
       "      <td>Yes</td>\n",
       "    </tr>\n",
       "    <tr>\n",
       "      <th>2</th>\n",
       "      <td>Yes</td>\n",
       "      <td>Mobile</td>\n",
       "      <td>1</td>\n",
       "      <td>2</td>\n",
       "      <td>Other</td>\n",
       "      <td>1</td>\n",
       "      <td>No</td>\n",
       "    </tr>\n",
       "    <tr>\n",
       "      <th>3</th>\n",
       "      <td>No</td>\n",
       "      <td>Mobile</td>\n",
       "      <td>1</td>\n",
       "      <td>4</td>\n",
       "      <td>Financial</td>\n",
       "      <td>1</td>\n",
       "      <td>No</td>\n",
       "    </tr>\n",
       "    <tr>\n",
       "      <th>4</th>\n",
       "      <td>No</td>\n",
       "      <td>Mobile</td>\n",
       "      <td>1</td>\n",
       "      <td>1</td>\n",
       "      <td>Medical</td>\n",
       "      <td>0</td>\n",
       "      <td>No</td>\n",
       "    </tr>\n",
       "    <tr>\n",
       "      <th>...</th>\n",
       "      <td>...</td>\n",
       "      <td>...</td>\n",
       "      <td>...</td>\n",
       "      <td>...</td>\n",
       "      <td>...</td>\n",
       "      <td>...</td>\n",
       "      <td>...</td>\n",
       "    </tr>\n",
       "    <tr>\n",
       "      <th>11753</th>\n",
       "      <td>No</td>\n",
       "      <td>Mobile</td>\n",
       "      <td>5</td>\n",
       "      <td>3</td>\n",
       "      <td>Historical site</td>\n",
       "      <td>0</td>\n",
       "      <td>No</td>\n",
       "    </tr>\n",
       "    <tr>\n",
       "      <th>11754</th>\n",
       "      <td>No</td>\n",
       "      <td>Mobile</td>\n",
       "      <td>5</td>\n",
       "      <td>3</td>\n",
       "      <td>Other</td>\n",
       "      <td>0</td>\n",
       "      <td>No</td>\n",
       "    </tr>\n",
       "    <tr>\n",
       "      <th>11756</th>\n",
       "      <td>No</td>\n",
       "      <td>Mobile</td>\n",
       "      <td>6</td>\n",
       "      <td>1</td>\n",
       "      <td>Historical site</td>\n",
       "      <td>0</td>\n",
       "      <td>No</td>\n",
       "    </tr>\n",
       "    <tr>\n",
       "      <th>11757</th>\n",
       "      <td>No</td>\n",
       "      <td>Mobile</td>\n",
       "      <td>4</td>\n",
       "      <td>3</td>\n",
       "      <td>Beach</td>\n",
       "      <td>1</td>\n",
       "      <td>Yes</td>\n",
       "    </tr>\n",
       "    <tr>\n",
       "      <th>11759</th>\n",
       "      <td>No</td>\n",
       "      <td>Mobile</td>\n",
       "      <td>8</td>\n",
       "      <td>3</td>\n",
       "      <td>Historical site</td>\n",
       "      <td>0</td>\n",
       "      <td>No</td>\n",
       "    </tr>\n",
       "  </tbody>\n",
       "</table>\n",
       "<p>10390 rows × 7 columns</p>\n",
       "</div>"
      ],
      "text/plain": [
       "      Taken_product preferred_device yearly_avg_Outstation_checkins  \\\n",
       "0               Yes           Mobile                              1   \n",
       "1                No           Mobile                              1   \n",
       "2               Yes           Mobile                              1   \n",
       "3                No           Mobile                              1   \n",
       "4                No           Mobile                              1   \n",
       "...             ...              ...                            ...   \n",
       "11753            No           Mobile                              5   \n",
       "11754            No           Mobile                              5   \n",
       "11756            No           Mobile                              6   \n",
       "11757            No           Mobile                              4   \n",
       "11759            No           Mobile                              8   \n",
       "\n",
       "      member_in_family preferred_location_type following_company_page  \\\n",
       "0                    2               Financial                      1   \n",
       "1                    1               Financial                      0   \n",
       "2                    2                   Other                      1   \n",
       "3                    4               Financial                      1   \n",
       "4                    1                 Medical                      0   \n",
       "...                ...                     ...                    ...   \n",
       "11753                3         Historical site                      0   \n",
       "11754                3                   Other                      0   \n",
       "11756                1         Historical site                      0   \n",
       "11757                3                   Beach                      1   \n",
       "11759                3         Historical site                      0   \n",
       "\n",
       "      working_flag  \n",
       "0               No  \n",
       "1              Yes  \n",
       "2               No  \n",
       "3               No  \n",
       "4               No  \n",
       "...            ...  \n",
       "11753           No  \n",
       "11754           No  \n",
       "11756           No  \n",
       "11757          Yes  \n",
       "11759           No  \n",
       "\n",
       "[10390 rows x 7 columns]"
      ]
     },
     "execution_count": 48,
     "metadata": {},
     "output_type": "execute_result"
    }
   ],
   "source": [
    "df_categorical_features"
   ]
  },
  {
   "cell_type": "code",
   "execution_count": 49,
   "id": "c4d85b35",
   "metadata": {
    "id": "c4d85b35",
    "outputId": "ef7c9aa2-732e-4b33-cf1d-d8b5ec3da4a9"
   },
   "outputs": [
    {
     "name": "stderr",
     "output_type": "stream",
     "text": [
      "C:\\Users\\LUCKY\\AppData\\Local\\Temp\\ipykernel_7636\\847278239.py:5: SettingWithCopyWarning: \n",
      "A value is trying to be set on a copy of a slice from a DataFrame.\n",
      "Try using .loc[row_indexer,col_indexer] = value instead\n",
      "\n",
      "See the caveats in the documentation: https://pandas.pydata.org/pandas-docs/stable/user_guide/indexing.html#returning-a-view-versus-a-copy\n",
      "  df_mobile['preferred_location_type'] = label_encoder.fit_transform(df_mobile['preferred_location_type'])\n",
      "C:\\Users\\LUCKY\\AppData\\Local\\Temp\\ipykernel_7636\\847278239.py:6: SettingWithCopyWarning: \n",
      "A value is trying to be set on a copy of a slice from a DataFrame.\n",
      "Try using .loc[row_indexer,col_indexer] = value instead\n",
      "\n",
      "See the caveats in the documentation: https://pandas.pydata.org/pandas-docs/stable/user_guide/indexing.html#returning-a-view-versus-a-copy\n",
      "  df_mobile['preferred_device'] = label_encoder.fit_transform(df_mobile['preferred_device'])\n",
      "C:\\Users\\LUCKY\\AppData\\Local\\Temp\\ipykernel_7636\\847278239.py:7: SettingWithCopyWarning: \n",
      "A value is trying to be set on a copy of a slice from a DataFrame.\n",
      "Try using .loc[row_indexer,col_indexer] = value instead\n",
      "\n",
      "See the caveats in the documentation: https://pandas.pydata.org/pandas-docs/stable/user_guide/indexing.html#returning-a-view-versus-a-copy\n",
      "  df_mobile['Taken_product'] = label_encoder.fit_transform(df_mobile['Taken_product'])\n",
      "C:\\Users\\LUCKY\\AppData\\Local\\Temp\\ipykernel_7636\\847278239.py:8: SettingWithCopyWarning: \n",
      "A value is trying to be set on a copy of a slice from a DataFrame.\n",
      "Try using .loc[row_indexer,col_indexer] = value instead\n",
      "\n",
      "See the caveats in the documentation: https://pandas.pydata.org/pandas-docs/stable/user_guide/indexing.html#returning-a-view-versus-a-copy\n",
      "  df_mobile['working_flag'] = label_encoder.fit_transform(df_mobile['working_flag'])\n"
     ]
    },
    {
     "data": {
      "text/plain": [
       "0    8810\n",
       "1    1580\n",
       "Name: Taken_product, dtype: int64"
      ]
     },
     "execution_count": 49,
     "metadata": {},
     "output_type": "execute_result"
    }
   ],
   "source": [
    "#Label encoding mobile dataset\n",
    "\n",
    "from sklearn.preprocessing import LabelEncoder\n",
    "label_encoder = LabelEncoder()\n",
    "df_mobile['preferred_location_type'] = label_encoder.fit_transform(df_mobile['preferred_location_type'])\n",
    "df_mobile['preferred_device'] = label_encoder.fit_transform(df_mobile['preferred_device'])\n",
    "df_mobile['Taken_product'] = label_encoder.fit_transform(df_mobile['Taken_product'])\n",
    "df_mobile['working_flag'] = label_encoder.fit_transform(df_mobile['working_flag'])\n",
    "\n",
    "df_mobile['Taken_product'].value_counts()"
   ]
  },
  {
   "cell_type": "code",
   "execution_count": 50,
   "id": "a5ea8293",
   "metadata": {
    "id": "a5ea8293",
    "outputId": "8cd0c210-f251-4f19-e90e-2758470f0429"
   },
   "outputs": [
    {
     "data": {
      "text/html": [
       "<div>\n",
       "<style scoped>\n",
       "    .dataframe tbody tr th:only-of-type {\n",
       "        vertical-align: middle;\n",
       "    }\n",
       "\n",
       "    .dataframe tbody tr th {\n",
       "        vertical-align: top;\n",
       "    }\n",
       "\n",
       "    .dataframe thead th {\n",
       "        text-align: right;\n",
       "    }\n",
       "</style>\n",
       "<table border=\"1\" class=\"dataframe\">\n",
       "  <thead>\n",
       "    <tr style=\"text-align: right;\">\n",
       "      <th></th>\n",
       "      <th>UserID</th>\n",
       "      <th>Taken_product</th>\n",
       "      <th>preferred_device</th>\n",
       "      <th>preferred_location_type</th>\n",
       "      <th>total_likes_on_outofstation_checkin_received</th>\n",
       "      <th>week_since_last_outstation_checkin</th>\n",
       "      <th>montly_avg_comment_on_company_page</th>\n",
       "      <th>working_flag</th>\n",
       "      <th>travelling_network_rating</th>\n",
       "      <th>Adult_flag</th>\n",
       "      <th>Daily_Avg_mins_spend_on_traveling_page</th>\n",
       "      <th>Yearly_avg_view_on_travel_page</th>\n",
       "      <th>total_likes_on_outstation_checkin_given</th>\n",
       "      <th>Yearly_avg_comment_on_travel_page</th>\n",
       "    </tr>\n",
       "  </thead>\n",
       "  <tbody>\n",
       "    <tr>\n",
       "      <th>count</th>\n",
       "      <td>1.039000e+04</td>\n",
       "      <td>10390.000000</td>\n",
       "      <td>10390.0</td>\n",
       "      <td>10390.000000</td>\n",
       "      <td>10390.000000</td>\n",
       "      <td>10390.000000</td>\n",
       "      <td>10390.000000</td>\n",
       "      <td>10390.000000</td>\n",
       "      <td>10390.000000</td>\n",
       "      <td>10390.000000</td>\n",
       "      <td>10390.000000</td>\n",
       "      <td>10390.000000</td>\n",
       "      <td>10390.000000</td>\n",
       "      <td>10390.000000</td>\n",
       "    </tr>\n",
       "    <tr>\n",
       "      <th>mean</th>\n",
       "      <td>1.005660e+06</td>\n",
       "      <td>0.152069</td>\n",
       "      <td>0.0</td>\n",
       "      <td>4.811838</td>\n",
       "      <td>6572.321367</td>\n",
       "      <td>3.230703</td>\n",
       "      <td>29.005005</td>\n",
       "      <td>0.152936</td>\n",
       "      <td>2.705967</td>\n",
       "      <td>0.571607</td>\n",
       "      <td>13.873821</td>\n",
       "      <td>280.460635</td>\n",
       "      <td>28240.925327</td>\n",
       "      <td>74.503080</td>\n",
       "    </tr>\n",
       "    <tr>\n",
       "      <th>std</th>\n",
       "      <td>3.372806e+03</td>\n",
       "      <td>0.359105</td>\n",
       "      <td>0.0</td>\n",
       "      <td>3.781998</td>\n",
       "      <td>4750.963619</td>\n",
       "      <td>2.628029</td>\n",
       "      <td>51.061105</td>\n",
       "      <td>0.359943</td>\n",
       "      <td>1.081915</td>\n",
       "      <td>0.494870</td>\n",
       "      <td>9.192907</td>\n",
       "      <td>67.444555</td>\n",
       "      <td>14397.316238</td>\n",
       "      <td>24.242561</td>\n",
       "    </tr>\n",
       "    <tr>\n",
       "      <th>min</th>\n",
       "      <td>1.000001e+06</td>\n",
       "      <td>0.000000</td>\n",
       "      <td>0.0</td>\n",
       "      <td>0.000000</td>\n",
       "      <td>1009.000000</td>\n",
       "      <td>0.000000</td>\n",
       "      <td>11.000000</td>\n",
       "      <td>0.000000</td>\n",
       "      <td>1.000000</td>\n",
       "      <td>0.000000</td>\n",
       "      <td>0.000000</td>\n",
       "      <td>35.000000</td>\n",
       "      <td>3570.000000</td>\n",
       "      <td>3.000000</td>\n",
       "    </tr>\n",
       "    <tr>\n",
       "      <th>25%</th>\n",
       "      <td>1.002760e+06</td>\n",
       "      <td>0.000000</td>\n",
       "      <td>0.0</td>\n",
       "      <td>2.000000</td>\n",
       "      <td>2943.000000</td>\n",
       "      <td>1.000000</td>\n",
       "      <td>17.000000</td>\n",
       "      <td>0.000000</td>\n",
       "      <td>2.000000</td>\n",
       "      <td>0.000000</td>\n",
       "      <td>8.000000</td>\n",
       "      <td>232.000000</td>\n",
       "      <td>16427.750000</td>\n",
       "      <td>57.000000</td>\n",
       "    </tr>\n",
       "    <tr>\n",
       "      <th>50%</th>\n",
       "      <td>1.005454e+06</td>\n",
       "      <td>0.000000</td>\n",
       "      <td>0.0</td>\n",
       "      <td>3.000000</td>\n",
       "      <td>4968.000000</td>\n",
       "      <td>3.000000</td>\n",
       "      <td>22.000000</td>\n",
       "      <td>0.000000</td>\n",
       "      <td>3.000000</td>\n",
       "      <td>1.000000</td>\n",
       "      <td>12.000000</td>\n",
       "      <td>271.000000</td>\n",
       "      <td>28216.000000</td>\n",
       "      <td>74.000000</td>\n",
       "    </tr>\n",
       "    <tr>\n",
       "      <th>75%</th>\n",
       "      <td>1.008565e+06</td>\n",
       "      <td>0.000000</td>\n",
       "      <td>0.0</td>\n",
       "      <td>7.000000</td>\n",
       "      <td>8417.250000</td>\n",
       "      <td>5.000000</td>\n",
       "      <td>27.000000</td>\n",
       "      <td>0.000000</td>\n",
       "      <td>4.000000</td>\n",
       "      <td>1.000000</td>\n",
       "      <td>18.000000</td>\n",
       "      <td>322.000000</td>\n",
       "      <td>40387.500000</td>\n",
       "      <td>92.000000</td>\n",
       "    </tr>\n",
       "    <tr>\n",
       "      <th>max</th>\n",
       "      <td>1.011760e+06</td>\n",
       "      <td>1.000000</td>\n",
       "      <td>0.0</td>\n",
       "      <td>13.000000</td>\n",
       "      <td>20065.000000</td>\n",
       "      <td>11.000000</td>\n",
       "      <td>500.000000</td>\n",
       "      <td>1.000000</td>\n",
       "      <td>4.000000</td>\n",
       "      <td>1.000000</td>\n",
       "      <td>270.000000</td>\n",
       "      <td>464.000000</td>\n",
       "      <td>252430.000000</td>\n",
       "      <td>815.000000</td>\n",
       "    </tr>\n",
       "  </tbody>\n",
       "</table>\n",
       "</div>"
      ],
      "text/plain": [
       "             UserID  Taken_product  preferred_device  preferred_location_type  \\\n",
       "count  1.039000e+04   10390.000000           10390.0             10390.000000   \n",
       "mean   1.005660e+06       0.152069               0.0                 4.811838   \n",
       "std    3.372806e+03       0.359105               0.0                 3.781998   \n",
       "min    1.000001e+06       0.000000               0.0                 0.000000   \n",
       "25%    1.002760e+06       0.000000               0.0                 2.000000   \n",
       "50%    1.005454e+06       0.000000               0.0                 3.000000   \n",
       "75%    1.008565e+06       0.000000               0.0                 7.000000   \n",
       "max    1.011760e+06       1.000000               0.0                13.000000   \n",
       "\n",
       "       total_likes_on_outofstation_checkin_received  \\\n",
       "count                                  10390.000000   \n",
       "mean                                    6572.321367   \n",
       "std                                     4750.963619   \n",
       "min                                     1009.000000   \n",
       "25%                                     2943.000000   \n",
       "50%                                     4968.000000   \n",
       "75%                                     8417.250000   \n",
       "max                                    20065.000000   \n",
       "\n",
       "       week_since_last_outstation_checkin  montly_avg_comment_on_company_page  \\\n",
       "count                        10390.000000                        10390.000000   \n",
       "mean                             3.230703                           29.005005   \n",
       "std                              2.628029                           51.061105   \n",
       "min                              0.000000                           11.000000   \n",
       "25%                              1.000000                           17.000000   \n",
       "50%                              3.000000                           22.000000   \n",
       "75%                              5.000000                           27.000000   \n",
       "max                             11.000000                          500.000000   \n",
       "\n",
       "       working_flag  travelling_network_rating    Adult_flag  \\\n",
       "count  10390.000000               10390.000000  10390.000000   \n",
       "mean       0.152936                   2.705967      0.571607   \n",
       "std        0.359943                   1.081915      0.494870   \n",
       "min        0.000000                   1.000000      0.000000   \n",
       "25%        0.000000                   2.000000      0.000000   \n",
       "50%        0.000000                   3.000000      1.000000   \n",
       "75%        0.000000                   4.000000      1.000000   \n",
       "max        1.000000                   4.000000      1.000000   \n",
       "\n",
       "       Daily_Avg_mins_spend_on_traveling_page  Yearly_avg_view_on_travel_page  \\\n",
       "count                            10390.000000                    10390.000000   \n",
       "mean                                13.873821                      280.460635   \n",
       "std                                  9.192907                       67.444555   \n",
       "min                                  0.000000                       35.000000   \n",
       "25%                                  8.000000                      232.000000   \n",
       "50%                                 12.000000                      271.000000   \n",
       "75%                                 18.000000                      322.000000   \n",
       "max                                270.000000                      464.000000   \n",
       "\n",
       "       total_likes_on_outstation_checkin_given  \\\n",
       "count                             10390.000000   \n",
       "mean                              28240.925327   \n",
       "std                               14397.316238   \n",
       "min                                3570.000000   \n",
       "25%                               16427.750000   \n",
       "50%                               28216.000000   \n",
       "75%                               40387.500000   \n",
       "max                              252430.000000   \n",
       "\n",
       "       Yearly_avg_comment_on_travel_page  \n",
       "count                       10390.000000  \n",
       "mean                           74.503080  \n",
       "std                            24.242561  \n",
       "min                             3.000000  \n",
       "25%                            57.000000  \n",
       "50%                            74.000000  \n",
       "75%                            92.000000  \n",
       "max                           815.000000  "
      ]
     },
     "execution_count": 50,
     "metadata": {},
     "output_type": "execute_result"
    }
   ],
   "source": [
    "df_mobile.describe()"
   ]
  },
  {
   "cell_type": "code",
   "execution_count": 51,
   "id": "ba92e6ff",
   "metadata": {
    "id": "ba92e6ff",
    "outputId": "39cd93e2-a09c-4b3c-8343-1d1f4f25a796"
   },
   "outputs": [
    {
     "name": "stderr",
     "output_type": "stream",
     "text": [
      "C:\\Users\\LUCKY\\AppData\\Local\\Temp\\ipykernel_7636\\845669271.py:3: SettingWithCopyWarning: \n",
      "A value is trying to be set on a copy of a slice from a DataFrame\n",
      "\n",
      "See the caveats in the documentation: https://pandas.pydata.org/pandas-docs/stable/user_guide/indexing.html#returning-a-view-versus-a-copy\n",
      "  df_mobile.drop(['preferred_device'], axis = 1, inplace = True)\n",
      "C:\\Users\\LUCKY\\AppData\\Local\\Temp\\ipykernel_7636\\845669271.py:4: SettingWithCopyWarning: \n",
      "A value is trying to be set on a copy of a slice from a DataFrame\n",
      "\n",
      "See the caveats in the documentation: https://pandas.pydata.org/pandas-docs/stable/user_guide/indexing.html#returning-a-view-versus-a-copy\n",
      "  df_mobile.drop(['UserID'], axis = 1, inplace = True)\n"
     ]
    }
   ],
   "source": [
    "#We do not need the preferred device column as we have only mobile\n",
    "\n",
    "df_mobile.drop(['preferred_device'], axis = 1, inplace = True)\n",
    "df_mobile.drop(['UserID'], axis = 1, inplace = True)"
   ]
  },
  {
   "cell_type": "code",
   "execution_count": 52,
   "id": "642e3ce4",
   "metadata": {
    "id": "642e3ce4",
    "outputId": "d4d21ec5-6cc3-4e40-8f94-18f6537b9566"
   },
   "outputs": [
    {
     "data": {
      "text/plain": [
       "Index(['Taken_product', 'yearly_avg_Outstation_checkins', 'member_in_family',\n",
       "       'preferred_location_type',\n",
       "       'total_likes_on_outofstation_checkin_received',\n",
       "       'week_since_last_outstation_checkin', 'following_company_page',\n",
       "       'montly_avg_comment_on_company_page', 'working_flag',\n",
       "       'travelling_network_rating', 'Adult_flag',\n",
       "       'Daily_Avg_mins_spend_on_traveling_page',\n",
       "       'Yearly_avg_view_on_travel_page',\n",
       "       'total_likes_on_outstation_checkin_given',\n",
       "       'Yearly_avg_comment_on_travel_page'],\n",
       "      dtype='object')"
      ]
     },
     "execution_count": 52,
     "metadata": {},
     "output_type": "execute_result"
    }
   ],
   "source": [
    "df_mobile.columns"
   ]
  },
  {
   "cell_type": "code",
   "execution_count": 53,
   "id": "4553b8fe",
   "metadata": {
    "id": "4553b8fe",
    "outputId": "a72ca4e5-4caa-4b05-c1ec-689c5ec22674"
   },
   "outputs": [
    {
     "name": "stdout",
     "output_type": "stream",
     "text": [
      "<class 'pandas.core.frame.DataFrame'>\n",
      "Int64Index: 10390 entries, 0 to 11759\n",
      "Data columns (total 15 columns):\n",
      " #   Column                                        Non-Null Count  Dtype  \n",
      "---  ------                                        --------------  -----  \n",
      " 0   Taken_product                                 10390 non-null  int32  \n",
      " 1   yearly_avg_Outstation_checkins                10390 non-null  object \n",
      " 2   member_in_family                              10390 non-null  object \n",
      " 3   preferred_location_type                       10390 non-null  int32  \n",
      " 4   total_likes_on_outofstation_checkin_received  10390 non-null  int64  \n",
      " 5   week_since_last_outstation_checkin            10390 non-null  int64  \n",
      " 6   following_company_page                        10390 non-null  object \n",
      " 7   montly_avg_comment_on_company_page            10390 non-null  int64  \n",
      " 8   working_flag                                  10390 non-null  int32  \n",
      " 9   travelling_network_rating                     10390 non-null  int64  \n",
      " 10  Adult_flag                                    10390 non-null  int64  \n",
      " 11  Daily_Avg_mins_spend_on_traveling_page        10390 non-null  int64  \n",
      " 12  Yearly_avg_view_on_travel_page                10390 non-null  float64\n",
      " 13  total_likes_on_outstation_checkin_given       10390 non-null  float64\n",
      " 14  Yearly_avg_comment_on_travel_page             10390 non-null  float64\n",
      "dtypes: float64(3), int32(3), int64(6), object(3)\n",
      "memory usage: 1.4+ MB\n"
     ]
    }
   ],
   "source": [
    "df_mobile.info()"
   ]
  },
  {
   "cell_type": "code",
   "execution_count": 54,
   "id": "21c8bc79",
   "metadata": {
    "id": "21c8bc79",
    "outputId": "0baf2ea8-b986-45ab-ca0d-3826d3c7c11e"
   },
   "outputs": [
    {
     "data": {
      "text/plain": [
       "0    8810\n",
       "1    1580\n",
       "Name: Taken_product, dtype: int64"
      ]
     },
     "execution_count": 54,
     "metadata": {},
     "output_type": "execute_result"
    }
   ],
   "source": [
    "df_mobile['Taken_product'].value_counts()"
   ]
  },
  {
   "cell_type": "code",
   "execution_count": 55,
   "id": "6eb40647",
   "metadata": {
    "id": "6eb40647",
    "outputId": "326d4929-edcb-42c2-abef-b32ece2f9827"
   },
   "outputs": [
    {
     "data": {
      "text/html": [
       "<div>\n",
       "<style scoped>\n",
       "    .dataframe tbody tr th:only-of-type {\n",
       "        vertical-align: middle;\n",
       "    }\n",
       "\n",
       "    .dataframe tbody tr th {\n",
       "        vertical-align: top;\n",
       "    }\n",
       "\n",
       "    .dataframe thead th {\n",
       "        text-align: right;\n",
       "    }\n",
       "</style>\n",
       "<table border=\"1\" class=\"dataframe\">\n",
       "  <thead>\n",
       "    <tr style=\"text-align: right;\">\n",
       "      <th></th>\n",
       "      <th>yearly_avg_Outstation_checkins</th>\n",
       "      <th>member_in_family</th>\n",
       "      <th>preferred_location_type</th>\n",
       "      <th>total_likes_on_outofstation_checkin_received</th>\n",
       "      <th>week_since_last_outstation_checkin</th>\n",
       "      <th>following_company_page</th>\n",
       "      <th>montly_avg_comment_on_company_page</th>\n",
       "      <th>working_flag</th>\n",
       "      <th>travelling_network_rating</th>\n",
       "      <th>Adult_flag</th>\n",
       "      <th>Daily_Avg_mins_spend_on_traveling_page</th>\n",
       "      <th>Yearly_avg_view_on_travel_page</th>\n",
       "      <th>total_likes_on_outstation_checkin_given</th>\n",
       "      <th>Yearly_avg_comment_on_travel_page</th>\n",
       "    </tr>\n",
       "  </thead>\n",
       "  <tbody>\n",
       "    <tr>\n",
       "      <th>0</th>\n",
       "      <td>1</td>\n",
       "      <td>2</td>\n",
       "      <td>3</td>\n",
       "      <td>5993</td>\n",
       "      <td>8</td>\n",
       "      <td>1</td>\n",
       "      <td>11</td>\n",
       "      <td>0</td>\n",
       "      <td>1</td>\n",
       "      <td>0</td>\n",
       "      <td>8</td>\n",
       "      <td>307.0</td>\n",
       "      <td>38570.0</td>\n",
       "      <td>94.0</td>\n",
       "    </tr>\n",
       "    <tr>\n",
       "      <th>1</th>\n",
       "      <td>1</td>\n",
       "      <td>1</td>\n",
       "      <td>3</td>\n",
       "      <td>5130</td>\n",
       "      <td>1</td>\n",
       "      <td>0</td>\n",
       "      <td>23</td>\n",
       "      <td>1</td>\n",
       "      <td>4</td>\n",
       "      <td>1</td>\n",
       "      <td>10</td>\n",
       "      <td>367.0</td>\n",
       "      <td>9765.0</td>\n",
       "      <td>61.0</td>\n",
       "    </tr>\n",
       "    <tr>\n",
       "      <th>2</th>\n",
       "      <td>1</td>\n",
       "      <td>2</td>\n",
       "      <td>10</td>\n",
       "      <td>2090</td>\n",
       "      <td>6</td>\n",
       "      <td>1</td>\n",
       "      <td>15</td>\n",
       "      <td>0</td>\n",
       "      <td>2</td>\n",
       "      <td>0</td>\n",
       "      <td>7</td>\n",
       "      <td>277.0</td>\n",
       "      <td>48055.0</td>\n",
       "      <td>92.0</td>\n",
       "    </tr>\n",
       "    <tr>\n",
       "      <th>3</th>\n",
       "      <td>1</td>\n",
       "      <td>4</td>\n",
       "      <td>3</td>\n",
       "      <td>2909</td>\n",
       "      <td>1</td>\n",
       "      <td>1</td>\n",
       "      <td>11</td>\n",
       "      <td>0</td>\n",
       "      <td>3</td>\n",
       "      <td>0</td>\n",
       "      <td>8</td>\n",
       "      <td>247.0</td>\n",
       "      <td>48720.0</td>\n",
       "      <td>56.0</td>\n",
       "    </tr>\n",
       "    <tr>\n",
       "      <th>4</th>\n",
       "      <td>1</td>\n",
       "      <td>1</td>\n",
       "      <td>7</td>\n",
       "      <td>3468</td>\n",
       "      <td>9</td>\n",
       "      <td>0</td>\n",
       "      <td>12</td>\n",
       "      <td>0</td>\n",
       "      <td>4</td>\n",
       "      <td>1</td>\n",
       "      <td>6</td>\n",
       "      <td>202.0</td>\n",
       "      <td>20685.0</td>\n",
       "      <td>40.0</td>\n",
       "    </tr>\n",
       "    <tr>\n",
       "      <th>...</th>\n",
       "      <td>...</td>\n",
       "      <td>...</td>\n",
       "      <td>...</td>\n",
       "      <td>...</td>\n",
       "      <td>...</td>\n",
       "      <td>...</td>\n",
       "      <td>...</td>\n",
       "      <td>...</td>\n",
       "      <td>...</td>\n",
       "      <td>...</td>\n",
       "      <td>...</td>\n",
       "      <td>...</td>\n",
       "      <td>...</td>\n",
       "      <td>...</td>\n",
       "    </tr>\n",
       "    <tr>\n",
       "      <th>11753</th>\n",
       "      <td>5</td>\n",
       "      <td>3</td>\n",
       "      <td>6</td>\n",
       "      <td>9983</td>\n",
       "      <td>1</td>\n",
       "      <td>0</td>\n",
       "      <td>28</td>\n",
       "      <td>0</td>\n",
       "      <td>2</td>\n",
       "      <td>0</td>\n",
       "      <td>16</td>\n",
       "      <td>247.0</td>\n",
       "      <td>11418.0</td>\n",
       "      <td>99.0</td>\n",
       "    </tr>\n",
       "    <tr>\n",
       "      <th>11754</th>\n",
       "      <td>5</td>\n",
       "      <td>3</td>\n",
       "      <td>10</td>\n",
       "      <td>3024</td>\n",
       "      <td>2</td>\n",
       "      <td>0</td>\n",
       "      <td>32</td>\n",
       "      <td>0</td>\n",
       "      <td>4</td>\n",
       "      <td>0</td>\n",
       "      <td>14</td>\n",
       "      <td>210.0</td>\n",
       "      <td>40886.0</td>\n",
       "      <td>53.0</td>\n",
       "    </tr>\n",
       "    <tr>\n",
       "      <th>11756</th>\n",
       "      <td>6</td>\n",
       "      <td>1</td>\n",
       "      <td>6</td>\n",
       "      <td>10041</td>\n",
       "      <td>4</td>\n",
       "      <td>0</td>\n",
       "      <td>30</td>\n",
       "      <td>0</td>\n",
       "      <td>1</td>\n",
       "      <td>1</td>\n",
       "      <td>11</td>\n",
       "      <td>305.0</td>\n",
       "      <td>21510.0</td>\n",
       "      <td>55.0</td>\n",
       "    </tr>\n",
       "    <tr>\n",
       "      <th>11757</th>\n",
       "      <td>4</td>\n",
       "      <td>3</td>\n",
       "      <td>0</td>\n",
       "      <td>6203</td>\n",
       "      <td>3</td>\n",
       "      <td>1</td>\n",
       "      <td>40</td>\n",
       "      <td>1</td>\n",
       "      <td>2</td>\n",
       "      <td>1</td>\n",
       "      <td>12</td>\n",
       "      <td>214.0</td>\n",
       "      <td>5478.0</td>\n",
       "      <td>103.0</td>\n",
       "    </tr>\n",
       "    <tr>\n",
       "      <th>11759</th>\n",
       "      <td>8</td>\n",
       "      <td>3</td>\n",
       "      <td>6</td>\n",
       "      <td>4470</td>\n",
       "      <td>2</td>\n",
       "      <td>0</td>\n",
       "      <td>29</td>\n",
       "      <td>0</td>\n",
       "      <td>1</td>\n",
       "      <td>0</td>\n",
       "      <td>14</td>\n",
       "      <td>270.0</td>\n",
       "      <td>22025.0</td>\n",
       "      <td>104.0</td>\n",
       "    </tr>\n",
       "  </tbody>\n",
       "</table>\n",
       "<p>10390 rows × 14 columns</p>\n",
       "</div>"
      ],
      "text/plain": [
       "      yearly_avg_Outstation_checkins member_in_family  \\\n",
       "0                                  1                2   \n",
       "1                                  1                1   \n",
       "2                                  1                2   \n",
       "3                                  1                4   \n",
       "4                                  1                1   \n",
       "...                              ...              ...   \n",
       "11753                              5                3   \n",
       "11754                              5                3   \n",
       "11756                              6                1   \n",
       "11757                              4                3   \n",
       "11759                              8                3   \n",
       "\n",
       "       preferred_location_type  total_likes_on_outofstation_checkin_received  \\\n",
       "0                            3                                          5993   \n",
       "1                            3                                          5130   \n",
       "2                           10                                          2090   \n",
       "3                            3                                          2909   \n",
       "4                            7                                          3468   \n",
       "...                        ...                                           ...   \n",
       "11753                        6                                          9983   \n",
       "11754                       10                                          3024   \n",
       "11756                        6                                         10041   \n",
       "11757                        0                                          6203   \n",
       "11759                        6                                          4470   \n",
       "\n",
       "       week_since_last_outstation_checkin following_company_page  \\\n",
       "0                                       8                      1   \n",
       "1                                       1                      0   \n",
       "2                                       6                      1   \n",
       "3                                       1                      1   \n",
       "4                                       9                      0   \n",
       "...                                   ...                    ...   \n",
       "11753                                   1                      0   \n",
       "11754                                   2                      0   \n",
       "11756                                   4                      0   \n",
       "11757                                   3                      1   \n",
       "11759                                   2                      0   \n",
       "\n",
       "       montly_avg_comment_on_company_page  working_flag  \\\n",
       "0                                      11             0   \n",
       "1                                      23             1   \n",
       "2                                      15             0   \n",
       "3                                      11             0   \n",
       "4                                      12             0   \n",
       "...                                   ...           ...   \n",
       "11753                                  28             0   \n",
       "11754                                  32             0   \n",
       "11756                                  30             0   \n",
       "11757                                  40             1   \n",
       "11759                                  29             0   \n",
       "\n",
       "       travelling_network_rating  Adult_flag  \\\n",
       "0                              1           0   \n",
       "1                              4           1   \n",
       "2                              2           0   \n",
       "3                              3           0   \n",
       "4                              4           1   \n",
       "...                          ...         ...   \n",
       "11753                          2           0   \n",
       "11754                          4           0   \n",
       "11756                          1           1   \n",
       "11757                          2           1   \n",
       "11759                          1           0   \n",
       "\n",
       "       Daily_Avg_mins_spend_on_traveling_page  Yearly_avg_view_on_travel_page  \\\n",
       "0                                           8                           307.0   \n",
       "1                                          10                           367.0   \n",
       "2                                           7                           277.0   \n",
       "3                                           8                           247.0   \n",
       "4                                           6                           202.0   \n",
       "...                                       ...                             ...   \n",
       "11753                                      16                           247.0   \n",
       "11754                                      14                           210.0   \n",
       "11756                                      11                           305.0   \n",
       "11757                                      12                           214.0   \n",
       "11759                                      14                           270.0   \n",
       "\n",
       "       total_likes_on_outstation_checkin_given  \\\n",
       "0                                      38570.0   \n",
       "1                                       9765.0   \n",
       "2                                      48055.0   \n",
       "3                                      48720.0   \n",
       "4                                      20685.0   \n",
       "...                                        ...   \n",
       "11753                                  11418.0   \n",
       "11754                                  40886.0   \n",
       "11756                                  21510.0   \n",
       "11757                                   5478.0   \n",
       "11759                                  22025.0   \n",
       "\n",
       "       Yearly_avg_comment_on_travel_page  \n",
       "0                                   94.0  \n",
       "1                                   61.0  \n",
       "2                                   92.0  \n",
       "3                                   56.0  \n",
       "4                                   40.0  \n",
       "...                                  ...  \n",
       "11753                               99.0  \n",
       "11754                               53.0  \n",
       "11756                               55.0  \n",
       "11757                              103.0  \n",
       "11759                              104.0  \n",
       "\n",
       "[10390 rows x 14 columns]"
      ]
     },
     "execution_count": 55,
     "metadata": {},
     "output_type": "execute_result"
    }
   ],
   "source": [
    "#Locking x and y for train test split\n",
    "Y_mob = df_mobile.iloc[:,:1]\n",
    "X_mob = df_mobile.iloc[:,1:]\n",
    "X_mob"
   ]
  },
  {
   "cell_type": "code",
   "execution_count": 56,
   "id": "e4165d2a",
   "metadata": {
    "id": "e4165d2a"
   },
   "outputs": [],
   "source": [
    "#train test split\n",
    "\n",
    "from sklearn.model_selection import train_test_split\n",
    "(X_train_mob, X_test_mob, Y_train_mob, Y_test_mob) = train_test_split(X_mob, Y_mob, train_size = 0.8)"
   ]
  },
  {
   "cell_type": "code",
   "execution_count": 57,
   "id": "e0078575",
   "metadata": {
    "id": "e0078575"
   },
   "outputs": [],
   "source": [
    "#Label encoding mobile dataset\n",
    "\n",
    "from sklearn.preprocessing import LabelEncoder\n",
    "label_encoder = LabelEncoder()\n",
    "df_mobile['preferred_location_type'] = label_encoder.fit_transform(df_mobile['preferred_location_type'])\n",
    "df_mobile['preferred_device'] = label_encoder.fit_transform(df_mobile['preferred_device'])\n",
    "df_mobile['Taken_product'] = label_encoder.fit_transform(df_mobile['Taken_product'])\n",
    "df_mobile['working_flag'] = label_encoder.fit_transform(df_mobile['working_flag'])\n",
    "\n",
    "df_mobile['Taken_product'].value_counts()"
   ]
  },
  {
   "cell_type": "code",
   "execution_count": 58,
   "id": "5ca0882c",
   "metadata": {
    "id": "5ca0882c",
    "outputId": "ef60323c-a0a1-4ef6-9454-ac110fdd42a5"
   },
   "outputs": [
    {
     "name": "stderr",
     "output_type": "stream",
     "text": [
      "E:\\DATA SCIENCE\\anaconda\\lib\\site-packages\\sklearn\\utils\\validation.py:993: DataConversionWarning: A column-vector y was passed when a 1d array was expected. Please change the shape of y to (n_samples, ), for example using ravel().\n",
      "  y = column_or_1d(y, warn=True)\n"
     ]
    },
    {
     "data": {
      "text/plain": [
       "LogisticRegression()"
      ]
     },
     "execution_count": 58,
     "metadata": {},
     "output_type": "execute_result"
    }
   ],
   "source": [
    "#using logistic regression\n",
    "\n",
    "from sklearn.linear_model import LogisticRegression\n",
    "logisticRegr = LogisticRegression()\n",
    "logisticRegr.fit(X_train_mob_sc, Y_train_mob)"
   ]
  },
  {
   "cell_type": "code",
   "execution_count": 59,
   "id": "00ce88ef",
   "metadata": {
    "id": "00ce88ef",
    "outputId": "9c4643d3-7f86-4a07-dbee-1ff2da96317d"
   },
   "outputs": [
    {
     "name": "stdout",
     "output_type": "stream",
     "text": [
      "0.8546679499518768\n"
     ]
    }
   ],
   "source": [
    "# Use score method to get accuracy of model\n",
    "\n",
    "score = logisticRegr.score(X_test_mob, Y_test_mob)\n",
    "print(score)"
   ]
  },
  {
   "cell_type": "code",
   "execution_count": 60,
   "id": "0c7a1abc",
   "metadata": {
    "id": "0c7a1abc",
    "outputId": "02feae9b-4490-4bcf-ea32-e94775488c94"
   },
   "outputs": [
    {
     "data": {
      "text/plain": [
       "array([0, 0, 0, ..., 0, 0, 0])"
      ]
     },
     "execution_count": 60,
     "metadata": {},
     "output_type": "execute_result"
    }
   ],
   "source": [
    "#checking the output of logistic regression\n",
    "\n",
    "LR_mob_pred = logisticRegr.predict(X_test_mob)\n",
    "LR_mob_pred"
   ]
  },
  {
   "cell_type": "code",
   "execution_count": 61,
   "id": "81b7ef3a",
   "metadata": {
    "id": "81b7ef3a",
    "outputId": "3b31c569-ade6-48f5-8369-4e46d80d9c90"
   },
   "outputs": [
    {
     "name": "stdout",
     "output_type": "stream",
     "text": [
      "[[1776    0]\n",
      " [ 302    0]]\n"
     ]
    }
   ],
   "source": [
    "from sklearn.metrics import confusion_matrix\n",
    "LR_cm = confusion_matrix(Y_test_mob, LR_mob_pred)\n",
    "print(LR_cm)"
   ]
  },
  {
   "cell_type": "code",
   "execution_count": 62,
   "id": "a1e617e4",
   "metadata": {
    "id": "a1e617e4",
    "outputId": "bf8dcc24-9396-42fe-d68b-7df5a3775dcd"
   },
   "outputs": [
    {
     "data": {
      "image/png": "[encoded data removed]",
      "text/plain": [
       "<Figure size 432x432 with 2 Axes>"
      ]
     },
     "metadata": {
      "needs_background": "light"
     },
     "output_type": "display_data"
    }
   ],
   "source": [
    "#plotting the confusion matrix visually\n",
    "\n",
    "plt.figure(figsize=(6,6))\n",
    "sns.heatmap(LR_cm, annot=True, fmt=\".3f\", linewidths=.5, square = True, cmap = 'Blues_r');\n",
    "plt.ylabel('Actual label');\n",
    "plt.xlabel('Predicted label');\n",
    "all_sample_title = 'Accuracy Score: {0}'.format(score)\n",
    "plt.title(all_sample_title, size = 15);"
   ]
  },
  {
   "cell_type": "markdown",
   "id": "a35a2ab1",
   "metadata": {
    "id": "a35a2ab1"
   },
   "source": [
    "OBSERVATION:\n",
    "\n",
    "1. Logistic regressor predicted the class 0 mostly, but there is a poor performance in the class 1, that,\n",
    "2. for 338 users the actual is class 1 but it predicted as class 0, this is due to imbalance in the training data"
   ]
  },
  {
   "cell_type": "code",
   "execution_count": 63,
   "id": "b6f35e91",
   "metadata": {
    "id": "b6f35e91",
    "outputId": "82c694b1-a0b4-41e0-992c-72b483669726"
   },
   "outputs": [
    {
     "data": {
      "text/plain": [
       "0    8810\n",
       "1    1580\n",
       "Name: Taken_product, dtype: int64"
      ]
     },
     "execution_count": 63,
     "metadata": {},
     "output_type": "execute_result"
    }
   ],
   "source": [
    "df_mobile['Taken_product'].value_counts()"
   ]
  },
  {
   "cell_type": "code",
   "execution_count": 64,
   "id": "fc3ed3a5",
   "metadata": {
    "id": "fc3ed3a5",
    "outputId": "47900244-c615-484b-bfa1-a71a288c7637"
   },
   "outputs": [
    {
     "name": "stdout",
     "output_type": "stream",
     "text": [
      "              precision    recall  f1-score   support\n",
      "\n",
      "           0       0.85      1.00      0.92      1776\n",
      "           1       0.00      0.00      0.00       302\n",
      "\n",
      "    accuracy                           0.85      2078\n",
      "   macro avg       0.43      0.50      0.46      2078\n",
      "weighted avg       0.73      0.85      0.79      2078\n",
      "\n"
     ]
    },
    {
     "name": "stderr",
     "output_type": "stream",
     "text": [
      "E:\\DATA SCIENCE\\anaconda\\lib\\site-packages\\sklearn\\metrics\\_classification.py:1318: UndefinedMetricWarning: Precision and F-score are ill-defined and being set to 0.0 in labels with no predicted samples. Use `zero_division` parameter to control this behavior.\n",
      "  _warn_prf(average, modifier, msg_start, len(result))\n",
      "E:\\DATA SCIENCE\\anaconda\\lib\\site-packages\\sklearn\\metrics\\_classification.py:1318: UndefinedMetricWarning: Precision and F-score are ill-defined and being set to 0.0 in labels with no predicted samples. Use `zero_division` parameter to control this behavior.\n",
      "  _warn_prf(average, modifier, msg_start, len(result))\n",
      "E:\\DATA SCIENCE\\anaconda\\lib\\site-packages\\sklearn\\metrics\\_classification.py:1318: UndefinedMetricWarning: Precision and F-score are ill-defined and being set to 0.0 in labels with no predicted samples. Use `zero_division` parameter to control this behavior.\n",
      "  _warn_prf(average, modifier, msg_start, len(result))\n"
     ]
    }
   ],
   "source": [
    "from sklearn.metrics import classification_report\n",
    "cr = classification_report(Y_test_mob, LR_mob_pred)\n",
    "print(cr)"
   ]
  },
  {
   "cell_type": "markdown",
   "id": "e1823e36",
   "metadata": {
    "id": "e1823e36"
   },
   "source": [
    "OBSERVATION: Logistic regression is giving good accuracy but the models stability is not good so we go for Random forest clasifier"
   ]
  },
  {
   "cell_type": "markdown",
   "id": "04bee51a",
   "metadata": {
    "id": "04bee51a"
   },
   "source": [
    "## Random Forest Classifier\n"
   ]
  },
  {
   "cell_type": "code",
   "execution_count": 65,
   "id": "50441c30",
   "metadata": {
    "id": "50441c30",
    "outputId": "c4386d1e-f069-44fb-f856-14741b7196cf"
   },
   "outputs": [
    {
     "name": "stderr",
     "output_type": "stream",
     "text": [
      "C:\\Users\\LUCKY\\AppData\\Local\\Temp\\ipykernel_7636\\2454166770.py:3: DataConversionWarning: A column-vector y was passed when a 1d array was expected. Please change the shape of y to (n_samples,), for example using ravel().\n",
      "  rf.fit(X_train_mob_sc, Y_train_mob)\n"
     ]
    },
    {
     "data": {
      "text/plain": [
       "RandomForestRegressor(n_estimators=1000, oob_score=True, random_state=42)"
      ]
     },
     "execution_count": 65,
     "metadata": {},
     "output_type": "execute_result"
    }
   ],
   "source": [
    "from sklearn.ensemble import RandomForestRegressor\n",
    "rf = RandomForestRegressor(n_estimators = 1000, random_state = 42, oob_score = True)\n",
    "rf.fit(X_train_mob_sc, Y_train_mob)"
   ]
  },
  {
   "cell_type": "code",
   "execution_count": 66,
   "id": "7fba922e",
   "metadata": {
    "id": "7fba922e",
    "outputId": "b9319245-58b6-48f4-ab56-4a11072cb351"
   },
   "outputs": [
    {
     "data": {
      "text/plain": [
       "0.7410972088546679"
      ]
     },
     "execution_count": 66,
     "metadata": {},
     "output_type": "execute_result"
    }
   ],
   "source": [
    "from sklearn.metrics import accuracy_score\n",
    "\n",
    "RF_mob_pred = rf.predict(X_test_mob).round()\n",
    "#rf.oob_score_\n",
    "accuracy_score(Y_test_mob, RF_mob_pred)"
   ]
  },
  {
   "cell_type": "code",
   "execution_count": 67,
   "id": "85f1e5c5",
   "metadata": {
    "id": "85f1e5c5",
    "outputId": "6b9d3e9d-2ba0-4ea7-f7ef-d9d10186e1ff"
   },
   "outputs": [
    {
     "data": {
      "text/plain": [
       "array([[1371,  405],\n",
       "       [ 133,  169]], dtype=int64)"
      ]
     },
     "execution_count": 67,
     "metadata": {},
     "output_type": "execute_result"
    }
   ],
   "source": [
    "rf_cm = confusion_matrix(Y_test_mob, RF_mob_pred)\n",
    "rf_cm"
   ]
  },
  {
   "cell_type": "code",
   "execution_count": 68,
   "id": "fd631a19",
   "metadata": {
    "id": "fd631a19",
    "outputId": "10fe4950-5e37-47ba-e9a4-955d8569ccf0"
   },
   "outputs": [
    {
     "name": "stdout",
     "output_type": "stream",
     "text": [
      "              precision    recall  f1-score   support\n",
      "\n",
      "           0       0.91      0.77      0.84      1776\n",
      "           1       0.29      0.56      0.39       302\n",
      "\n",
      "    accuracy                           0.74      2078\n",
      "   macro avg       0.60      0.67      0.61      2078\n",
      "weighted avg       0.82      0.74      0.77      2078\n",
      "\n"
     ]
    }
   ],
   "source": [
    "from sklearn.metrics import classification_report, confusion_matrix\n",
    "rf_cr=classification_report(Y_test_mob,RF_mob_pred )\n",
    "print(rf_cr)"
   ]
  },
  {
   "cell_type": "markdown",
   "id": "e70fccc9",
   "metadata": {
    "id": "e70fccc9"
   },
   "source": [
    "OBSERVATION: Random forest classifier predicts the class 0 very well, but failed to predict the class 1 properly because of imabalance in the dataset."
   ]
  },
  {
   "cell_type": "markdown",
   "id": "7e3a570b",
   "metadata": {
    "id": "7e3a570b"
   },
   "source": [
    "### Support Vector Machine"
   ]
  },
  {
   "cell_type": "code",
   "execution_count": 69,
   "id": "d00c1d1e",
   "metadata": {
    "id": "d00c1d1e",
    "outputId": "3396ff22-ad64-4053-86fe-3662e8d10a08"
   },
   "outputs": [
    {
     "name": "stderr",
     "output_type": "stream",
     "text": [
      "E:\\DATA SCIENCE\\anaconda\\lib\\site-packages\\sklearn\\utils\\validation.py:993: DataConversionWarning: A column-vector y was passed when a 1d array was expected. Please change the shape of y to (n_samples, ), for example using ravel().\n",
      "  y = column_or_1d(y, warn=True)\n"
     ]
    },
    {
     "data": {
      "text/plain": [
       "SVC(random_state=101)"
      ]
     },
     "execution_count": 69,
     "metadata": {},
     "output_type": "execute_result"
    }
   ],
   "source": [
    "from sklearn.svm import SVC\n",
    "svc = SVC(random_state=101)\n",
    "svc.fit(X_train_mob_sc, Y_train_mob)\n"
   ]
  },
  {
   "cell_type": "code",
   "execution_count": 70,
   "id": "068638e2",
   "metadata": {
    "id": "068638e2",
    "outputId": "17d3d906-f93d-4ffd-a4e4-81f93f78f836"
   },
   "outputs": [
    {
     "data": {
      "text/plain": [
       "array([0, 0, 0, ..., 0, 0, 0])"
      ]
     },
     "execution_count": 70,
     "metadata": {},
     "output_type": "execute_result"
    }
   ],
   "source": [
    "SVM_mob_pred = svc.predict(X_test_mob)\n",
    "SVM_mob_pred"
   ]
  },
  {
   "cell_type": "code",
   "execution_count": 71,
   "id": "76cca661",
   "metadata": {
    "id": "76cca661",
    "outputId": "a1d53a03-6a6a-4386-9557-e273b8c60cf1"
   },
   "outputs": [
    {
     "name": "stdout",
     "output_type": "stream",
     "text": [
      "1.0\n"
     ]
    }
   ],
   "source": [
    "print(svc.score(X_test_mob,SVM_mob_pred))"
   ]
  },
  {
   "cell_type": "code",
   "execution_count": 72,
   "id": "24e8f6c7",
   "metadata": {
    "id": "24e8f6c7",
    "outputId": "343c9f89-b68e-45e9-f243-3d353663ee10"
   },
   "outputs": [
    {
     "data": {
      "text/plain": [
       "array([[1776,    0],\n",
       "       [ 302,    0]], dtype=int64)"
      ]
     },
     "execution_count": 72,
     "metadata": {},
     "output_type": "execute_result"
    }
   ],
   "source": [
    "svm_cm = confusion_matrix(Y_test_mob, SVM_mob_pred)\n",
    "svm_cm"
   ]
  },
  {
   "cell_type": "code",
   "execution_count": 73,
   "id": "a1f4da74",
   "metadata": {
    "id": "a1f4da74",
    "outputId": "3dfbcb06-4a4e-4c42-e9d0-8b7f513e2967"
   },
   "outputs": [
    {
     "name": "stdout",
     "output_type": "stream",
     "text": [
      "              precision    recall  f1-score   support\n",
      "\n",
      "           0       0.85      1.00      0.92      1776\n",
      "           1       0.00      0.00      0.00       302\n",
      "\n",
      "    accuracy                           0.85      2078\n",
      "   macro avg       0.43      0.50      0.46      2078\n",
      "weighted avg       0.73      0.85      0.79      2078\n",
      "\n"
     ]
    },
    {
     "name": "stderr",
     "output_type": "stream",
     "text": [
      "E:\\DATA SCIENCE\\anaconda\\lib\\site-packages\\sklearn\\metrics\\_classification.py:1318: UndefinedMetricWarning: Precision and F-score are ill-defined and being set to 0.0 in labels with no predicted samples. Use `zero_division` parameter to control this behavior.\n",
      "  _warn_prf(average, modifier, msg_start, len(result))\n",
      "E:\\DATA SCIENCE\\anaconda\\lib\\site-packages\\sklearn\\metrics\\_classification.py:1318: UndefinedMetricWarning: Precision and F-score are ill-defined and being set to 0.0 in labels with no predicted samples. Use `zero_division` parameter to control this behavior.\n",
      "  _warn_prf(average, modifier, msg_start, len(result))\n",
      "E:\\DATA SCIENCE\\anaconda\\lib\\site-packages\\sklearn\\metrics\\_classification.py:1318: UndefinedMetricWarning: Precision and F-score are ill-defined and being set to 0.0 in labels with no predicted samples. Use `zero_division` parameter to control this behavior.\n",
      "  _warn_prf(average, modifier, msg_start, len(result))\n"
     ]
    }
   ],
   "source": [
    "from sklearn.metrics import classification_report, confusion_matrix\n",
    "svm_cr=classification_report(Y_test_mob,SVM_mob_pred)\n",
    "print(svm_cr)"
   ]
  },
  {
   "cell_type": "code",
   "execution_count": 74,
   "id": "2ed53c7c",
   "metadata": {
    "id": "2ed53c7c"
   },
   "outputs": [],
   "source": [
    "#################################"
   ]
  },
  {
   "cell_type": "code",
   "execution_count": 75,
   "id": "1d742ee5",
   "metadata": {
    "id": "1d742ee5",
    "outputId": "ae70dcd0-ac6e-48c6-c151-30be0fa2ddca"
   },
   "outputs": [
    {
     "data": {
      "text/plain": [
       "0    8810\n",
       "1    1580\n",
       "Name: Taken_product, dtype: int64"
      ]
     },
     "execution_count": 75,
     "metadata": {},
     "output_type": "execute_result"
    }
   ],
   "source": [
    "df_mobile['Taken_product'].value_counts()"
   ]
  },
  {
   "cell_type": "markdown",
   "id": "191eb410",
   "metadata": {
    "id": "191eb410"
   },
   "source": [
    "## OBSERVATION OF MODELS"
   ]
  },
  {
   "cell_type": "markdown",
   "id": "f4e430f3",
   "metadata": {
    "id": "f4e430f3"
   },
   "source": [
    "All the models are giving good accuracy but:\n",
    "1. all the models are giving very less f1-score for class 1\n",
    "2. The data set is imbalanced, so we need to balance both the target classes in the dataset\n",
    "3. In the dataset, 0 has 8810- samples, 1 has 1580- samples"
   ]
  },
  {
   "cell_type": "markdown",
   "id": "ea44c106",
   "metadata": {
    "id": "ea44c106"
   },
   "source": [
    "## Handling Imbalance data"
   ]
  },
  {
   "cell_type": "code",
   "execution_count": 76,
   "id": "62043be2",
   "metadata": {
    "id": "62043be2",
    "outputId": "aeabee02-d562-488a-890a-32bcb2bb5c3a"
   },
   "outputs": [
    {
     "data": {
      "text/plain": [
       "Taken_product\n",
       "0                8810\n",
       "1                8810\n",
       "dtype: int64"
      ]
     },
     "execution_count": 76,
     "metadata": {},
     "output_type": "execute_result"
    }
   ],
   "source": [
    "#!pip install imblearn\n",
    "from imblearn.over_sampling import SMOTE\n",
    "smote = SMOTE(sampling_strategy='minority')\n",
    "X_mob_smote,Y_mob_smote = smote.fit_resample(X_mob,Y_mob)\n",
    "\n",
    "Y_mob_smote.value_counts()"
   ]
  },
  {
   "cell_type": "code",
   "execution_count": 77,
   "id": "3ca1904e",
   "metadata": {
    "id": "3ca1904e"
   },
   "outputs": [],
   "source": [
    "#train test split\n",
    "\n",
    "from sklearn.model_selection import train_test_split\n",
    "(X_train_sm, X_test_sm, Y_train_sm, Y_test_sm) = train_test_split(X_mob_smote, Y_mob_smote)"
   ]
  },
  {
   "cell_type": "markdown",
   "id": "c554e79b",
   "metadata": {
    "id": "c554e79b"
   },
   "source": [
    "## Logistic regression after SMOTE"
   ]
  },
  {
   "cell_type": "code",
   "execution_count": 78,
   "id": "b8e8cc60",
   "metadata": {
    "id": "b8e8cc60",
    "outputId": "fc415c4b-43b7-45d6-fa80-fa4c6e5bfbd8"
   },
   "outputs": [
    {
     "name": "stderr",
     "output_type": "stream",
     "text": [
      "E:\\DATA SCIENCE\\anaconda\\lib\\site-packages\\sklearn\\utils\\validation.py:993: DataConversionWarning: A column-vector y was passed when a 1d array was expected. Please change the shape of y to (n_samples, ), for example using ravel().\n",
      "  y = column_or_1d(y, warn=True)\n",
      "E:\\DATA SCIENCE\\anaconda\\lib\\site-packages\\sklearn\\linear_model\\_logistic.py:814: ConvergenceWarning: lbfgs failed to converge (status=1):\n",
      "STOP: TOTAL NO. of ITERATIONS REACHED LIMIT.\n",
      "\n",
      "Increase the number of iterations (max_iter) or scale the data as shown in:\n",
      "    https://scikit-learn.org/stable/modules/preprocessing.html\n",
      "Please also refer to the documentation for alternative solver options:\n",
      "    https://scikit-learn.org/stable/modules/linear_model.html#logistic-regression\n",
      "  n_iter_i = _check_optimize_result(\n"
     ]
    },
    {
     "data": {
      "text/plain": [
       "LogisticRegression()"
      ]
     },
     "execution_count": 78,
     "metadata": {},
     "output_type": "execute_result"
    }
   ],
   "source": [
    "#using logistic regression after SMOTE\n",
    "\n",
    "from sklearn.linear_model import LogisticRegression\n",
    "logisticRegr = LogisticRegression()\n",
    "logisticRegr.fit(X_train_sm, Y_train_sm)"
   ]
  },
  {
   "cell_type": "code",
   "execution_count": 79,
   "id": "26c5fc32",
   "metadata": {
    "id": "26c5fc32",
    "outputId": "bcae03d4-f1f9-49a9-8d8e-c0d5e41a4e12"
   },
   "outputs": [
    {
     "name": "stdout",
     "output_type": "stream",
     "text": [
      "0.6220204313280363\n"
     ]
    }
   ],
   "source": [
    "# Use score method to get accuracy of model\n",
    "\n",
    "score = logisticRegr.score(X_test_sm, Y_test_sm)\n",
    "print(score)"
   ]
  },
  {
   "cell_type": "code",
   "execution_count": 80,
   "id": "ceb12790",
   "metadata": {
    "id": "ceb12790",
    "outputId": "e4582f8b-adc8-4d8d-deab-cf4b652b22ab"
   },
   "outputs": [
    {
     "data": {
      "text/plain": [
       "array([1, 1, 0, ..., 1, 1, 1])"
      ]
     },
     "execution_count": 80,
     "metadata": {},
     "output_type": "execute_result"
    }
   ],
   "source": [
    "LR_mob_pred_sm = logisticRegr.predict(X_test_sm)\n",
    "LR_mob_pred_sm"
   ]
  },
  {
   "cell_type": "code",
   "execution_count": 81,
   "id": "1c34a4eb",
   "metadata": {
    "id": "1c34a4eb",
    "outputId": "6787a5cf-232a-4e23-d133-8d5feb4dc206"
   },
   "outputs": [
    {
     "name": "stdout",
     "output_type": "stream",
     "text": [
      "[[1352  898]\n",
      " [ 767 1388]]\n"
     ]
    }
   ],
   "source": [
    "from sklearn.metrics import confusion_matrix\n",
    "LR_cm = confusion_matrix(Y_test_sm, LR_mob_pred_sm)\n",
    "print(LR_cm)"
   ]
  },
  {
   "cell_type": "code",
   "execution_count": 82,
   "id": "2c625ad0",
   "metadata": {
    "id": "2c625ad0",
    "outputId": "56b84cfe-cbea-4170-b889-8d523d89f4c6"
   },
   "outputs": [
    {
     "name": "stdout",
     "output_type": "stream",
     "text": [
      "              precision    recall  f1-score   support\n",
      "\n",
      "           0       0.64      0.60      0.62      2250\n",
      "           1       0.61      0.64      0.63      2155\n",
      "\n",
      "    accuracy                           0.62      4405\n",
      "   macro avg       0.62      0.62      0.62      4405\n",
      "weighted avg       0.62      0.62      0.62      4405\n",
      "\n"
     ]
    }
   ],
   "source": [
    "from sklearn.metrics import classification_report\n",
    "cr = classification_report(Y_test_sm, LR_mob_pred_sm)\n",
    "print(cr)"
   ]
  },
  {
   "cell_type": "markdown",
   "id": "98cbf61f",
   "metadata": {
    "id": "98cbf61f"
   },
   "source": [
    "## Random forest after SMOTE"
   ]
  },
  {
   "cell_type": "code",
   "execution_count": 83,
   "id": "5b17de0b",
   "metadata": {
    "id": "5b17de0b",
    "outputId": "0981c278-f61e-44ac-9bed-1e8433525005"
   },
   "outputs": [
    {
     "name": "stderr",
     "output_type": "stream",
     "text": [
      "C:\\Users\\LUCKY\\AppData\\Local\\Temp\\ipykernel_7636\\308864405.py:3: DataConversionWarning: A column-vector y was passed when a 1d array was expected. Please change the shape of y to (n_samples,), for example using ravel().\n",
      "  rf.fit(X_train_sm, Y_train_sm);\n"
     ]
    }
   ],
   "source": [
    "from sklearn.ensemble import RandomForestRegressor\n",
    "rf = RandomForestRegressor(n_estimators = 1000, random_state = 42, oob_score = True)\n",
    "rf.fit(X_train_sm, Y_train_sm);"
   ]
  },
  {
   "cell_type": "code",
   "execution_count": 84,
   "id": "105f6cb4",
   "metadata": {
    "id": "105f6cb4",
    "outputId": "ff843cc1-089d-468d-f054-a8b9a531c542"
   },
   "outputs": [
    {
     "data": {
      "text/plain": [
       "0.9945516458569807"
      ]
     },
     "execution_count": 84,
     "metadata": {},
     "output_type": "execute_result"
    }
   ],
   "source": [
    "from sklearn.metrics import accuracy_score\n",
    "\n",
    "RF_mob_pred_sm = rf.predict(X_test_sm).round()\n",
    "#rf.oob_score_\n",
    "accuracy_score(Y_test_sm, RF_mob_pred_sm)"
   ]
  },
  {
   "cell_type": "code",
   "execution_count": 85,
   "id": "6e099bf5",
   "metadata": {
    "id": "6e099bf5",
    "outputId": "44d53357-63f5-4693-f198-9b8d07a75416"
   },
   "outputs": [
    {
     "data": {
      "text/plain": [
       "array([1., 1., 0., ..., 0., 0., 1.])"
      ]
     },
     "execution_count": 85,
     "metadata": {},
     "output_type": "execute_result"
    }
   ],
   "source": [
    "RF_mob_pred_sm"
   ]
  },
  {
   "cell_type": "code",
   "execution_count": 86,
   "id": "6a8be059",
   "metadata": {
    "id": "6a8be059",
    "outputId": "0ad58347-4317-4e54-d21e-61a9c6dd26e7"
   },
   "outputs": [
    {
     "data": {
      "text/plain": [
       "array([[2233,   17],\n",
       "       [   7, 2148]], dtype=int64)"
      ]
     },
     "execution_count": 86,
     "metadata": {},
     "output_type": "execute_result"
    }
   ],
   "source": [
    "rf_cm = confusion_matrix(Y_test_sm, RF_mob_pred_sm.round())\n",
    "rf_cm"
   ]
  },
  {
   "cell_type": "code",
   "execution_count": 87,
   "id": "5e961957",
   "metadata": {
    "id": "5e961957",
    "outputId": "e35b9f68-cc6c-4e1d-bfd8-ad2b3b6fd865"
   },
   "outputs": [
    {
     "data": {
      "text/plain": [
       "(4405, 1)"
      ]
     },
     "execution_count": 87,
     "metadata": {},
     "output_type": "execute_result"
    }
   ],
   "source": [
    "Y_test_sm.shape"
   ]
  },
  {
   "cell_type": "code",
   "execution_count": 88,
   "id": "644975eb",
   "metadata": {
    "id": "644975eb",
    "outputId": "ebe9c461-9e39-4a0b-dab2-01a87a53a556"
   },
   "outputs": [
    {
     "data": {
      "text/plain": [
       "(2078,)"
      ]
     },
     "execution_count": 88,
     "metadata": {},
     "output_type": "execute_result"
    }
   ],
   "source": [
    "RF_mob_pred.shape"
   ]
  },
  {
   "cell_type": "code",
   "execution_count": 89,
   "id": "42460b85",
   "metadata": {
    "id": "42460b85",
    "outputId": "6a7ad70a-b135-4b89-8275-c66dc337945a"
   },
   "outputs": [
    {
     "name": "stdout",
     "output_type": "stream",
     "text": [
      "              precision    recall  f1-score   support\n",
      "\n",
      "           0       1.00      0.99      0.99      2250\n",
      "           1       0.99      1.00      0.99      2155\n",
      "\n",
      "    accuracy                           0.99      4405\n",
      "   macro avg       0.99      0.99      0.99      4405\n",
      "weighted avg       0.99      0.99      0.99      4405\n",
      "\n"
     ]
    }
   ],
   "source": [
    "from sklearn.metrics import classification_report, confusion_matrix\n",
    "rf_cr=classification_report(Y_test_sm,RF_mob_pred_sm)\n",
    "print(rf_cr)"
   ]
  },
  {
   "cell_type": "markdown",
   "id": "7b611df8",
   "metadata": {
    "id": "7b611df8"
   },
   "source": [
    "## OBSERVATION:\n",
    "\n",
    "1. Random Forest classifier classifies both the classes very well after handling the imbalance dataset using SMOTE technique.\n",
    "2. The f1-score for both the classes are above 0.98, with the over all accuracy of 99%.\n",
    "3. Here equal weightage is given to both the classes."
   ]
  },
  {
   "cell_type": "markdown",
   "id": "8ba07fc0",
   "metadata": {
    "id": "8ba07fc0"
   },
   "source": [
    "# Exploring laptop dataset"
   ]
  },
  {
   "cell_type": "code",
   "execution_count": 90,
   "id": "b97217ef",
   "metadata": {
    "id": "b97217ef",
    "outputId": "4e3eace0-9f75-442a-aa7c-f4ccc1a05b76"
   },
   "outputs": [
    {
     "data": {
      "text/html": [
       "<div>\n",
       "<style scoped>\n",
       "    .dataframe tbody tr th:only-of-type {\n",
       "        vertical-align: middle;\n",
       "    }\n",
       "\n",
       "    .dataframe tbody tr th {\n",
       "        vertical-align: top;\n",
       "    }\n",
       "\n",
       "    .dataframe thead th {\n",
       "        text-align: right;\n",
       "    }\n",
       "</style>\n",
       "<table border=\"1\" class=\"dataframe\">\n",
       "  <thead>\n",
       "    <tr style=\"text-align: right;\">\n",
       "      <th></th>\n",
       "      <th>UserID</th>\n",
       "      <th>Taken_product</th>\n",
       "      <th>preferred_device</th>\n",
       "      <th>yearly_avg_Outstation_checkins</th>\n",
       "      <th>member_in_family</th>\n",
       "      <th>preferred_location_type</th>\n",
       "      <th>total_likes_on_outofstation_checkin_received</th>\n",
       "      <th>week_since_last_outstation_checkin</th>\n",
       "      <th>following_company_page</th>\n",
       "      <th>montly_avg_comment_on_company_page</th>\n",
       "      <th>working_flag</th>\n",
       "      <th>travelling_network_rating</th>\n",
       "      <th>Adult_flag</th>\n",
       "      <th>Daily_Avg_mins_spend_on_traveling_page</th>\n",
       "      <th>Yearly_avg_view_on_travel_page</th>\n",
       "      <th>total_likes_on_outstation_checkin_given</th>\n",
       "      <th>Yearly_avg_comment_on_travel_page</th>\n",
       "    </tr>\n",
       "  </thead>\n",
       "  <tbody>\n",
       "    <tr>\n",
       "      <th>5881</th>\n",
       "      <td>1005882</td>\n",
       "      <td>No</td>\n",
       "      <td>Laptop</td>\n",
       "      <td>8</td>\n",
       "      <td>1</td>\n",
       "      <td>Beach</td>\n",
       "      <td>5142</td>\n",
       "      <td>1</td>\n",
       "      <td>0</td>\n",
       "      <td>33</td>\n",
       "      <td>Yes</td>\n",
       "      <td>4</td>\n",
       "      <td>1</td>\n",
       "      <td>10</td>\n",
       "      <td>379.0</td>\n",
       "      <td>9776.0</td>\n",
       "      <td>64.0</td>\n",
       "    </tr>\n",
       "    <tr>\n",
       "      <th>5883</th>\n",
       "      <td>1005884</td>\n",
       "      <td>No</td>\n",
       "      <td>Laptop</td>\n",
       "      <td>3</td>\n",
       "      <td>4</td>\n",
       "      <td>Beach</td>\n",
       "      <td>2913</td>\n",
       "      <td>1</td>\n",
       "      <td>1</td>\n",
       "      <td>19</td>\n",
       "      <td>No</td>\n",
       "      <td>3</td>\n",
       "      <td>0</td>\n",
       "      <td>8</td>\n",
       "      <td>255.0</td>\n",
       "      <td>48725.0</td>\n",
       "      <td>59.0</td>\n",
       "    </tr>\n",
       "    <tr>\n",
       "      <th>5885</th>\n",
       "      <td>1005886</td>\n",
       "      <td>No</td>\n",
       "      <td>Laptop</td>\n",
       "      <td>2</td>\n",
       "      <td>2</td>\n",
       "      <td>Beach</td>\n",
       "      <td>3074</td>\n",
       "      <td>0</td>\n",
       "      <td>0</td>\n",
       "      <td>23</td>\n",
       "      <td>No</td>\n",
       "      <td>3</td>\n",
       "      <td>0</td>\n",
       "      <td>8</td>\n",
       "      <td>250.0</td>\n",
       "      <td>35184.0</td>\n",
       "      <td>84.0</td>\n",
       "    </tr>\n",
       "    <tr>\n",
       "      <th>5888</th>\n",
       "      <td>1005889</td>\n",
       "      <td>No</td>\n",
       "      <td>Laptop</td>\n",
       "      <td>23</td>\n",
       "      <td>3</td>\n",
       "      <td>Beach</td>\n",
       "      <td>9532</td>\n",
       "      <td>0</td>\n",
       "      <td>0</td>\n",
       "      <td>33</td>\n",
       "      <td>Yes</td>\n",
       "      <td>2</td>\n",
       "      <td>0</td>\n",
       "      <td>10</td>\n",
       "      <td>295.0</td>\n",
       "      <td>7572.0</td>\n",
       "      <td>48.0</td>\n",
       "    </tr>\n",
       "    <tr>\n",
       "      <th>5906</th>\n",
       "      <td>1005907</td>\n",
       "      <td>Yes</td>\n",
       "      <td>Laptop</td>\n",
       "      <td>16</td>\n",
       "      <td>1</td>\n",
       "      <td>Beach</td>\n",
       "      <td>3926</td>\n",
       "      <td>1</td>\n",
       "      <td>1</td>\n",
       "      <td>33</td>\n",
       "      <td>Yes</td>\n",
       "      <td>2</td>\n",
       "      <td>0</td>\n",
       "      <td>10</td>\n",
       "      <td>250.0</td>\n",
       "      <td>39379.0</td>\n",
       "      <td>80.0</td>\n",
       "    </tr>\n",
       "  </tbody>\n",
       "</table>\n",
       "</div>"
      ],
      "text/plain": [
       "       UserID Taken_product preferred_device yearly_avg_Outstation_checkins  \\\n",
       "5881  1005882            No           Laptop                              8   \n",
       "5883  1005884            No           Laptop                              3   \n",
       "5885  1005886            No           Laptop                              2   \n",
       "5888  1005889            No           Laptop                             23   \n",
       "5906  1005907           Yes           Laptop                             16   \n",
       "\n",
       "     member_in_family preferred_location_type  \\\n",
       "5881                1                   Beach   \n",
       "5883                4                   Beach   \n",
       "5885                2                   Beach   \n",
       "5888                3                   Beach   \n",
       "5906                1                   Beach   \n",
       "\n",
       "      total_likes_on_outofstation_checkin_received  \\\n",
       "5881                                          5142   \n",
       "5883                                          2913   \n",
       "5885                                          3074   \n",
       "5888                                          9532   \n",
       "5906                                          3926   \n",
       "\n",
       "      week_since_last_outstation_checkin following_company_page  \\\n",
       "5881                                   1                      0   \n",
       "5883                                   1                      1   \n",
       "5885                                   0                      0   \n",
       "5888                                   0                      0   \n",
       "5906                                   1                      1   \n",
       "\n",
       "      montly_avg_comment_on_company_page working_flag  \\\n",
       "5881                                  33          Yes   \n",
       "5883                                  19           No   \n",
       "5885                                  23           No   \n",
       "5888                                  33          Yes   \n",
       "5906                                  33          Yes   \n",
       "\n",
       "      travelling_network_rating  Adult_flag  \\\n",
       "5881                          4           1   \n",
       "5883                          3           0   \n",
       "5885                          3           0   \n",
       "5888                          2           0   \n",
       "5906                          2           0   \n",
       "\n",
       "      Daily_Avg_mins_spend_on_traveling_page  Yearly_avg_view_on_travel_page  \\\n",
       "5881                                      10                           379.0   \n",
       "5883                                       8                           255.0   \n",
       "5885                                       8                           250.0   \n",
       "5888                                      10                           295.0   \n",
       "5906                                      10                           250.0   \n",
       "\n",
       "      total_likes_on_outstation_checkin_given  \\\n",
       "5881                                   9776.0   \n",
       "5883                                  48725.0   \n",
       "5885                                  35184.0   \n",
       "5888                                   7572.0   \n",
       "5906                                  39379.0   \n",
       "\n",
       "      Yearly_avg_comment_on_travel_page  \n",
       "5881                               64.0  \n",
       "5883                               59.0  \n",
       "5885                               84.0  \n",
       "5888                               48.0  \n",
       "5906                               80.0  "
      ]
     },
     "execution_count": 90,
     "metadata": {},
     "output_type": "execute_result"
    }
   ],
   "source": [
    "df_laptop.head()"
   ]
  },
  {
   "cell_type": "code",
   "execution_count": 91,
   "id": "7e7cc1df",
   "metadata": {
    "id": "7e7cc1df",
    "outputId": "723a4259-a439-4594-8a7a-1acb3b9ea4fa"
   },
   "outputs": [
    {
     "data": {
      "image/png": "[encoded data removed]",
      "text/plain": [
       "<Figure size 504x360 with 2 Axes>"
      ]
     },
     "metadata": {
      "needs_background": "light"
     },
     "output_type": "display_data"
    }
   ],
   "source": [
    "Corr = df_laptop.corr()\n",
    "plt.figure(figsize=(7, 5))\n",
    "corr_vis = sns.heatmap(Corr)"
   ]
  },
  {
   "cell_type": "code",
   "execution_count": 92,
   "id": "757b9d94",
   "metadata": {
    "id": "757b9d94",
    "outputId": "743ae098-48d2-4b79-f90e-9d6cd406020e"
   },
   "outputs": [
    {
     "data": {
      "text/plain": [
       "(1108, 17)"
      ]
     },
     "execution_count": 92,
     "metadata": {},
     "output_type": "execute_result"
    }
   ],
   "source": [
    "df_laptop.shape"
   ]
  },
  {
   "cell_type": "code",
   "execution_count": 93,
   "id": "4f75acca",
   "metadata": {
    "id": "4f75acca",
    "outputId": "51de412e-6393-4394-a916-1c1c0e7ef5b0"
   },
   "outputs": [
    {
     "data": {
      "text/plain": [
       "No     832\n",
       "Yes    276\n",
       "Name: Taken_product, dtype: int64"
      ]
     },
     "execution_count": 93,
     "metadata": {},
     "output_type": "execute_result"
    }
   ],
   "source": [
    "df_laptop['Taken_product'].value_counts()"
   ]
  },
  {
   "cell_type": "code",
   "execution_count": 94,
   "id": "8253b356",
   "metadata": {
    "id": "8253b356",
    "outputId": "fff49f99-2d69-47da-c671-76ac7567e09d"
   },
   "outputs": [
    {
     "name": "stdout",
     "output_type": "stream",
     "text": [
      "<class 'pandas.core.frame.DataFrame'>\n",
      "Int64Index: 1108 entries, 5881 to 11758\n",
      "Data columns (total 17 columns):\n",
      " #   Column                                        Non-Null Count  Dtype  \n",
      "---  ------                                        --------------  -----  \n",
      " 0   UserID                                        1108 non-null   int64  \n",
      " 1   Taken_product                                 1108 non-null   object \n",
      " 2   preferred_device                              1108 non-null   object \n",
      " 3   yearly_avg_Outstation_checkins                1108 non-null   object \n",
      " 4   member_in_family                              1108 non-null   object \n",
      " 5   preferred_location_type                       1108 non-null   object \n",
      " 6   total_likes_on_outofstation_checkin_received  1108 non-null   int64  \n",
      " 7   week_since_last_outstation_checkin            1108 non-null   int64  \n",
      " 8   following_company_page                        1108 non-null   object \n",
      " 9   montly_avg_comment_on_company_page            1108 non-null   int64  \n",
      " 10  working_flag                                  1108 non-null   object \n",
      " 11  travelling_network_rating                     1108 non-null   int64  \n",
      " 12  Adult_flag                                    1108 non-null   int64  \n",
      " 13  Daily_Avg_mins_spend_on_traveling_page        1108 non-null   int64  \n",
      " 14  Yearly_avg_view_on_travel_page                1108 non-null   float64\n",
      " 15  total_likes_on_outstation_checkin_given       1108 non-null   float64\n",
      " 16  Yearly_avg_comment_on_travel_page             1108 non-null   float64\n",
      "dtypes: float64(3), int64(7), object(7)\n",
      "memory usage: 155.8+ KB\n"
     ]
    }
   ],
   "source": [
    "df_laptop.info()"
   ]
  },
  {
   "cell_type": "code",
   "execution_count": 95,
   "id": "86c98989",
   "metadata": {
    "id": "86c98989",
    "outputId": "f3cf2534-aec8-460e-d2a3-195d22f8bd79"
   },
   "outputs": [
    {
     "data": {
      "text/plain": [
       "Index(['UserID', 'total_likes_on_outofstation_checkin_received',\n",
       "       'week_since_last_outstation_checkin',\n",
       "       'montly_avg_comment_on_company_page', 'travelling_network_rating',\n",
       "       'Adult_flag', 'Daily_Avg_mins_spend_on_traveling_page',\n",
       "       'Yearly_avg_view_on_travel_page',\n",
       "       'total_likes_on_outstation_checkin_given',\n",
       "       'Yearly_avg_comment_on_travel_page'],\n",
       "      dtype='object')"
      ]
     },
     "execution_count": 95,
     "metadata": {},
     "output_type": "execute_result"
    }
   ],
   "source": [
    "df_lap_numerical_features = df_laptop.select_dtypes(exclude='object')\n",
    "df_lap_numerical_features.columns"
   ]
  },
  {
   "cell_type": "code",
   "execution_count": 96,
   "id": "88819343",
   "metadata": {
    "id": "88819343",
    "outputId": "79303c5e-ea8e-417b-eb8d-64ecd17b568e"
   },
   "outputs": [
    {
     "data": {
      "image/png": "[encoded data removed]",
      "text/plain": [
       "<Figure size 1152x648 with 1 Axes>"
      ]
     },
     "metadata": {
      "needs_background": "light"
     },
     "output_type": "display_data"
    }
   ],
   "source": [
    "plt.figure(figsize=(16, 9))\n",
    "sns.boxplot(data=df_laptop)\n",
    "plt.xticks(rotation='vertical')\n",
    "plt.show()"
   ]
  },
  {
   "cell_type": "code",
   "execution_count": 97,
   "id": "918fb357",
   "metadata": {
    "id": "918fb357",
    "outputId": "76eb62e3-591b-4fb0-8b15-29fc4c8e293c"
   },
   "outputs": [
    {
     "data": {
      "image/png": "[encoded data removed]",
      "text/plain": [
       "<Figure size 432x288 with 1 Axes>"
      ]
     },
     "metadata": {
      "needs_background": "light"
     },
     "output_type": "display_data"
    }
   ],
   "source": [
    "boxplot = df_laptop.boxplot(column=['total_likes_on_outofstation_checkin_received'])"
   ]
  },
  {
   "cell_type": "code",
   "execution_count": 98,
   "id": "322e73a4",
   "metadata": {
    "id": "322e73a4",
    "outputId": "d32c1dcb-b59c-4601-a58d-718788a9d00f"
   },
   "outputs": [
    {
     "data": {
      "image/png": "[encoded data removed]",
      "text/plain": [
       "<Figure size 432x288 with 1 Axes>"
      ]
     },
     "metadata": {
      "needs_background": "light"
     },
     "output_type": "display_data"
    }
   ],
   "source": [
    "boxplot = df_laptop.boxplot(column=['Yearly_avg_comment_on_travel_page'])"
   ]
  },
  {
   "cell_type": "markdown",
   "id": "80628623",
   "metadata": {
    "id": "80628623"
   },
   "source": [
    "# IQR to handle outliers"
   ]
  },
  {
   "cell_type": "code",
   "execution_count": 99,
   "id": "294c95c4",
   "metadata": {
    "id": "294c95c4"
   },
   "outputs": [],
   "source": [
    "# Q1=df_mobile[‘hp’].quantile(0.25)\n",
    "# Q3=df[‘hp’].quantile(0.75)\n",
    "# IQR=Q3-Q1\n",
    "# print(Q1)\n",
    "# print(Q3)\n",
    "# print(IQR)\n",
    "# Lower_Whisker = Q1–1.5*IQR\n",
    "# Upper_Whisker = Q3+1.5*IQR\n",
    "# print(Lower_Whisker, Upper_Whisker)"
   ]
  },
  {
   "cell_type": "code",
   "execution_count": null,
   "id": "17bd3423",
   "metadata": {
    "id": "17bd3423"
   },
   "outputs": [],
   "source": []
  },
  {
   "cell_type": "code",
   "execution_count": 100,
   "id": "7574b95a",
   "metadata": {
    "id": "7574b95a",
    "outputId": "4166f4a7-e033-400a-d604-0c8bc3661e8e"
   },
   "outputs": [
    {
     "name": "stderr",
     "output_type": "stream",
     "text": [
      "C:\\Users\\LUCKY\\AppData\\Local\\Temp\\ipykernel_7636\\2617305354.py:5: SettingWithCopyWarning: \n",
      "A value is trying to be set on a copy of a slice from a DataFrame.\n",
      "Try using .loc[row_indexer,col_indexer] = value instead\n",
      "\n",
      "See the caveats in the documentation: https://pandas.pydata.org/pandas-docs/stable/user_guide/indexing.html#returning-a-view-versus-a-copy\n",
      "  df_laptop['preferred_location_type'] = label_encoder.fit_transform(df_laptop['preferred_location_type'])\n",
      "C:\\Users\\LUCKY\\AppData\\Local\\Temp\\ipykernel_7636\\2617305354.py:6: SettingWithCopyWarning: \n",
      "A value is trying to be set on a copy of a slice from a DataFrame.\n",
      "Try using .loc[row_indexer,col_indexer] = value instead\n",
      "\n",
      "See the caveats in the documentation: https://pandas.pydata.org/pandas-docs/stable/user_guide/indexing.html#returning-a-view-versus-a-copy\n",
      "  df_laptop['preferred_device'] = label_encoder.fit_transform(df_laptop['preferred_device'])\n",
      "C:\\Users\\LUCKY\\AppData\\Local\\Temp\\ipykernel_7636\\2617305354.py:7: SettingWithCopyWarning: \n",
      "A value is trying to be set on a copy of a slice from a DataFrame.\n",
      "Try using .loc[row_indexer,col_indexer] = value instead\n",
      "\n",
      "See the caveats in the documentation: https://pandas.pydata.org/pandas-docs/stable/user_guide/indexing.html#returning-a-view-versus-a-copy\n",
      "  df_laptop['Taken_product'] = label_encoder.fit_transform(df_laptop['Taken_product'])\n",
      "C:\\Users\\LUCKY\\AppData\\Local\\Temp\\ipykernel_7636\\2617305354.py:8: SettingWithCopyWarning: \n",
      "A value is trying to be set on a copy of a slice from a DataFrame.\n",
      "Try using .loc[row_indexer,col_indexer] = value instead\n",
      "\n",
      "See the caveats in the documentation: https://pandas.pydata.org/pandas-docs/stable/user_guide/indexing.html#returning-a-view-versus-a-copy\n",
      "  df_laptop['working_flag'] = label_encoder.fit_transform(df_laptop['working_flag'])\n"
     ]
    },
    {
     "data": {
      "text/plain": [
       "0    832\n",
       "1    276\n",
       "Name: Taken_product, dtype: int64"
      ]
     },
     "execution_count": 100,
     "metadata": {},
     "output_type": "execute_result"
    }
   ],
   "source": [
    "#Label encoding laptop dataset\n",
    "\n",
    "from sklearn.preprocessing import LabelEncoder\n",
    "label_encoder = LabelEncoder()\n",
    "df_laptop['preferred_location_type'] = label_encoder.fit_transform(df_laptop['preferred_location_type'])\n",
    "df_laptop['preferred_device'] = label_encoder.fit_transform(df_laptop['preferred_device'])\n",
    "df_laptop['Taken_product'] = label_encoder.fit_transform(df_laptop['Taken_product'])\n",
    "df_laptop['working_flag'] = label_encoder.fit_transform(df_laptop['working_flag'])\n",
    "\n",
    "df_laptop['Taken_product'].value_counts()"
   ]
  },
  {
   "cell_type": "code",
   "execution_count": 101,
   "id": "123c2a11",
   "metadata": {
    "id": "123c2a11",
    "outputId": "967d7ea2-cac3-4f61-f55a-a92e0bea615c"
   },
   "outputs": [
    {
     "name": "stderr",
     "output_type": "stream",
     "text": [
      "C:\\Users\\LUCKY\\AppData\\Local\\Temp\\ipykernel_7636\\2634003045.py:3: SettingWithCopyWarning: \n",
      "A value is trying to be set on a copy of a slice from a DataFrame\n",
      "\n",
      "See the caveats in the documentation: https://pandas.pydata.org/pandas-docs/stable/user_guide/indexing.html#returning-a-view-versus-a-copy\n",
      "  df_laptop.drop(['preferred_device'], axis = 1, inplace = True)\n",
      "C:\\Users\\LUCKY\\AppData\\Local\\Temp\\ipykernel_7636\\2634003045.py:4: SettingWithCopyWarning: \n",
      "A value is trying to be set on a copy of a slice from a DataFrame\n",
      "\n",
      "See the caveats in the documentation: https://pandas.pydata.org/pandas-docs/stable/user_guide/indexing.html#returning-a-view-versus-a-copy\n",
      "  df_laptop.drop(['UserID'], axis = 1, inplace = True)\n"
     ]
    }
   ],
   "source": [
    "#We do not need the preferred device column as we have only laptop\n",
    "\n",
    "df_laptop.drop(['preferred_device'], axis = 1, inplace = True)\n",
    "df_laptop.drop(['UserID'], axis = 1, inplace = True)"
   ]
  },
  {
   "cell_type": "code",
   "execution_count": 102,
   "id": "8b227668",
   "metadata": {
    "id": "8b227668",
    "outputId": "bd51cebc-dc5e-4f36-e753-cc9a09b60e63"
   },
   "outputs": [
    {
     "data": {
      "text/html": [
       "<div>\n",
       "<style scoped>\n",
       "    .dataframe tbody tr th:only-of-type {\n",
       "        vertical-align: middle;\n",
       "    }\n",
       "\n",
       "    .dataframe tbody tr th {\n",
       "        vertical-align: top;\n",
       "    }\n",
       "\n",
       "    .dataframe thead th {\n",
       "        text-align: right;\n",
       "    }\n",
       "</style>\n",
       "<table border=\"1\" class=\"dataframe\">\n",
       "  <thead>\n",
       "    <tr style=\"text-align: right;\">\n",
       "      <th></th>\n",
       "      <th>Taken_product</th>\n",
       "    </tr>\n",
       "  </thead>\n",
       "  <tbody>\n",
       "    <tr>\n",
       "      <th>0</th>\n",
       "      <td>1</td>\n",
       "    </tr>\n",
       "    <tr>\n",
       "      <th>1</th>\n",
       "      <td>0</td>\n",
       "    </tr>\n",
       "    <tr>\n",
       "      <th>2</th>\n",
       "      <td>1</td>\n",
       "    </tr>\n",
       "    <tr>\n",
       "      <th>3</th>\n",
       "      <td>0</td>\n",
       "    </tr>\n",
       "    <tr>\n",
       "      <th>4</th>\n",
       "      <td>0</td>\n",
       "    </tr>\n",
       "    <tr>\n",
       "      <th>...</th>\n",
       "      <td>...</td>\n",
       "    </tr>\n",
       "    <tr>\n",
       "      <th>11753</th>\n",
       "      <td>0</td>\n",
       "    </tr>\n",
       "    <tr>\n",
       "      <th>11754</th>\n",
       "      <td>0</td>\n",
       "    </tr>\n",
       "    <tr>\n",
       "      <th>11756</th>\n",
       "      <td>0</td>\n",
       "    </tr>\n",
       "    <tr>\n",
       "      <th>11757</th>\n",
       "      <td>0</td>\n",
       "    </tr>\n",
       "    <tr>\n",
       "      <th>11759</th>\n",
       "      <td>0</td>\n",
       "    </tr>\n",
       "  </tbody>\n",
       "</table>\n",
       "<p>10390 rows × 1 columns</p>\n",
       "</div>"
      ],
      "text/plain": [
       "       Taken_product\n",
       "0                  1\n",
       "1                  0\n",
       "2                  1\n",
       "3                  0\n",
       "4                  0\n",
       "...              ...\n",
       "11753              0\n",
       "11754              0\n",
       "11756              0\n",
       "11757              0\n",
       "11759              0\n",
       "\n",
       "[10390 rows x 1 columns]"
      ]
     },
     "execution_count": 102,
     "metadata": {},
     "output_type": "execute_result"
    }
   ],
   "source": [
    "#Locking x and y for train test split\n",
    "Y_lap = df_mobile.iloc[:,:1]\n",
    "X_lap = df_mobile.iloc[:,1:]\n",
    "Y_lap"
   ]
  },
  {
   "cell_type": "code",
   "execution_count": 103,
   "id": "58bc3811",
   "metadata": {
    "id": "58bc3811"
   },
   "outputs": [],
   "source": [
    "#train test split of laptop dataset\n",
    "\n",
    "from sklearn.model_selection import train_test_split\n",
    "(X_train_lap, X_test_lap, Y_train_lap, Y_test_lap) = train_test_split(X_lap, Y_lap, train_size = 0.8)"
   ]
  },
  {
   "cell_type": "code",
   "execution_count": 104,
   "id": "bfb4e0fd",
   "metadata": {
    "id": "bfb4e0fd"
   },
   "outputs": [],
   "source": [
    "#Label encoding mobile dataset\n",
    "\n",
    "from sklearn.preprocessing import LabelEncoder\n",
    "label_encoder = LabelEncoder()\n",
    "df_mobile['preferred_location_type'] = label_encoder.fit_transform(df_mobile['preferred_location_type'])\n",
    "df_mobile['preferred_device'] = label_encoder.fit_transform(df_mobile['preferred_device'])\n",
    "df_mobile['Taken_product'] = label_encoder.fit_transform(df_mobile['Taken_product'])\n",
    "df_mobile['working_flag'] = label_encoder.fit_transform(df_mobile['working_flag'])\n",
    "\n",
    "df_mobile['Taken_product'].value_counts()"
   ]
  },
  {
   "cell_type": "code",
   "execution_count": 105,
   "id": "c7c25f38",
   "metadata": {
    "id": "c7c25f38",
    "outputId": "8fda458c-3c4c-4f39-b9d5-b7f9a794fa49"
   },
   "outputs": [
    {
     "data": {
      "text/plain": [
       "<AxesSubplot:>"
      ]
     },
     "execution_count": 105,
     "metadata": {},
     "output_type": "execute_result"
    },
    {
     "data": {
      "image/png": "[encoded data removed]",
      "text/plain": [
       "<Figure size 432x288 with 1 Axes>"
      ]
     },
     "metadata": {
      "needs_background": "light"
     },
     "output_type": "display_data"
    }
   ],
   "source": [
    "X_train_lap_sc.boxplot(column=['total_likes_on_outofstation_checkin_received'])"
   ]
  },
  {
   "cell_type": "code",
   "execution_count": 106,
   "id": "6466e76a",
   "metadata": {
    "id": "6466e76a",
    "outputId": "26fa079e-6096-4bbb-e0a0-e3c3f963a631"
   },
   "outputs": [
    {
     "name": "stderr",
     "output_type": "stream",
     "text": [
      "E:\\DATA SCIENCE\\anaconda\\lib\\site-packages\\sklearn\\utils\\validation.py:993: DataConversionWarning: A column-vector y was passed when a 1d array was expected. Please change the shape of y to (n_samples, ), for example using ravel().\n",
      "  y = column_or_1d(y, warn=True)\n"
     ]
    },
    {
     "data": {
      "text/plain": [
       "LogisticRegression()"
      ]
     },
     "execution_count": 106,
     "metadata": {},
     "output_type": "execute_result"
    }
   ],
   "source": [
    "#using logistic regression\n",
    "\n",
    "from sklearn.linear_model import LogisticRegression\n",
    "logisticRegr = LogisticRegression()\n",
    "logisticRegr.fit(X_train_lap_sc, Y_train_lap)"
   ]
  },
  {
   "cell_type": "code",
   "execution_count": 107,
   "id": "9957965d",
   "metadata": {
    "id": "9957965d",
    "outputId": "a2dea80d-249f-4af3-c6ec-6e4bd12a7932"
   },
   "outputs": [
    {
     "name": "stdout",
     "output_type": "stream",
     "text": [
      "0.8508180943214629\n"
     ]
    }
   ],
   "source": [
    "# Use score method to get accuracy of model\n",
    "\n",
    "score = logisticRegr.score(X_test_lap, Y_test_lap)\n",
    "print(score)"
   ]
  },
  {
   "cell_type": "code",
   "execution_count": 108,
   "id": "6abf0d4c",
   "metadata": {
    "id": "6abf0d4c",
    "outputId": "1d3c2c1d-66e2-4b0c-a4a2-1dc81d30ba0c"
   },
   "outputs": [
    {
     "data": {
      "text/plain": [
       "array([0, 0, 0, ..., 0, 0, 0])"
      ]
     },
     "execution_count": 108,
     "metadata": {},
     "output_type": "execute_result"
    }
   ],
   "source": [
    "#checking the output of logistic regression\n",
    "\n",
    "LR_lap_pred = logisticRegr.predict(X_test_lap)\n",
    "LR_lap_pred"
   ]
  },
  {
   "cell_type": "code",
   "execution_count": 109,
   "id": "84b156e7",
   "metadata": {
    "id": "84b156e7",
    "outputId": "76b4d227-9707-4084-c39e-d2eb7e4955e1"
   },
   "outputs": [
    {
     "name": "stdout",
     "output_type": "stream",
     "text": [
      "[[1768    0]\n",
      " [ 310    0]]\n"
     ]
    }
   ],
   "source": [
    "from sklearn.metrics import confusion_matrix\n",
    "LR_cm_lap = confusion_matrix(Y_test_lap, LR_lap_pred)\n",
    "print(LR_cm_lap)"
   ]
  },
  {
   "cell_type": "code",
   "execution_count": 110,
   "id": "d8fd7cf6",
   "metadata": {
    "id": "d8fd7cf6",
    "outputId": "8df0a017-e101-4963-e1ee-a348296a8e2a"
   },
   "outputs": [
    {
     "data": {
      "image/png": "[encoded data removed]",
      "text/plain": [
       "<Figure size 648x648 with 2 Axes>"
      ]
     },
     "metadata": {
      "needs_background": "light"
     },
     "output_type": "display_data"
    }
   ],
   "source": [
    "#plotting the confusion matrix visually\n",
    "\n",
    "plt.figure(figsize=(9,9))\n",
    "sns.heatmap(LR_cm_lap, annot=True, fmt=\".3f\", linewidths=.5, square = True, cmap = 'YlGnBu');\n",
    "plt.ylabel('Actual label');\n",
    "plt.xlabel('Predicted label');\n",
    "all_sample_title = 'Accuracy Score: {0}'.format(score)\n",
    "plt.title(all_sample_title, size = 15);"
   ]
  },
  {
   "cell_type": "code",
   "execution_count": 111,
   "id": "06bcacb5",
   "metadata": {
    "id": "06bcacb5",
    "outputId": "62e6540f-51e8-47eb-dc4a-ba95479ddd86"
   },
   "outputs": [
    {
     "name": "stdout",
     "output_type": "stream",
     "text": [
      "              precision    recall  f1-score   support\n",
      "\n",
      "           0       0.85      1.00      0.92      1768\n",
      "           1       0.00      0.00      0.00       310\n",
      "\n",
      "    accuracy                           0.85      2078\n",
      "   macro avg       0.43      0.50      0.46      2078\n",
      "weighted avg       0.72      0.85      0.78      2078\n",
      "\n"
     ]
    },
    {
     "name": "stderr",
     "output_type": "stream",
     "text": [
      "E:\\DATA SCIENCE\\anaconda\\lib\\site-packages\\sklearn\\metrics\\_classification.py:1318: UndefinedMetricWarning: Precision and F-score are ill-defined and being set to 0.0 in labels with no predicted samples. Use `zero_division` parameter to control this behavior.\n",
      "  _warn_prf(average, modifier, msg_start, len(result))\n",
      "E:\\DATA SCIENCE\\anaconda\\lib\\site-packages\\sklearn\\metrics\\_classification.py:1318: UndefinedMetricWarning: Precision and F-score are ill-defined and being set to 0.0 in labels with no predicted samples. Use `zero_division` parameter to control this behavior.\n",
      "  _warn_prf(average, modifier, msg_start, len(result))\n",
      "E:\\DATA SCIENCE\\anaconda\\lib\\site-packages\\sklearn\\metrics\\_classification.py:1318: UndefinedMetricWarning: Precision and F-score are ill-defined and being set to 0.0 in labels with no predicted samples. Use `zero_division` parameter to control this behavior.\n",
      "  _warn_prf(average, modifier, msg_start, len(result))\n"
     ]
    }
   ],
   "source": [
    "LR_cr_lap = classification_report(Y_test_lap, LR_lap_pred)\n",
    "print(LR_cr_lap)"
   ]
  },
  {
   "cell_type": "code",
   "execution_count": 112,
   "id": "ebc5082f",
   "metadata": {
    "id": "ebc5082f",
    "outputId": "2fe1016e-3cf4-4f57-c022-31a469120b1f"
   },
   "outputs": [
    {
     "name": "stderr",
     "output_type": "stream",
     "text": [
      "C:\\Users\\LUCKY\\AppData\\Local\\Temp\\ipykernel_7636\\1527812022.py:5: DataConversionWarning: A column-vector y was passed when a 1d array was expected. Please change the shape of y to (n_samples,), for example using ravel().\n",
      "  rf.fit(X_train_lap_sc, Y_train_lap);\n"
     ]
    }
   ],
   "source": [
    "#using the Random classifier for laptop dataset\n",
    "\n",
    "from sklearn.ensemble import RandomForestRegressor\n",
    "rf = RandomForestRegressor(n_estimators = 1000, random_state = 42, oob_score = True)\n",
    "rf.fit(X_train_lap_sc, Y_train_lap);"
   ]
  },
  {
   "cell_type": "code",
   "execution_count": 113,
   "id": "6096f3cb",
   "metadata": {
    "id": "6096f3cb",
    "outputId": "e5551ba0-83ae-4ded-e667-3eb3d4f54ee7"
   },
   "outputs": [
    {
     "data": {
      "text/plain": [
       "array([0., 0., 1., ..., 0., 0., 0.])"
      ]
     },
     "execution_count": 113,
     "metadata": {},
     "output_type": "execute_result"
    }
   ],
   "source": [
    "RF_lap_pred = rf.predict(X_test_lap).round()\n",
    "RF_lap_pred"
   ]
  },
  {
   "cell_type": "code",
   "execution_count": 114,
   "id": "2e545da8",
   "metadata": {
    "id": "2e545da8",
    "outputId": "5da1a6da-55e1-4b1c-843b-32cf7fd4e8e3"
   },
   "outputs": [
    {
     "data": {
      "text/plain": [
       "array([[1365,  403],\n",
       "       [ 137,  173]], dtype=int64)"
      ]
     },
     "execution_count": 114,
     "metadata": {},
     "output_type": "execute_result"
    }
   ],
   "source": [
    "\n",
    "\n",
    "rf_cm_lap = confusion_matrix(Y_test_lap, RF_lap_pred)\n",
    "rf_cm_lap"
   ]
  },
  {
   "cell_type": "code",
   "execution_count": 115,
   "id": "7bcb346c",
   "metadata": {
    "id": "7bcb346c",
    "outputId": "49431daf-2066-4946-906e-7e1230cb3fbf"
   },
   "outputs": [
    {
     "name": "stdout",
     "output_type": "stream",
     "text": [
      "              precision    recall  f1-score   support\n",
      "\n",
      "           0       0.91      0.77      0.83      1768\n",
      "           1       0.30      0.56      0.39       310\n",
      "\n",
      "    accuracy                           0.74      2078\n",
      "   macro avg       0.60      0.67      0.61      2078\n",
      "weighted avg       0.82      0.74      0.77      2078\n",
      "\n"
     ]
    }
   ],
   "source": [
    "from sklearn.metrics import classification_report, confusion_matrix\n",
    "rf_cr_lap=classification_report(Y_test_lap,RF_lap_pred )\n",
    "print(rf_cr_lap)"
   ]
  },
  {
   "cell_type": "markdown",
   "id": "0004cba8",
   "metadata": {
    "id": "0004cba8"
   },
   "source": [
    "The Dataset is imbalanced so we try to balance the dataset using SMOTE technique"
   ]
  },
  {
   "cell_type": "markdown",
   "id": "6afc89dc",
   "metadata": {
    "id": "6afc89dc"
   },
   "source": [
    "## Using SMOTE for Laptop dataset"
   ]
  },
  {
   "cell_type": "code",
   "execution_count": 116,
   "id": "416249a6",
   "metadata": {
    "id": "416249a6",
    "outputId": "39220da1-2be9-46ba-d614-f7b895339bc8"
   },
   "outputs": [
    {
     "data": {
      "text/plain": [
       "0    832\n",
       "1    276\n",
       "Name: Taken_product, dtype: int64"
      ]
     },
     "execution_count": 116,
     "metadata": {},
     "output_type": "execute_result"
    }
   ],
   "source": [
    "df_laptop['Taken_product'].value_counts()"
   ]
  },
  {
   "cell_type": "code",
   "execution_count": 117,
   "id": "302997f1",
   "metadata": {
    "id": "302997f1",
    "outputId": "25ceb5ed-cc46-4d09-bb54-e7cbbcc35c65"
   },
   "outputs": [
    {
     "data": {
      "text/plain": [
       "1    8810\n",
       "0    8810\n",
       "Name: Taken_product, dtype: int64"
      ]
     },
     "execution_count": 117,
     "metadata": {},
     "output_type": "execute_result"
    }
   ],
   "source": [
    "from imblearn.over_sampling import SMOTE\n",
    "smote = SMOTE(sampling_strategy='minority')\n",
    "X_lap_smote,Y_lap_smote = smote.fit_resample(X_lap,Y_lap)\n",
    "\n",
    "Y_lap_smote['Taken_product'].value_counts()"
   ]
  },
  {
   "cell_type": "code",
   "execution_count": 118,
   "id": "f1207cf0",
   "metadata": {
    "id": "f1207cf0"
   },
   "outputs": [],
   "source": [
    "#train test split\n",
    "\n",
    "from sklearn.model_selection import train_test_split\n",
    "(X_train_lap_sm, X_test_lap_sm, Y_train_lap_sm, Y_test_lap_sm) = train_test_split(X_lap_smote, Y_lap_smote)"
   ]
  },
  {
   "cell_type": "code",
   "execution_count": 119,
   "id": "4fb027c9",
   "metadata": {
    "id": "4fb027c9",
    "outputId": "8eac871c-3730-4392-e278-873a03373636"
   },
   "outputs": [
    {
     "name": "stderr",
     "output_type": "stream",
     "text": [
      "E:\\DATA SCIENCE\\anaconda\\lib\\site-packages\\sklearn\\utils\\validation.py:993: DataConversionWarning: A column-vector y was passed when a 1d array was expected. Please change the shape of y to (n_samples, ), for example using ravel().\n",
      "  y = column_or_1d(y, warn=True)\n",
      "E:\\DATA SCIENCE\\anaconda\\lib\\site-packages\\sklearn\\linear_model\\_logistic.py:814: ConvergenceWarning: lbfgs failed to converge (status=1):\n",
      "STOP: TOTAL NO. of ITERATIONS REACHED LIMIT.\n",
      "\n",
      "Increase the number of iterations (max_iter) or scale the data as shown in:\n",
      "    https://scikit-learn.org/stable/modules/preprocessing.html\n",
      "Please also refer to the documentation for alternative solver options:\n",
      "    https://scikit-learn.org/stable/modules/linear_model.html#logistic-regression\n",
      "  n_iter_i = _check_optimize_result(\n"
     ]
    },
    {
     "data": {
      "text/plain": [
       "LogisticRegression()"
      ]
     },
     "execution_count": 119,
     "metadata": {},
     "output_type": "execute_result"
    }
   ],
   "source": [
    "#using logistic regression after SMOTE\n",
    "\n",
    "from sklearn.linear_model import LogisticRegression\n",
    "logisticRegr = LogisticRegression()\n",
    "logisticRegr.fit(X_train_lap_sm, Y_train_lap_sm)"
   ]
  },
  {
   "cell_type": "code",
   "execution_count": 120,
   "id": "ac07215e",
   "metadata": {
    "id": "ac07215e",
    "outputId": "c41bd590-d9d7-4d68-dd6b-78dfb9f50b32"
   },
   "outputs": [
    {
     "name": "stdout",
     "output_type": "stream",
     "text": [
      "0.6124858115777525\n"
     ]
    }
   ],
   "source": [
    "# Use score method to get accuracy of model\n",
    "\n",
    "score = logisticRegr.score(X_test_lap_sm, Y_test_lap_sm)\n",
    "print(score)"
   ]
  },
  {
   "cell_type": "code",
   "execution_count": 121,
   "id": "60a8c71a",
   "metadata": {
    "id": "60a8c71a",
    "outputId": "4536dccb-1f29-43c9-9a5f-48ddae60881f"
   },
   "outputs": [
    {
     "data": {
      "text/plain": [
       "array([0, 1, 0, ..., 0, 0, 0])"
      ]
     },
     "execution_count": 121,
     "metadata": {},
     "output_type": "execute_result"
    }
   ],
   "source": [
    "LR_lap_pred_sm = logisticRegr.predict(X_test_lap_sm)\n",
    "LR_lap_pred_sm"
   ]
  },
  {
   "cell_type": "code",
   "execution_count": 122,
   "id": "6533d439",
   "metadata": {
    "id": "6533d439",
    "outputId": "f6874a23-2cf4-4768-dde6-d9285254a83f"
   },
   "outputs": [
    {
     "name": "stdout",
     "output_type": "stream",
     "text": [
      "[[1277  910]\n",
      " [ 797 1421]]\n"
     ]
    }
   ],
   "source": [
    "from sklearn.metrics import confusion_matrix\n",
    "LR_lap_cm = confusion_matrix(Y_test_lap_sm, LR_lap_pred_sm)\n",
    "print(LR_lap_cm)"
   ]
  },
  {
   "cell_type": "code",
   "execution_count": 123,
   "id": "70c677c2",
   "metadata": {
    "id": "70c677c2",
    "outputId": "80313005-c3d7-4484-ab39-7c2903e12977"
   },
   "outputs": [
    {
     "name": "stdout",
     "output_type": "stream",
     "text": [
      "              precision    recall  f1-score   support\n",
      "\n",
      "           0       0.62      0.58      0.60      2187\n",
      "           1       0.61      0.64      0.62      2218\n",
      "\n",
      "    accuracy                           0.61      4405\n",
      "   macro avg       0.61      0.61      0.61      4405\n",
      "weighted avg       0.61      0.61      0.61      4405\n",
      "\n"
     ]
    }
   ],
   "source": [
    "from sklearn.metrics import classification_report\n",
    "cr_lap = classification_report(Y_test_lap_sm, LR_lap_pred_sm)\n",
    "print(cr_lap)"
   ]
  },
  {
   "cell_type": "code",
   "execution_count": 124,
   "id": "a70072bb",
   "metadata": {
    "id": "a70072bb"
   },
   "outputs": [],
   "source": [
    "# Compute the false positive rate (FPR)\n",
    "# and true positive rate (TPR) for different classification thresholds\n",
    "from sklearn.metrics import roc_curve, roc_auc_score\n",
    "fpr, tpr, thresholds = roc_curve(Y_test_lap_sm, LR_lap_pred_sm, pos_label=1)\n"
   ]
  },
  {
   "cell_type": "code",
   "execution_count": 125,
   "id": "65578ce3",
   "metadata": {
    "id": "65578ce3",
    "outputId": "2db8e211-f2ee-4889-972b-75cf76354f1a"
   },
   "outputs": [
    {
     "data": {
      "text/plain": [
       "0.6122860801778522"
      ]
     },
     "execution_count": 125,
     "metadata": {},
     "output_type": "execute_result"
    }
   ],
   "source": [
    "# Compute the ROC AUC score\n",
    "roc_auc = roc_auc_score(Y_test_lap_sm, LR_lap_pred_sm)\n",
    "roc_auc\n"
   ]
  },
  {
   "cell_type": "code",
   "execution_count": 126,
   "id": "f20c3e67",
   "metadata": {
    "id": "f20c3e67",
    "outputId": "d47ec9e6-c9e1-4b57-a153-32570b40df82"
   },
   "outputs": [
    {
     "data": {
      "image/png": "[encoded data removed]",
      "text/plain": [
       "<Figure size 432x288 with 1 Axes>"
      ]
     },
     "metadata": {
      "needs_background": "light"
     },
     "output_type": "display_data"
    }
   ],
   "source": [
    "# Plot the ROC curve\n",
    "plt.plot(fpr, tpr, label='ROC curve (area = %0.2f)' % roc_auc)\n",
    "# roc curve for tpr = fpr\n",
    "plt.plot([0, 1], [0, 1], 'k--', label='Random classifier')\n",
    "plt.xlabel('False Positive Rate')\n",
    "plt.ylabel('True Positive Rate')\n",
    "plt.title('ROC Curve')\n",
    "plt.legend(loc=\"lower right\")\n",
    "plt.show()\n"
   ]
  },
  {
   "cell_type": "code",
   "execution_count": 127,
   "id": "e35daca7",
   "metadata": {
    "id": "e35daca7",
    "outputId": "313fedcb-de60-4889-af8d-74e6226f235e"
   },
   "outputs": [
    {
     "name": "stderr",
     "output_type": "stream",
     "text": [
      "C:\\Users\\LUCKY\\AppData\\Local\\Temp\\ipykernel_7636\\1451513978.py:3: DataConversionWarning: A column-vector y was passed when a 1d array was expected. Please change the shape of y to (n_samples,), for example using ravel().\n",
      "  rf.fit(X_train_lap_sm, Y_train_lap_sm);\n"
     ]
    }
   ],
   "source": [
    "from sklearn.ensemble import RandomForestRegressor\n",
    "rf = RandomForestRegressor(n_estimators = 100, random_state = 42, oob_score = True)\n",
    "rf.fit(X_train_lap_sm, Y_train_lap_sm);"
   ]
  },
  {
   "cell_type": "code",
   "execution_count": 128,
   "id": "1b4039ec",
   "metadata": {
    "id": "1b4039ec",
    "outputId": "9e32d082-a476-42eb-c3ac-9284d598606d"
   },
   "outputs": [
    {
     "data": {
      "text/plain": [
       "0.9963677639046538"
      ]
     },
     "execution_count": 128,
     "metadata": {},
     "output_type": "execute_result"
    }
   ],
   "source": [
    "from sklearn.metrics import accuracy_score\n",
    "\n",
    "RF_lap_pred_sm = rf.predict(X_test_lap_sm).round()\n",
    "#rf.oob_score_\n",
    "accuracy_score(Y_test_lap_sm, RF_lap_pred_sm)"
   ]
  },
  {
   "cell_type": "code",
   "execution_count": 129,
   "id": "25ad30ea",
   "metadata": {
    "id": "25ad30ea",
    "outputId": "ec932885-4628-42a1-df35-c4930f9ed9f6"
   },
   "outputs": [
    {
     "data": {
      "text/plain": [
       "array([[2177,   10],\n",
       "       [   6, 2212]], dtype=int64)"
      ]
     },
     "execution_count": 129,
     "metadata": {},
     "output_type": "execute_result"
    }
   ],
   "source": [
    "rf_cm_lap_sm = confusion_matrix(Y_test_lap_sm, RF_lap_pred_sm.round())\n",
    "rf_cm_lap_sm"
   ]
  },
  {
   "cell_type": "code",
   "execution_count": 130,
   "id": "2f327672",
   "metadata": {},
   "outputs": [
    {
     "data": {
      "image/png": "[encoded data removed]",
      "text/plain": [
       "<Figure size 432x432 with 2 Axes>"
      ]
     },
     "metadata": {
      "needs_background": "light"
     },
     "output_type": "display_data"
    }
   ],
   "source": [
    "#plotting the confusion matrix visually\n",
    "\n",
    "plt.figure(figsize=(6,6))\n",
    "sns.heatmap(rf_cm_lap_sm, annot=True, fmt=\".3f\", linewidths=.5, square = True, cmap = 'YlGnBu');\n",
    "plt.ylabel('Actual label');\n",
    "plt.xlabel('Predicted label');\n",
    "title = 'Accuracy Score: {0}'.format(score)\n",
    "plt.title(title,size = 15);"
   ]
  },
  {
   "cell_type": "code",
   "execution_count": 131,
   "id": "084b365c",
   "metadata": {
    "id": "084b365c",
    "outputId": "d21972f5-4d37-43ca-e2ee-c3440b711d0c"
   },
   "outputs": [
    {
     "name": "stdout",
     "output_type": "stream",
     "text": [
      "              precision    recall  f1-score   support\n",
      "\n",
      "           0       1.00      1.00      1.00      2187\n",
      "           1       1.00      1.00      1.00      2218\n",
      "\n",
      "    accuracy                           1.00      4405\n",
      "   macro avg       1.00      1.00      1.00      4405\n",
      "weighted avg       1.00      1.00      1.00      4405\n",
      "\n"
     ]
    }
   ],
   "source": [
    "from sklearn.metrics import classification_report, confusion_matrix\n",
    "rf_cr_lap=classification_report(Y_test_lap_sm,RF_lap_pred_sm)\n",
    "print(rf_cr_lap)"
   ]
  },
  {
   "cell_type": "code",
   "execution_count": 132,
   "id": "055dff9f",
   "metadata": {
    "id": "055dff9f"
   },
   "outputs": [],
   "source": [
    "# Compute the false positive rate (FPR)\n",
    "# and true positive rate (TPR) for different classification thresholds\n",
    "from sklearn.metrics import roc_curve, roc_auc_score\n",
    "fpr, tpr, thresholds = roc_curve(Y_test_lap_sm, RF_lap_pred_sm, pos_label=1)\n"
   ]
  },
  {
   "cell_type": "code",
   "execution_count": 133,
   "id": "fafa3778",
   "metadata": {
    "id": "fafa3778",
    "outputId": "392b0d6b-9e08-4865-e8e9-cffa05b5c586"
   },
   "outputs": [
    {
     "data": {
      "text/plain": [
       "0.9963611932630847"
      ]
     },
     "execution_count": 133,
     "metadata": {},
     "output_type": "execute_result"
    }
   ],
   "source": [
    "# Compute the ROC AUC score\n",
    "roc_auc = roc_auc_score(Y_test_lap_sm, RF_lap_pred_sm)\n",
    "roc_auc\n"
   ]
  },
  {
   "cell_type": "code",
   "execution_count": 134,
   "id": "cdda5ed8",
   "metadata": {
    "id": "cdda5ed8",
    "outputId": "27f113a2-9720-4f90-a0e9-69dd0d774524"
   },
   "outputs": [
    {
     "data": {
      "image/png": "[encoded data removed]",
      "text/plain": [
       "<Figure size 432x288 with 1 Axes>"
      ]
     },
     "metadata": {
      "needs_background": "light"
     },
     "output_type": "display_data"
    }
   ],
   "source": [
    "# Plot the ROC curve\n",
    "plt.plot(fpr, tpr, label='ROC curve (area = %0.2f)' % roc_auc)\n",
    "# roc curve for tpr = fpr\n",
    "plt.plot([0, 1], [0, 1], 'k--', label='Random classifier')\n",
    "plt.xlabel('False Positive Rate')\n",
    "plt.ylabel('True Positive Rate')\n",
    "plt.title('ROC Curve')\n",
    "plt.legend(loc=\"lower right\")\n",
    "plt.show()\n"
   ]
  },
  {
   "cell_type": "code",
   "execution_count": 135,
   "id": "76bd269d",
   "metadata": {
    "id": "76bd269d",
    "outputId": "bc3bc583-e7e6-4734-9e01-0876f532dd41"
   },
   "outputs": [
    {
     "data": {
      "image/png": "[encoded data removed]",
      "text/plain": [
       "<Figure size 432x288 with 1 Axes>"
      ]
     },
     "metadata": {
      "needs_background": "light"
     },
     "output_type": "display_data"
    }
   ],
   "source": [
    "# Plot the predicted class probabilities\n",
    "plt.hist(RF_lap_pred_sm, bins=10)\n",
    "plt.xlim(0, 1)\n",
    "plt.title('Histogram of predicted probabilities')\n",
    "plt.xlabel('Predicted probability of Setosa')\n",
    "plt.ylabel('Frequency')\n",
    "plt.show()\n"
   ]
  },
  {
   "cell_type": "code",
   "execution_count": 136,
   "id": "43f44751",
   "metadata": {
    "id": "43f44751",
    "outputId": "76288ef2-d452-4c61-e0dd-f3d4059da6ad"
   },
   "outputs": [
    {
     "name": "stdout",
     "output_type": "stream",
     "text": [
      "0.9956797038082755\n",
      "0.9744515837292502\n"
     ]
    }
   ],
   "source": [
    "print (rf.score(X_train_lap_sm, Y_train_lap_sm))\n",
    "print(rf.score(X_test_lap_sm, Y_test_lap_sm))"
   ]
  },
  {
   "cell_type": "code",
   "execution_count": 137,
   "id": "145676d4",
   "metadata": {
    "id": "145676d4"
   },
   "outputs": [],
   "source": [
    "# print(\"Train Accuracy:\"'accuracy_score(Y_train_lap_sm, rf.predict(training_features'))\n",
    "# #Test Accuracy: accuracy_score(test_target, predictions)\n",
    "# #Confusion Matrix: confusion_matrix(test_target, predictions)"
   ]
  },
  {
   "cell_type": "markdown",
   "id": "5c56df16",
   "metadata": {
    "id": "5c56df16"
   },
   "source": [
    "OBSERVATION:\n",
    "1. After handling the imbalance dataset in laptop data the random forest classifier predicts the output well and the f1-score is good for both the classes.\n",
    "2. So, we have selected Random Forest Classifier for both the mobile and laptop dataset.\n",
    "3. Now finally we will try to predict the output for the new unseen input\n"
   ]
  },
  {
   "cell_type": "code",
   "execution_count": null,
   "id": "b2ab50d8",
   "metadata": {
    "id": "b2ab50d8"
   },
   "outputs": [],
   "source": []
  },
  {
   "cell_type": "code",
   "execution_count": null,
   "id": "f0cc2c5b",
   "metadata": {},
   "outputs": [],
   "source": []
  }
 ],
 "metadata": {
  "colab": {
   "provenance": []
  },
  "kernelspec": {
   "display_name": "Python 3 (ipykernel)",
   "language": "python",
   "name": "python3"
  },
  "language_info": {
   "codemirror_mode": {
    "name": "ipython",
    "version": 3
   },
   "file_extension": ".py",
   "mimetype": "text/x-python",
   "name": "python",
   "nbconvert_exporter": "python",
   "pygments_lexer": "ipython3",
   "version": "3.10.6"
  }
 },
 "nbformat": 4,
 "nbformat_minor": 5
}
